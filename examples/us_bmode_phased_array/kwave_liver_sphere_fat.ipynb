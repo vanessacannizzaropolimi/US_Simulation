{
  "cells": [
    {
      "cell_type": "markdown",
      "metadata": {
        "id": "view-in-github",
        "colab_type": "text"
      },
      "source": [
        "<a href=\"https://colab.research.google.com/github/vanessacannizzaropolimi/US_Simulation/blob/main/examples/us_bmode_phased_array/kwave_liver_sphere_fat.ipynb\" target=\"_parent\"><img src=\"https://colab.research.google.com/assets/colab-badge.svg\" alt=\"Open In Colab\"/></a>"
      ]
    },
    {
      "cell_type": "code",
      "execution_count": null,
      "metadata": {
        "id": "e5VdgY-ZL4Pz"
      },
      "outputs": [],
      "source": [
        "%%capture\n",
        "!pip install git+https://github.com/waltsims/k-wave-python"
      ]
    },
    {
      "cell_type": "code",
      "execution_count": null,
      "metadata": {
        "id": "DhRlOE5gL4P0"
      },
      "outputs": [],
      "source": [
        "from copy import deepcopy\n",
        "\n",
        "import os\n",
        "import numpy as np\n",
        "import scipy.io\n",
        "from scipy.ndimage import zoom\n",
        "from matplotlib.colors import Normalize\n",
        "from matplotlib import pyplot as plt\n",
        "import nibabel as nib\n",
        "\n",
        "from kwave.data import Vector\n",
        "from kwave.kgrid import kWaveGrid\n",
        "from kwave.kmedium import kWaveMedium\n",
        "from kwave.kspaceFirstOrder3D import kspaceFirstOrder3D\n",
        "from kwave.ktransducer import NotATransducer, kWaveTransducerSimple\n",
        "from kwave.options.simulation_execution_options import SimulationExecutionOptions\n",
        "from kwave.options.simulation_options import SimulationOptions\n",
        "from kwave.reconstruction.beamform import envelope_detection, scan_conversion\n",
        "from kwave.reconstruction.tools import log_compression\n",
        "from kwave.utils.conversion import db2neper\n",
        "from kwave.utils.dotdictionary import dotdict\n",
        "from kwave.utils.filters import gaussian_filter\n",
        "from kwave.utils.mapgen import make_ball\n",
        "from kwave.utils.signals import get_win, tone_burst\n",
        "from kwave.utils.conversion import hounsfield2density, hounsfield2soundspeed"
      ]
    },
    {
      "cell_type": "code",
      "execution_count": null,
      "metadata": {
        "id": "Lq1VGc9vL4P1"
      },
      "outputs": [],
      "source": [
        "# simulation settings\n",
        "DATA_CAST = 'single'\n",
        "RUN_SIMULATION = True"
      ]
    },
    {
      "cell_type": "code",
      "execution_count": null,
      "metadata": {
        "id": "blPdzR2hL4P1"
      },
      "outputs": [],
      "source": [
        "\"\"\"Grid and PML\"\"\"\n",
        "pml_size_points = Vector([15, 10, 10])  # [grid points]\n",
        "grid_size_points = Vector([256, 256, 128]) - 2 * pml_size_points  # [grid points]\n",
        "grid_size_meters = 50e-3  # [m]\n",
        "grid_spacing_meters = grid_size_meters / Vector([grid_size_points.x, grid_size_points.x, grid_size_points.x])\n",
        "grid_center = grid_size_points / 2.0\n",
        "\n",
        "\"\"\"Medium\"\"\"\n",
        "c0 = 1540\n",
        "rho0 = 1000\n",
        "\n",
        "medium = kWaveMedium(\n",
        "    sound_speed=None,  # will be set later\n",
        "    # sound_speed_ref=None,\n",
        "    alpha_coeff=0.75,\n",
        "    alpha_power=1.5,\n",
        "    BonA=6\n",
        ")"
      ]
    },
    {
      "cell_type": "code",
      "execution_count": null,
      "metadata": {
        "id": "3yf_k0UdL4P1"
      },
      "outputs": [],
      "source": [
        "kgrid = kWaveGrid(grid_size_points, grid_spacing_meters)\n",
        "t_end = (grid_size_points.x * grid_spacing_meters.x) * 2.2 / c0  # [s]\n",
        "kgrid.makeTime(c0, t_end=t_end)"
      ]
    },
    {
      "cell_type": "code",
      "execution_count": null,
      "metadata": {
        "id": "aTn0VeL-L4P1"
      },
      "outputs": [],
      "source": [
        "source_strength = 1e6  # [Pa]\n",
        "tone_burst_freq = 1e6  # [Hz]\n",
        "tone_burst_cycles = 4\n",
        "\n",
        "input_signal = tone_burst(1 / kgrid.dt, tone_burst_freq, tone_burst_cycles)\n",
        "input_signal = (source_strength / (c0 * rho0)) * input_signal"
      ]
    },
    {
      "cell_type": "code",
      "execution_count": null,
      "metadata": {
        "id": "qweHvmLwL4P2"
      },
      "outputs": [],
      "source": [
        "transducer = dotdict()\n",
        "transducer.number_elements = 64  # total number of transducer elements\n",
        "transducer.element_width = 1  # width of each element [grid points/voxels]\n",
        "transducer.element_length = 40  # length of each element [grid points/voxels]\n",
        "transducer.element_spacing = 0  # spacing (kerf  width) between the elements [grid points/voxels]\n",
        "transducer.radius = float('inf')  # radius of curvature of the transducer [m]\n",
        "\n",
        "# calculate the width of the transducer in grid points\n",
        "transducer_width = transducer.number_elements * transducer.element_width + (\n",
        "        transducer.number_elements - 1) * transducer.element_spacing\n",
        "\n",
        "# use this to position the transducer in the middle of the computational grid\n",
        "transducer.position = np.round([\n",
        "    1,\n",
        "    grid_size_points.y / 2 - transducer_width / 2,\n",
        "    grid_size_points.z / 2 - transducer.element_length / 2\n",
        "])\n",
        "transducer = kWaveTransducerSimple(kgrid, **transducer)"
      ]
    },
    {
      "cell_type": "code",
      "execution_count": null,
      "metadata": {
        "id": "2fl_0u-DL4P2"
      },
      "outputs": [],
      "source": [
        "not_transducer = dotdict()\n",
        "not_transducer.sound_speed = c0  # sound speed [m/s]\n",
        "not_transducer.focus_distance = 30e-3  # focus distance [m]\n",
        "not_transducer.elevation_focus_distance = 30e-3  # focus distance in the elevation plane [m]\n",
        "not_transducer.steering_angle = 0  # steering angle [degrees]\n",
        "not_transducer.steering_angle_max = 32  # steering angle [degrees]\n",
        "not_transducer.transmit_apodization = 'Hanning'\n",
        "not_transducer.receive_apodization = 'Rectangular'\n",
        "not_transducer.active_elements = np.ones((transducer.number_elements, 1))\n",
        "not_transducer.input_signal = input_signal\n",
        "\n",
        "not_transducer = NotATransducer(transducer, kgrid, **not_transducer)"
      ]
    },
    {
      "cell_type": "code",
      "execution_count": null,
      "metadata": {
        "id": "ohbiFO90L4P2"
      },
      "outputs": [],
      "source": [
        "\"\"\"Background\"\"\"\n",
        "# define a random distribution of scatterers for the background\n",
        "background_map_mean = 1\n",
        "background_map_std = 0.008\n",
        "background_map = background_map_mean + background_map_std * np.random.randn(kgrid.Nx, kgrid.Ny, kgrid.Nz)\n",
        "sound_speed_map_background = c0 * background_map\n",
        "print(\"DEBUG: BACKGROUND\")\n",
        "print(\"Minimum SOUND SPEED in BACKGROUND: \", sound_speed_map_background.min())\n",
        "print(\"Maximum SOUND SPEED in BACKGROUND: \", sound_speed_map_background.max())\n",
        "density_map_background = rho0 * background_map\n",
        "print(\"Minimum DENSITY in BACKGROUND: \", density_map_background.min())\n",
        "print(\"Maximum DENSITY in BACKGROUND: \", density_map_background.max())\n",
        "\n",
        "\"\"\"Spheric scattering phantom\"\"\"\n",
        "# define a random distribution of scatterers for the medium\n",
        "sound_speed_map_phantom = sound_speed_map_background.copy()\n",
        "density_map_phantom = density_map_background.copy()\n",
        "# define a random distribution of scatterers for the highly scattering region\n",
        "scattering_map_phantom = np.random.randn(kgrid.Nx, kgrid.Ny, kgrid.Nz)\n",
        "scattering_c0 = np.clip(c0 + 25 + 75 * scattering_map_phantom, 1400, 1600)\n",
        "scattering_rho0 = scattering_c0 / 1.5\n",
        "# define a sphere for a highly scattering region\n",
        "radius = 9e-3\n",
        "# x_pos = 32e-3\n",
        "# y_pos = kgrid.dy * kgrid.Ny / 2\n",
        "# z_pos = kgrid.dz * kgrid.Nz / 2\n",
        "ball_center = np.round(Vector(grid_center))\n",
        "# ball_center = np.round(Vector([x_pos, y_pos, z_pos]) / kgrid.dx)\n",
        "scattering_region_phantom = make_ball(grid_size_points, ball_center, round(radius / kgrid.dx)).nonzero()\n",
        "print(\"DEBUG: SPHERIC PHANTOM\")\n",
        "print(\"Minimum SOUND SPEED in SPHERIC PHANTOM: \", scattering_c0[scattering_region_phantom].min())\n",
        "print(\"Maximum SOUND SPEED in SPHERIC PHANTOM: \", scattering_c0[scattering_region_phantom].max())\n",
        "print(\"Minimum DENSITY in SPHERIC PHANTOM: \", scattering_rho0[scattering_region_phantom].min())\n",
        "print(\"Maximum DENSITY in SPHERIC PHANTOM: \", scattering_rho0[scattering_region_phantom].max())\n",
        "# define maps\n",
        "sound_speed_map_phantom[scattering_region_phantom] = scattering_c0[scattering_region_phantom]\n",
        "density_map_phantom[scattering_region_phantom] = scattering_rho0[scattering_region_phantom]\n",
        "print(\"Minimum SOUND SPEED in SPHERIC PHANTOM + BACKGROUND: \", sound_speed_map_phantom.min())\n",
        "print(\"Maximum SOUND SPEED in SPHERIC PHANTOM + BACKGROUND: \", sound_speed_map_phantom.max())\n",
        "print(\"Minimum DENSITY in SPHERIC PHANTOM + BACKGROUND: \", density_map_phantom.min())\n",
        "print(\"Maximum DENSITY in SPHERIC PHANTOM + BACKGROUND: \", density_map_phantom.max())\n",
        "\n",
        "\"\"\"CT volume\"\"\"\n",
        "# scattering medium from cropped CT file (liver)\n",
        "DATA_DIR_CT = os.path.join(\"..\", \"data\", \"ROI\")\n",
        "FILENAME_CT = \"volumeCropped.nii\"\n",
        "ct_path  = os.path.join(DATA_DIR_CT, FILENAME_CT)\n",
        "ct_img = nib.load(ct_path)\n",
        "ct_vol = ct_img.get_fdata()\n",
        "ct_zooms  = np.array(ct_img.header.get_zooms()) # mm/voxel\n",
        "ct_shape  = np.array(ct_vol.shape)              # voxels\n",
        "phys_size_ct = ct_shape * ct_zooms              # mm\n",
        "print(\"DEBUG: CT VOLUME RESAMPLING\")\n",
        "print(\"CT resolution in mm/voxel: \", ct_zooms)\n",
        "print(\"CT dimensons in voxel: \", ct_shape)\n",
        "print(\"CT dimensons in mm: \", phys_size_ct)\n",
        "# k-Wave grid\n",
        "dx, dy, dz = kgrid.dx*1e3, kgrid.dy*1e3, kgrid.dz*1e3\n",
        "grid_zooms = np.array([dx, dy, dz])\n",
        "phys_size_grid = grid_size_points * grid_zooms\n",
        "print(\"Grid resolution in mm/voxel: \", grid_zooms)\n",
        "print(\"Grid dimensons in voxel: \", grid_size_points)\n",
        "print(\"Grid dimensons in mm: \", phys_size_grid)\n",
        "# resampling: CT resolution -> grid resolution\n",
        "zoom_factor = ct_zooms / grid_zooms\n",
        "ct_resamp = zoom(ct_vol, zoom_factor, order=1).astype(np.float32)\n",
        "ct_resamp_shape = np.array(ct_resamp.shape, dtype = int)\n",
        "# print(\"Zoom factor: \", zoom_factor)\n",
        "print(\"CT dimensons in voxel AFTER RESAMPLING: \", ct_resamp_shape)\n",
        "if np.any(ct_resamp_shape > grid_size_points):\n",
        "    raise ValueError(f\"CT ({ct_resamp_shape}) does not fit in grid ({grid_size_points})\")\n",
        "# CT maps\n",
        "sound_speed_cube = hounsfield2soundspeed(ct_resamp).astype(np.float32)\n",
        "# print(\"Sound speed cube dimensions in voxels: \", sound_speed_cube.shape)\n",
        "print(\"DEBUG: CT VOLUME\")\n",
        "print(\"Minimum SOUND SPEED in CT: \", sound_speed_cube.min())\n",
        "print(\"Maximum SOUND SPEED in CT: \", sound_speed_cube.max())\n",
        "density_cube = hounsfield2density(ct_resamp, plot_fitting=False).astype(np.float32)\n",
        "print(\"Minimum DENSITY in CT: \", density_cube.min())\n",
        "print(\"Maximum DENSITY in CT: \", density_cube.max())\n",
        "# build spheric region\n",
        "ct_ball_center = np.round(Vector(ct_resamp_shape/2.0))\n",
        "ct_ball = make_ball(Vector(ct_resamp_shape), ct_ball_center, round(radius / kgrid.dx)).nonzero()\n",
        "# build maps\n",
        "sound_speed_map = sound_speed_map_background.copy()\n",
        "density_map = density_map_background.copy()\n",
        "sound_speed_map[scattering_region_phantom] = sound_speed_cube[ct_ball]\n",
        "density_map[scattering_region_phantom] = density_cube[ct_ball]\n",
        "\n",
        "\"\"\"Add noise to CT\"\"\"\n",
        "# build noise for CT\n",
        "ct_map_mean = 1\n",
        "ct_map_std = 0.008\n",
        "ct_noise = ct_map_mean + ct_map_std * np.random.randn(*sound_speed_cube[ct_ball].shape)\n",
        "# add noise on CT maps\n",
        "sound_speed_sphere_noise = sound_speed_cube[ct_ball] * ct_noise\n",
        "density_sphere_noise = density_cube[ct_ball] * ct_noise\n",
        "# build map\n",
        "sound_speed_map_noise = sound_speed_map_background.copy()\n",
        "density_map_noise = density_map_background.copy()\n",
        "sound_speed_map_noise[scattering_region_phantom] = sound_speed_sphere_noise\n",
        "density_map_noise[scattering_region_phantom] = density_sphere_noise\n",
        "print(\"DEBUG: CT + NOISE\")\n",
        "print(\"Minimum SOUND SPEED in CT NOISE: \", sound_speed_sphere_noise.min())\n",
        "print(\"Maximum SOUND SPEED in CT NOISE: \", sound_speed_sphere_noise.max())\n",
        "print(\"Minimum DENSITY in CT NOISE: \", density_sphere_noise.min())\n",
        "print(\"Maximum DENSITY in CT NOISE: \", density_sphere_noise.max())\n",
        "\n",
        "\"\"\"\"DA RIVEDERE!!!\"\"\"\n",
        "# --- INIZIO: layer di “grasso” intorno alla sfera CT -----------------\n",
        "\n",
        "# Parametri del grasso\n",
        "fat_speed   = 1450.0    # m/s\n",
        "fat_density = 950.0     # kg/m³\n",
        "\n",
        "# Spessore del guscio in metri (es. 2 mm)\n",
        "shell_thickness = 2e-3\n",
        "\n",
        "# Conversione spessori in voxel\n",
        "radius_idx       = round(radius / kgrid.dx)\n",
        "thickness_idx    = round(shell_thickness / kgrid.dx)\n",
        "outer_radius_idx = radius_idx + thickness_idx\n",
        "\n",
        "# Centro della sfera CT in indici di griglia (già definito come `ball_center`)\n",
        "ix, iy, iz = np.indices(sound_speed_map.shape)\n",
        "distances = np.sqrt(\n",
        "    (ix - ball_center[0])**2 +\n",
        "    (iy - ball_center[1])**2 +\n",
        "    (iz - ball_center[2])**2\n",
        ")\n",
        "\n",
        "# Maschera del guscio: tra bordo sfera e bordo esterno del layer\n",
        "shell_mask = (distances > radius_idx) & (distances <= outer_radius_idx)\n",
        "\n",
        "# Applico proprietà del grasso sia alla mappa pulita che a quella con rumore\n",
        "for m, v in [(sound_speed_map, fat_speed),\n",
        "             (density_map,    fat_density),\n",
        "             (sound_speed_map_noise, fat_speed),\n",
        "             (density_map_noise,    fat_density)]:\n",
        "    m[shell_mask] = v\n",
        "\n",
        "\"\"\"Conversion to HU\"\"\"\n",
        "# ——————————————————————————————————————————————————————————\n",
        "# Assumptions: earlier in your script you have these variables defined:\n",
        "#   ct_resamp            # CT volume already in HU, resampled onto the k-Wave grid\n",
        "#   density_map          # full CT-based density map (background + CT) in kg/m³\n",
        "#   density_map_ball     # full spherical-phantom density map in kg/m³\n",
        "#   sx, ex, sy, ey, sz, ez  # integer indices delimiting the CT “cube” region\n",
        "# ——————————————————————————————————————————————————————————\n",
        "# flatten HU and density values within the CT cube\n",
        "hu_vals = ct_resamp[ct_ball].ravel()\n",
        "print(hu_vals.shape)\n",
        "d_vals  = density_cube[ct_ball].ravel()\n",
        "print(d_vals.shape)\n",
        "# filter out any non-finite entries (NaN, Inf)\n",
        "mask = np.isfinite(hu_vals) & np.isfinite(d_vals)\n",
        "hu_vals = hu_vals[mask]\n",
        "d_vals  = d_vals[mask]\n",
        "# linear regression: d = m * HU + b\n",
        "m, b = np.polyfit(hu_vals, d_vals, 1)\n",
        "print(f\"Fitted model: d = {m:.4f}·HU + {b:.2f}   (kg/m³)\")\n",
        "# define inverse function: HU = (d - b) / m\n",
        "def density_to_hu(d_map):\n",
        "    \"\"\"\n",
        "    Convert a density map back to Hounsfield Units\n",
        "    using the linear model derived from the CT data.\n",
        "    \"\"\"\n",
        "    return (d_map - b) / m\n",
        "# apply to spherical phantom map\n",
        "hu_sphere = density_to_hu(density_map_phantom)\n",
        "\n",
        "\"\"\"CT PLOTS\"\"\"\n",
        "\"\"\"Plot original vs resampled slices\"\"\"\n",
        "# extract middle slices\n",
        "mid_z_vol = ct_vol.shape[2] // 2\n",
        "mid_z_res = ct_resamp.shape[2] // 2\n",
        "slice_vol = ct_vol[:, :, mid_z_vol]\n",
        "slice_res = ct_resamp[:, :, mid_z_res]\n",
        "# shared normalization across both slices\n",
        "vmin = min(slice_vol.min(), slice_res.min())\n",
        "vmax = max(slice_vol.max(), slice_res.max())\n",
        "norm = Normalize(vmin=vmin, vmax=vmax)\n",
        "# plot side by side\n",
        "fig, axs = plt.subplots(1, 2, figsize=(10, 5), constrained_layout=True)\n",
        "# original volume\n",
        "im1 = axs[0].imshow(slice_vol.T, cmap='gray', norm=norm, origin='lower')\n",
        "axs[0].set_title(f'CT Original Z={mid_z_vol}')\n",
        "axs[0].axis('off')\n",
        "# resampled volume\n",
        "im2 = axs[1].imshow(slice_res.T, cmap='gray', norm=norm, origin='lower')\n",
        "axs[1].set_title(f'CT Resampled Z={mid_z_res}')\n",
        "axs[1].axis('off')\n",
        "# single colorbar for both\n",
        "cbar = fig.colorbar(im2, ax=axs, location='right', fraction=0.046, pad=0.04)\n",
        "cbar.set_label('CT Intensity (HU)')\n",
        "plt.show()\n",
        "\"\"\"Plot original CT HU vs. phantom HU\"\"\"\n",
        "ct_full = hu_sphere.copy()\n",
        "ct_full[scattering_region_phantom] = ct_resamp[ct_ball]\n",
        "# extract the central Z-slice for comparison\n",
        "mid_z = hu_sphere.shape[2] // 2\n",
        "ct_slice_hu = ct_full[:, :, mid_z]\n",
        "sphere_slice_hu = hu_sphere[:, :, mid_z]\n",
        "# set up a consistent grayscale normalization\n",
        "vmin = min(ct_slice_hu.min(), sphere_slice_hu.min())\n",
        "vmax = max(ct_slice_hu.max(), sphere_slice_hu.max())\n",
        "norm = Normalize(vmin=vmin, vmax=vmax)\n",
        "# create side-by-side plot\n",
        "fig, axes = plt.subplots(1, 2, figsize=(10, 5), constrained_layout=True)\n",
        "axes[0].imshow(ct_slice_hu.T, cmap='gray', origin='lower', norm=norm)\n",
        "axes[0].set_title('Original CT (HU)')\n",
        "axes[0].axis('off')\n",
        "im = axes[1].imshow(sphere_slice_hu.T, cmap='gray', origin='lower', norm=norm)\n",
        "axes[1].set_title('Spherical Phantom → HU via Density')\n",
        "axes[1].axis('off')\n",
        "# add a single colorbar for both panels\n",
        "cbar = fig.colorbar(im, ax=axes.ravel().tolist(), fraction=0.046, pad=0.04)\n",
        "cbar.set_label('Hounsfield Units (HU)')\n",
        "plt.show()\n",
        "\n",
        "\n",
        "mid_z = kgrid.Nz // 2\n",
        "\"\"\"SOUND SPEED PLOTS\"\"\"\n",
        "\"\"\"Extract middle slice\"\"\"\n",
        "slice_orig  = sound_speed_map[:, :, mid_z]\n",
        "slice_noise = sound_speed_map_noise[:, :, mid_z]\n",
        "slice_ball  = sound_speed_map_phantom[:, :, mid_z]\n",
        "\"\"\"Plot: CT original vs CT + noise\"\"\"\n",
        "fig, axs = plt.subplots(1, 2, figsize=(10, 5), constrained_layout=True)\n",
        "vmin = min(slice_orig.min(), slice_noise.min())\n",
        "vmax = max(slice_orig.max(), slice_noise.max())\n",
        "norm = Normalize(vmin=vmin, vmax=vmax)\n",
        "axs[0].imshow(slice_orig.T,  origin='lower', aspect='auto', norm=norm)\n",
        "axs[0].set_title('Sound Speed: CT original')\n",
        "axs[0].axis('off')\n",
        "im = axs[1].imshow(slice_noise.T, origin='lower', aspect='auto', norm=norm)\n",
        "axs[1].set_title('Sound Speed: CT + noise')\n",
        "axs[1].axis('off')\n",
        "cbar = fig.colorbar(im, ax=axs, fraction=0.046, pad=0.04)\n",
        "cbar.set_label('m/s')\n",
        "plt.show()\n",
        "\"\"\"Plot: CT + noise vs Spherical phantom\"\"\"\n",
        "fig, axs = plt.subplots(1, 2, figsize=(10, 5), constrained_layout=True)\n",
        "vmin = min(slice_noise.min(), slice_ball.min())\n",
        "vmax = max(slice_noise.max(), slice_ball.max())\n",
        "norm = Normalize(vmin=vmin, vmax=vmax)\n",
        "axs[0].imshow(slice_noise.T, origin='lower', aspect='auto', norm=norm)\n",
        "axs[0].set_title('Sound Speed: CT + noise')\n",
        "axs[0].axis('off')\n",
        "im = axs[1].imshow(slice_ball.T, origin='lower', aspect='auto', norm=norm)\n",
        "axs[1].set_title('Sound Speed: Spherical phantom')\n",
        "axs[1].axis('off')\n",
        "cbar = fig.colorbar(im, ax=axs, fraction=0.046, pad=0.04)\n",
        "cbar.set_label('m/s')\n",
        "plt.show()\n",
        "\n",
        "\"\"\"DENSITY PLOTS\"\"\"\n",
        "\"\"\"Extract middle slice\"\"\"\n",
        "slice_rho_orig  = density_map       [:, :, mid_z]\n",
        "slice_rho_noise = density_map_noise [:, :, mid_z]\n",
        "slice_rho_ball  = density_map_phantom  [:, :, mid_z]\n",
        "\"\"\"Plot: CT original vs CT + noise (densità)\"\"\"\n",
        "fig, axs = plt.subplots(1, 2, figsize=(10, 5), constrained_layout=True)\n",
        "vmin = min(slice_rho_orig.min(), slice_rho_noise.min())\n",
        "vmax = max(slice_rho_orig.max(), slice_rho_noise.max())\n",
        "norm = Normalize(vmin=vmin, vmax=vmax)\n",
        "axs[0].imshow(slice_rho_orig.T,  origin='lower', aspect='auto', norm=norm)\n",
        "axs[0].set_title('Density: CT original')\n",
        "axs[0].axis('off')\n",
        "im = axs[1].imshow(slice_rho_noise.T, origin='lower', aspect='auto', norm=norm)\n",
        "axs[1].set_title('Density: CT + noise')\n",
        "axs[1].axis('off')\n",
        "cbar = fig.colorbar(im, ax=axs, fraction=0.046, pad=0.04)\n",
        "cbar.set_label('kg/m³')\n",
        "plt.show()\n",
        "\"\"\"Plot: CT + noise vs Spherical phantom (densità)\"\"\"\n",
        "fig, axs = plt.subplots(1, 2, figsize=(10, 5), constrained_layout=True)\n",
        "vmin = min(slice_rho_noise.min(), slice_rho_ball.min())\n",
        "vmax = max(slice_rho_noise.max(), slice_rho_ball.max())\n",
        "norm = Normalize(vmin=vmin, vmax=vmax)\n",
        "axs[0].imshow(slice_rho_noise.T, origin='lower', aspect='auto', norm=norm)\n",
        "axs[0].set_title('Density: CT + noise')\n",
        "axs[0].axis('off')\n",
        "im = axs[1].imshow(slice_rho_ball.T, origin='lower', aspect='auto', norm=norm)\n",
        "axs[1].set_title('Density: Spherical phantom')\n",
        "axs[1].axis('off')\n",
        "cbar = fig.colorbar(im, ax=axs, fraction=0.046, pad=0.04)\n",
        "cbar.set_label('kg/m³')\n",
        "plt.show()"
      ]
    },
    {
      "cell_type": "code",
      "execution_count": null,
      "metadata": {
        "id": "af_jTAVKL4P3"
      },
      "outputs": [],
      "source": [
        "medium.sound_speed = sound_speed_map_noise\n",
        "medium.density = density_map_noise\n",
        "\n",
        "# Range of steering angles to test\n",
        "steering_angles = np.arange(-32, 33, 2)\n",
        "\n",
        "# Preallocate the storage\n",
        "number_scan_lines = len(steering_angles)\n",
        "scan_lines = np.zeros((number_scan_lines, kgrid.Nt))\n",
        "\n",
        "if RUN_SIMULATION:\n",
        "    for angle_index in range(number_scan_lines):\n",
        "        print(f'Computing scan line {angle_index} of {number_scan_lines}')\n",
        "\n",
        "        # set the input settings\n",
        "        input_filename = f'example_input_{angle_index}.h5'\n",
        "        # set the input settings\n",
        "        simulation_options = SimulationOptions(\n",
        "            pml_inside=False,\n",
        "            pml_size=pml_size_points,\n",
        "            data_cast=DATA_CAST,\n",
        "            data_recast=True,\n",
        "            save_to_disk=True,\n",
        "            input_filename=input_filename,\n",
        "            save_to_disk_exit=False\n",
        "        )\n",
        "\n",
        "        # Update the current steering angle\n",
        "        not_transducer.steering_angle = steering_angles[angle_index]\n",
        "\n",
        "        sensor_data = kspaceFirstOrder3D(\n",
        "            medium=deepcopy(medium),  # Medium is altered in-place in this function\n",
        "            kgrid=kgrid,\n",
        "            source=not_transducer,\n",
        "            sensor=not_transducer,\n",
        "            simulation_options=simulation_options,\n",
        "            execution_options=SimulationExecutionOptions(is_gpu_simulation=True)\n",
        "        )\n",
        "\n",
        "        scan_lines[angle_index, :] = not_transducer.scan_line(not_transducer.combine_sensor_data(sensor_data['p'].T))\n",
        "\n",
        "    scipy.io.savemat('example_us_phased_array_scan_lines.mat', {'scan_lines': scan_lines})\n",
        "else:\n",
        "    scan_lines = scipy.io.loadmat('example_us_phased_array_scan_lines')['scan_lines']\n"
      ]
    },
    {
      "cell_type": "markdown",
      "metadata": {
        "id": "yu_ggQT9L4P3"
      },
      "source": [
        "## PROCESS THE RESULTS\n",
        "### Remove Input Signal"
      ]
    },
    {
      "cell_type": "code",
      "execution_count": null,
      "metadata": {
        "id": "VeUpLWdhL4P4"
      },
      "outputs": [],
      "source": [
        "# Trim the delay offset from the scan line data\n",
        "t0_offset = int(round(len(input_signal.squeeze())/ 2) + (not_transducer.appended_zeros - not_transducer.beamforming_delays_offset))\n",
        "\n",
        "scan_lines = scan_lines[:, t0_offset:]\n",
        "\n",
        "Nt = np.shape(scan_lines)[1]\n"
      ]
    },
    {
      "cell_type": "code",
      "execution_count": null,
      "metadata": {
        "id": "ciY48tAXL4P4"
      },
      "outputs": [],
      "source": [
        "\n",
        "tukey_win, _ = get_win(Nt * 2, 'Tukey', False, 0.05)\n",
        "scan_line_win = np.concatenate((np.zeros([1, t0_offset * 2]), tukey_win.T[:, :int(len(tukey_win)/2) - t0_offset * 2]), axis=1)\n",
        "\n",
        "scan_lines = scan_lines * scan_line_win\n",
        "# store intermediate results"
      ]
    },
    {
      "cell_type": "markdown",
      "metadata": {
        "id": "2-OYDgRRL4P5"
      },
      "source": [
        "### Time Gain Compensation"
      ]
    },
    {
      "cell_type": "code",
      "execution_count": null,
      "metadata": {
        "id": "kwj4ejLDL4P5"
      },
      "outputs": [],
      "source": [
        "# Create radius variable\n",
        "r = c0 * np.arange(1, Nt + 1) * kgrid.dt / 2\n",
        "\n",
        "# Define absorption value and convert to correct units\n",
        "tgc_alpha_db_cm = medium.alpha_coeff * (tone_burst_freq * 1e-6)**medium.alpha_power\n",
        "tgc_alpha_np_m = db2neper(tgc_alpha_db_cm) * 100\n",
        "\n",
        "# Create time gain compensation function\n",
        "tgc = np.exp(tgc_alpha_np_m * 2 * r)\n",
        "\n",
        "# Apply the time gain compensation to each of the scan lines\n",
        "scan_lines *= tgc"
      ]
    },
    {
      "cell_type": "markdown",
      "metadata": {
        "id": "crE9rgx1L4P5"
      },
      "source": [
        "### Frequency Filtering"
      ]
    },
    {
      "cell_type": "code",
      "execution_count": null,
      "metadata": {
        "id": "I031Vy6zL4P5"
      },
      "outputs": [],
      "source": [
        "scan_lines_fund = gaussian_filter(scan_lines, 1/kgrid.dt, tone_burst_freq, 100)\n",
        "scan_lines_harm = gaussian_filter(scan_lines, 1/kgrid.dt, 2 * tone_burst_freq, 30)"
      ]
    },
    {
      "cell_type": "markdown",
      "metadata": {
        "id": "WPksybHYL4P5"
      },
      "source": [
        "### Envelope Detection"
      ]
    },
    {
      "cell_type": "code",
      "execution_count": null,
      "metadata": {
        "id": "Yfq8gESfL4P5"
      },
      "outputs": [],
      "source": [
        "scan_lines_fund = envelope_detection(scan_lines_fund)\n",
        "scan_lines_harm = envelope_detection(scan_lines_harm)"
      ]
    },
    {
      "cell_type": "markdown",
      "metadata": {
        "id": "FquQ-XvCL4P6"
      },
      "source": [
        "### Log Compression"
      ]
    },
    {
      "cell_type": "code",
      "execution_count": null,
      "metadata": {
        "id": "u0p27x9qL4P6"
      },
      "outputs": [],
      "source": [
        "compression_ratio = 3\n",
        "scan_lines_fund = log_compression(scan_lines_fund, compression_ratio, True)\n",
        "scan_lines_harm = log_compression(scan_lines_harm, compression_ratio, True)"
      ]
    },
    {
      "cell_type": "markdown",
      "metadata": {
        "id": "tOOMSUKkL4P6"
      },
      "source": [
        "### Visualization"
      ]
    },
    {
      "cell_type": "code",
      "execution_count": null,
      "metadata": {
        "id": "YmlpLn1aL4P6"
      },
      "outputs": [],
      "source": [
        "image_size = [kgrid.Nx * kgrid.dx, kgrid.Ny * kgrid.dy]\n",
        "image_res = [256, 256]\n",
        "\n",
        "b_mode_fund = scan_conversion(scan_lines_fund, steering_angles, image_size, c0, kgrid.dt, image_res)\n",
        "b_mode_harm = scan_conversion(scan_lines_harm, steering_angles, image_size, c0, kgrid.dt, image_res)"
      ]
    },
    {
      "cell_type": "code",
      "execution_count": null,
      "metadata": {
        "id": "0K5a0uNAL4P6"
      },
      "outputs": [],
      "source": [
        "# Create the axis variables\n",
        "x_axis = [0, image_size[0] * 1e3] # [mm]\n",
        "y_axis = [0, image_size[1] * 1e3]  # [mm]"
      ]
    },
    {
      "cell_type": "code",
      "execution_count": null,
      "metadata": {
        "id": "6lAhjzNSL4P6"
      },
      "outputs": [],
      "source": [
        "plt.ion()\n",
        "plt.figure(figsize=(15, 4))\n",
        "plt.subplot(131)\n",
        "plt.imshow(scan_lines.T, aspect='auto',\n",
        "             extent=[steering_angles[-1], steering_angles[0],y_axis[1], y_axis[0] ], interpolation='none', cmap='gray')\n",
        "plt.xlabel('Steering angle [deg]')\n",
        "plt.ylabel('Depth [mm]')\n",
        "plt.title('Raw Scan-Line Data')\n",
        "\n",
        "\n",
        "plt.subplot(132)\n",
        "plt.imshow(scan_lines_fund.T, aspect='auto',\n",
        "            extent=[steering_angles[-1], steering_angles[0],y_axis[1], y_axis[0] ],  interpolation='none', cmap='bone')\n",
        "plt.xlabel('Steering angle [deg]')\n",
        "plt.ylabel('Depth [mm]')\n",
        "plt.title('Processed Scan-Line Data')\n",
        "\n",
        "plt.subplot(133)\n",
        "plt.imshow(b_mode_fund, cmap='bone', aspect='auto',  extent=[y_axis[0], y_axis[1], x_axis[1], x_axis[0]], interpolation='none')\n",
        "plt.xlabel('Horizontal Position [mm]')\n",
        "plt.ylabel('Depth [mm]')\n",
        "plt.title('B-Mode Image')"
      ]
    },
    {
      "cell_type": "code",
      "execution_count": null,
      "metadata": {
        "id": "TIy1uahjL4P6"
      },
      "outputs": [],
      "source": [
        "plt.figure(figsize=(15, 4))\n",
        "plt.subplot(131)\n",
        "plt.imshow(medium.sound_speed[..., kgrid.Nz//2], aspect='auto',\n",
        "            extent=[y_axis[0], y_axis[1], x_axis[1], x_axis[0]])\n",
        "plt.xlabel('Horizontal Position [mm]')\n",
        "plt.ylabel('Depth [mm]')\n",
        "plt.title('Scattering Phantom')\n",
        "\n",
        "plt.subplot(132)\n",
        "plt.imshow(b_mode_fund, cmap='bone', aspect='auto',  extent=[y_axis[0], y_axis[1], x_axis[1], x_axis[0]], interpolation='none')\n",
        "plt.xlabel('Horizontal Position [mm]')\n",
        "plt.ylabel('Depth [mm]')\n",
        "plt.title('B-Mode Image')\n",
        "\n",
        "plt.subplot(133)\n",
        "plt.imshow(b_mode_harm, cmap='bone', aspect='auto',  extent=[y_axis[0], y_axis[1], x_axis[1], x_axis[0]], interpolation='none')\n",
        "plt.xlabel('Horizontal Position [mm]')\n",
        "plt.ylabel('Depth [mm]')\n",
        "plt.title('Harmonic Image')\n",
        "\n",
        "plt.show()\n"
      ]
    }
  ],
  "metadata": {
    "kernelspec": {
      "display_name": "deep-us",
      "language": "python",
      "name": "python3"
    },
    "language_info": {
      "codemirror_mode": {
        "name": "ipython",
        "version": 3
      },
      "file_extension": ".py",
      "mimetype": "text/x-python",
      "name": "python",
      "nbconvert_exporter": "python",
      "pygments_lexer": "ipython3"
    },
    "colab": {
      "provenance": [],
      "include_colab_link": true
    }
  },
  "nbformat": 4,
  "nbformat_minor": 0
}