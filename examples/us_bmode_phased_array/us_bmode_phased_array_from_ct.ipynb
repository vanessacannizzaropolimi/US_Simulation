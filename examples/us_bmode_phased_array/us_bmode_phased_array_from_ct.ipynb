{
  "cells": [
    {
      "cell_type": "markdown",
      "metadata": {
        "id": "view-in-github",
        "colab_type": "text"
      },
      "source": [
        "<a href=\"https://colab.research.google.com/github/vanessacannizzaropolimi/US_Simulation/blob/main/examples/us_bmode_phased_array/us_bmode_phased_array_from_ct.ipynb\" target=\"_parent\"><img src=\"https://colab.research.google.com/assets/colab-badge.svg\" alt=\"Open In Colab\"/></a>"
      ]
    },
    {
      "cell_type": "markdown",
      "source": [
        "Install k-Wave-python and import libraries"
      ],
      "metadata": {
        "id": "ax0i596jiURw"
      }
    },
    {
      "cell_type": "code",
      "execution_count": 41,
      "metadata": {
        "id": "8xTi-tyFHGlx"
      },
      "outputs": [],
      "source": [
        "%%capture\n",
        "!pip install git+https://github.com/waltsims/k-wave-python"
      ]
    },
    {
      "cell_type": "code",
      "execution_count": 42,
      "metadata": {
        "id": "RIXUhlM1HGl7"
      },
      "outputs": [],
      "source": [
        "from copy import deepcopy\n",
        "\n",
        "import numpy as np\n",
        "import nibabel as nib\n",
        "import scipy.io\n",
        "from matplotlib import pyplot as plt\n",
        "\n",
        "from kwave.data import Vector\n",
        "from kwave.kgrid import kWaveGrid\n",
        "from kwave.kmedium import kWaveMedium\n",
        "from kwave.kspaceFirstOrder2D import kspaceFirstOrder2D\n",
        "from kwave.kspaceFirstOrder3D import kspaceFirstOrder3D\n",
        "from kwave.ktransducer import NotATransducer, kWaveTransducerSimple\n",
        "from kwave.options.simulation_execution_options import SimulationExecutionOptions\n",
        "from kwave.options.simulation_options import SimulationOptions\n",
        "from kwave.reconstruction.beamform import envelope_detection, scan_conversion\n",
        "from kwave.reconstruction.tools import log_compression\n",
        "from kwave.utils.conversion import db2neper\n",
        "from kwave.utils.dotdictionary import dotdict\n",
        "from kwave.utils.filters import gaussian_filter\n",
        "# from kwave.utils.mapgen import make_ball\n",
        "from kwave.utils.signals import get_win, tone_burst\n",
        "from kwave.utils.conversion import hounsfield2density, hounsfield2soundspeed"
      ]
    },
    {
      "cell_type": "markdown",
      "source": [
        "Settings"
      ],
      "metadata": {
        "id": "0TRa-38P-ZPQ"
      }
    },
    {
      "cell_type": "code",
      "source": [
        "DATA_CAST = 'single'\n",
        "RUN_SIMULATION = True\n",
        "\n",
        "# CT file\n",
        "filename = 'volumeAdjusted.nii'\n",
        "\n",
        "# Transducer\n",
        "ELEM_LENGTH = 1"
      ],
      "metadata": {
        "id": "wuUJyL_4uebT"
      },
      "execution_count": 43,
      "outputs": []
    },
    {
      "cell_type": "markdown",
      "source": [
        "Load CT NIfTI file and extract central slice"
      ],
      "metadata": {
        "id": "HXbbGl7vifgQ"
      }
    },
    {
      "cell_type": "code",
      "source": [
        "ct_img                         = nib.load(filename)\n",
        "ct_vol                         = ct_img.get_fdata()\n",
        "dx_mm, dy_mm, dz_mm            = ct_img.header.get_zooms()  # 3d spacing in mm\n",
        "lateral_spacing, depth_spacing, dz = dx_mm/1000.0, dy_mm/1000.0, dz_mm/1000.0 # 2d spacing in m\n",
        "# dz = 0.1e-3\n",
        "\n",
        "Nx, Ny, Nz = ct_vol.shape\n",
        "slice_idx  = round(Nz // 2)\n",
        "\n",
        "# extract slice\n",
        "# slice_idx = ct_vol.shape[2] // 2\n",
        "# ct_slice  = np.flipud(ct_vol[:, :, slice_idx]) # shape = (Nx, Ny)\n",
        "# Nx, Ny    = ct_slice.shape                     # Nx = lateral, Ny = spacing\n",
        "# needed_Nz = ELEM_LENGTH + 1"
      ],
      "metadata": {
        "id": "0BzYqHaqiSdm"
      },
      "execution_count": 44,
      "outputs": []
    },
    {
      "cell_type": "markdown",
      "source": [
        "Conversion HU -> acoustic properties: density [kg/m^3] and sound speed [m/s]"
      ],
      "metadata": {
        "id": "Cvu81TqAjI6R"
      }
    },
    {
      "cell_type": "code",
      "source": [
        "density_map     = hounsfield2density(ct_slice, plot_fitting=False).astype(np.float32) # :contentReference[oaicite:0]{index=0}\n",
        "sound_speed_map = hounsfield2soundspeed(ct_slice).astype(np.float32)                  # :contentReference[oaicite:1]{index=1}"
      ],
      "metadata": {
        "id": "PTN_madDjP3J"
      },
      "execution_count": 45,
      "outputs": []
    },
    {
      "cell_type": "markdown",
      "source": [
        "2D grid and temporal dependencies"
      ],
      "metadata": {
        "id": "9y5IdV8Y85eH"
      }
    },
    {
      "cell_type": "code",
      "source": [
        "# |<- PML ->|<------ computational domain ------>|<- PML ->|\n",
        "# |pml_size pts   (Nx - 2*pml_size) pts      pml_size pts|\n",
        "pml_size_points     = Vector([10, 10, 10])                  # [grid points]\n",
        "\n",
        "grid_size_points    = Vector([Nx, Ny, Nz]) - 2 * pml_size_points\n",
        "grid_spacing_meters = Vector([lateral_spacing,\n",
        "                              depth_spacing,\n",
        "                              dz]) # grid spacing is given by ct resolution\n",
        "\n",
        "kgrid               = kWaveGrid(grid_size_points, grid_spacing_meters)\n",
        "\n",
        "c0           = 1540\n",
        "# c0           = np.max(sound_speed)\n",
        "domain_depth = grid_size_points.y * grid_spacing_meters.y # depth [m]\n",
        "t_end        = domain_depth * 2.2 / c0                    # [s], 2.2 is safety factor for overshoot\n",
        "kgrid.makeTime(c0, t_end = t_end)"
      ],
      "metadata": {
        "id": "W1nszfxc85OJ",
        "colab": {
          "base_uri": "https://localhost:8080/"
        },
        "outputId": "226e4b02-1bea-4b40-b6a2-c7cfe281a910"
      },
      "execution_count": 46,
      "outputs": [
        {
          "output_type": "execute_result",
          "data": {
            "text/plain": [
              "(Vector([[0.00000000e+00, 1.36972416e-07, 2.73944831e-07, ...,\n",
              "          4.93922531e-04, 4.94059503e-04, 4.94196475e-04]]),\n",
              " Vector(1.36972416e-07))"
            ]
          },
          "metadata": {},
          "execution_count": 46
        }
      ]
    },
    {
      "cell_type": "markdown",
      "source": [
        "Medium"
      ],
      "metadata": {
        "id": "-fzChFqvuYHb"
      }
    },
    {
      "cell_type": "code",
      "source": [
        "medium = kWaveMedium(\n",
        "  sound_speed = None,\n",
        "  density     = None,\n",
        "  alpha_coeff = 0.75,\n",
        "  alpha_power = 1.5,\n",
        "  BonA        = 6\n",
        ")"
      ],
      "metadata": {
        "id": "7n8Xj2cOuWpJ"
      },
      "execution_count": 47,
      "outputs": []
    },
    {
      "cell_type": "markdown",
      "source": [
        "Input signal"
      ],
      "metadata": {
        "id": "06CUXLI2jS-K"
      }
    },
    {
      "cell_type": "code",
      "execution_count": 48,
      "metadata": {
        "id": "l6ExjbPzHGmD"
      },
      "outputs": [],
      "source": [
        "source_strength   = 1e6  # [Pa] pressure amplitude\n",
        "tone_burst_freq   = 1e6  # [Hz] burst central frequency\n",
        "tone_burst_cycles = 4    # burst cycles\n",
        "rho0              = 1000\n",
        "\n",
        "input_signal = tone_burst(1 / kgrid.dt, tone_burst_freq, tone_burst_cycles)\n",
        "input_signal = (source_strength / (c0 * rho0)) * input_signal"
      ]
    },
    {
      "cell_type": "markdown",
      "source": [
        "Transducer"
      ],
      "metadata": {
        "id": "jE6eFNczBxse"
      }
    },
    {
      "cell_type": "code",
      "execution_count": 49,
      "metadata": {
        "id": "d8d3FQfRHGmE"
      },
      "outputs": [],
      "source": [
        "transducer                 = dotdict()\n",
        "transducer.number_elements = 64            # total number of transducer elements\n",
        "transducer.element_width   = 1             # width of each element [grid points]\n",
        "transducer.element_length  = ELEM_LENGTH   # length of each element [grid points]\n",
        "transducer.element_spacing = 0             # spacing (kerf  width) between the elements [grid points]\n",
        "transducer.radius          = float('inf')  # radius of curvature of the transducer [m]\n",
        "\n",
        "# calculate the width of the transducer in grid points\n",
        "transducer_width = (\n",
        "    transducer.number_elements * transducer.element_width\n",
        "    + (transducer.number_elements - 1) * transducer.element_spacing\n",
        ")\n",
        "\n",
        "# use this to position the transducer in the middle of the computational grid\n",
        "lateral_start_index = int(np.round(grid_size_points.x/2 - transducer_width/2))\n",
        "depth_start_index   = 1\n",
        "z_start_index       = slice_idx + 1\n",
        "\n",
        "transducer.position = [lateral_start_index,\n",
        "                       depth_start_index,\n",
        "                       z_start_index]\n",
        "\n",
        "transducer          = kWaveTransducerSimple(kgrid, **transducer)"
      ]
    },
    {
      "cell_type": "markdown",
      "source": [
        "“Not-A-Transducer” for source/sensor"
      ],
      "metadata": {
        "id": "8mvxvxVhBsO3"
      }
    },
    {
      "cell_type": "code",
      "execution_count": 50,
      "metadata": {
        "id": "eLrJHTKsHGmH"
      },
      "outputs": [],
      "source": [
        "not_transducer                      = dotdict()\n",
        "not_transducer.sound_speed          = c0  # sound speed [m/s]\n",
        "not_transducer.focus_distance       = 30e-3  # focus distance [m]\n",
        "not_transducer.elevation_focus_distance = 30e-3  # focus distance in the elevation plane [m]\n",
        "not_transducer.steering_angle       = 0  # steering angle [degrees]\n",
        "not_transducer.steering_angle_max   = 32  # steering angle [degrees]\n",
        "not_transducer.transmit_apodization = 'Hanning'\n",
        "not_transducer.receive_apodization  = 'Rectangular'\n",
        "not_transducer.active_elements      = np.ones((transducer.number_elements, 1))\n",
        "not_transducer.input_signal         = input_signal\n",
        "\n",
        "not_transducer                      = NotATransducer(transducer, kgrid, **not_transducer)"
      ]
    },
    {
      "cell_type": "markdown",
      "source": [
        "Random scatters (speckle-like)"
      ],
      "metadata": {
        "id": "iYjx-G_i8Q23"
      }
    },
    {
      "cell_type": "code",
      "source": [
        "# define a random distribution of scatterers\n",
        "background_map_mean = 1\n",
        "background_map_std  = 0.008\n",
        "background_map      = background_map_mean + background_map_std * np.random.randn(kgrid.Nx, kgrid.Ny, kgrid.Nz)\n",
        "\n",
        "sound_speed_map     = c0 * background_map\n",
        "density_map         = rho0 * background_map\n",
        "\n",
        "# add scatters to medium\n",
        "medium.sound_speed  = sound_speed_map.astype(np.float32)\n",
        "medium.density      = density_map.astype(np.float32)"
      ],
      "metadata": {
        "id": "fzfCU0br7-hH"
      },
      "execution_count": 51,
      "outputs": []
    },
    {
      "cell_type": "code",
      "source": [
        "'''\n",
        "# Segment the bone structures on the CT slice and apply enhanced scattering properties to those regions\n",
        "# 1. Segment the region of interest on the CT slice (e.g., bone) based on Hounsfield Units\n",
        "hu_threshold = 300                        # HU threshold above which voxels are considered bone\n",
        "bone_mask    = (ct_slice > hu_threshold) # boolean mask of the high-density region\n",
        "\n",
        "# 2. Generate scattering parameters for that region (reusing your clipping logic)\n",
        "scattering_map = np.random.randn(*ct_slice.shape)             # random perturbation map\n",
        "scattering_c0   = np.clip(                           # clamp sound speed values between 1400 and 1600 m/s\n",
        "    c0 + 25 + 75 * scattering_map,\n",
        "    1400,\n",
        "    1600\n",
        ")\n",
        "scattering_rho0 = scattering_c0 / 1.5                    # density values proportional to sound speed\n",
        "\n",
        "# 3. Overwrite the CT-derived maps only where the mask is True\n",
        "sound_speed_map[bone_mask] = scattering_c0[bone_mask]    # apply higher scattering speed in bone regions\n",
        "density_map    [bone_mask] = scattering_rho0[bone_mask]   # apply corresponding density\n",
        "\n",
        "# 4. Update the medium with the modified maps\n",
        "medium.sound_speed = sound_speed_map.astype(np.float32)  # ensure correct dtype for simulation\n",
        "medium.density     = density_map.astype(np.float32)\n",
        "'''"
      ],
      "metadata": {
        "colab": {
          "base_uri": "https://localhost:8080/",
          "height": 157
        },
        "cellView": "code",
        "id": "XbDL2t278A_G",
        "outputId": "1c9e0c93-30da-4951-af43-e4bee37adabb"
      },
      "execution_count": 52,
      "outputs": [
        {
          "output_type": "execute_result",
          "data": {
            "text/plain": [
              "'\\n# Segment the bone structures on the CT slice and apply enhanced scattering properties to those regions\\n# 1. Segment the region of interest on the CT slice (e.g., bone) based on Hounsfield Units\\nhu_threshold = 300                        # HU threshold above which voxels are considered bone\\nbone_mask    = (ct_slice > hu_threshold) # boolean mask of the high-density region\\n\\n# 2. Generate scattering parameters for that region (reusing your clipping logic)\\nscattering_map = np.random.randn(*ct_slice.shape)             # random perturbation map\\nscattering_c0   = np.clip(                           # clamp sound speed values between 1400 and 1600 m/s\\n    c0 + 25 + 75 * scattering_map,\\n    1400,\\n    1600\\n)\\nscattering_rho0 = scattering_c0 / 1.5                    # density values proportional to sound speed\\n\\n# 3. Overwrite the CT-derived maps only where the mask is True\\nsound_speed_map[bone_mask] = scattering_c0[bone_mask]    # apply higher scattering speed in bone regions\\ndensity_map    [bone_mask] = scattering_rho0[bone_mask]   # apply corresponding density\\n\\n# 4. Update the medium with the modified maps\\nmedium.sound_speed = sound_speed_map.astype(np.float32)  # ensure correct dtype for simulation\\nmedium.density     = density_map.astype(np.float32)\\n'"
            ],
            "application/vnd.google.colaboratory.intrinsic+json": {
              "type": "string"
            }
          },
          "metadata": {},
          "execution_count": 52
        }
      ]
    },
    {
      "cell_type": "markdown",
      "source": [
        "# Run simulation"
      ],
      "metadata": {
        "id": "TsEKml4kBCyN"
      }
    },
    {
      "cell_type": "code",
      "execution_count": 53,
      "metadata": {
        "id": "VnNDQcw8HGmM",
        "colab": {
          "base_uri": "https://localhost:8080/",
          "height": 443
        },
        "outputId": "73a99ec0-8cfe-4a3f-b724-6095e4f4f481"
      },
      "outputs": [
        {
          "output_type": "stream",
          "name": "stdout",
          "text": [
            "Computing scan line 0 of 33\n"
          ]
        },
        {
          "output_type": "error",
          "ename": "TypeError",
          "evalue": "pad() missing 1 required positional argument: 'pad_width'",
          "traceback": [
            "\u001b[0;31m---------------------------------------------------------------------------\u001b[0m",
            "\u001b[0;31mTypeError\u001b[0m                                 Traceback (most recent call last)",
            "\u001b[0;32m<ipython-input-53-a3440fba3054>\u001b[0m in \u001b[0;36m<cell line: 0>\u001b[0;34m()\u001b[0m\n\u001b[1;32m     25\u001b[0m \u001b[0;34m\u001b[0m\u001b[0m\n\u001b[1;32m     26\u001b[0m         \u001b[0;31m# RUN 2D K-WAVE SIMULATION\u001b[0m\u001b[0;34m\u001b[0m\u001b[0;34m\u001b[0m\u001b[0m\n\u001b[0;32m---> 27\u001b[0;31m         sensor_data            = kspaceFirstOrder3D(\n\u001b[0m\u001b[1;32m     28\u001b[0m             \u001b[0mmedium\u001b[0m             \u001b[0;34m=\u001b[0m \u001b[0mdeepcopy\u001b[0m\u001b[0;34m(\u001b[0m\u001b[0mmedium\u001b[0m\u001b[0;34m)\u001b[0m\u001b[0;34m,\u001b[0m  \u001b[0;31m# Medium is altered in-place in this function\u001b[0m\u001b[0;34m\u001b[0m\u001b[0;34m\u001b[0m\u001b[0m\n\u001b[1;32m     29\u001b[0m             \u001b[0mkgrid\u001b[0m              \u001b[0;34m=\u001b[0m \u001b[0mkgrid\u001b[0m\u001b[0;34m,\u001b[0m\u001b[0;34m\u001b[0m\u001b[0;34m\u001b[0m\u001b[0m\n",
            "\u001b[0;32m/usr/local/lib/python3.11/dist-packages/kwave/kspaceFirstOrder3D.py\u001b[0m in \u001b[0;36mkspaceFirstOrder3D\u001b[0;34m(kgrid, source, sensor, medium, simulation_options, execution_options, time_rev)\u001b[0m\n\u001b[1;32m    207\u001b[0m \u001b[0;34m\u001b[0m\u001b[0m\n\u001b[1;32m    208\u001b[0m     \u001b[0mk_sim\u001b[0m \u001b[0;34m=\u001b[0m \u001b[0mkWaveSimulation\u001b[0m\u001b[0;34m(\u001b[0m\u001b[0mkgrid\u001b[0m\u001b[0;34m=\u001b[0m\u001b[0mkgrid\u001b[0m\u001b[0;34m,\u001b[0m \u001b[0msource\u001b[0m\u001b[0;34m=\u001b[0m\u001b[0msource\u001b[0m\u001b[0;34m,\u001b[0m \u001b[0msensor\u001b[0m\u001b[0;34m=\u001b[0m\u001b[0msensor\u001b[0m\u001b[0;34m,\u001b[0m \u001b[0mmedium\u001b[0m\u001b[0;34m=\u001b[0m\u001b[0mmedium\u001b[0m\u001b[0;34m,\u001b[0m \u001b[0msimulation_options\u001b[0m\u001b[0;34m=\u001b[0m\u001b[0msimulation_options\u001b[0m\u001b[0;34m)\u001b[0m\u001b[0;34m\u001b[0m\u001b[0;34m\u001b[0m\u001b[0m\n\u001b[0;32m--> 209\u001b[0;31m     \u001b[0mk_sim\u001b[0m\u001b[0;34m.\u001b[0m\u001b[0minput_checking\u001b[0m\u001b[0;34m(\u001b[0m\u001b[0;34m\"kspaceFirstOrder3D\"\u001b[0m\u001b[0;34m)\u001b[0m\u001b[0;34m\u001b[0m\u001b[0;34m\u001b[0m\u001b[0m\n\u001b[0m\u001b[1;32m    210\u001b[0m \u001b[0;34m\u001b[0m\u001b[0m\n\u001b[1;32m    211\u001b[0m     \u001b[0;31m# =========================================================================\u001b[0m\u001b[0;34m\u001b[0m\u001b[0;34m\u001b[0m\u001b[0m\n",
            "\u001b[0;32m/usr/local/lib/python3.11/dist-packages/kwave/kWaveSimulation.py\u001b[0m in \u001b[0;36minput_checking\u001b[0;34m(self, calling_func_name)\u001b[0m\n\u001b[1;32m    511\u001b[0m         \u001b[0mdisplay_simulation_params\u001b[0m\u001b[0;34m(\u001b[0m\u001b[0mself\u001b[0m\u001b[0;34m.\u001b[0m\u001b[0mkgrid\u001b[0m\u001b[0;34m,\u001b[0m \u001b[0mself\u001b[0m\u001b[0;34m.\u001b[0m\u001b[0mmedium\u001b[0m\u001b[0;34m,\u001b[0m \u001b[0mis_elastic_code\u001b[0m\u001b[0;34m)\u001b[0m\u001b[0;34m\u001b[0m\u001b[0;34m\u001b[0m\u001b[0m\n\u001b[1;32m    512\u001b[0m \u001b[0;34m\u001b[0m\u001b[0m\n\u001b[0;32m--> 513\u001b[0;31m         \u001b[0mself\u001b[0m\u001b[0;34m.\u001b[0m\u001b[0msmooth_and_enlarge\u001b[0m\u001b[0;34m(\u001b[0m\u001b[0mself\u001b[0m\u001b[0;34m.\u001b[0m\u001b[0msource\u001b[0m\u001b[0;34m,\u001b[0m \u001b[0mk_dim\u001b[0m\u001b[0;34m,\u001b[0m \u001b[0mVector\u001b[0m\u001b[0;34m(\u001b[0m\u001b[0mself\u001b[0m\u001b[0;34m.\u001b[0m\u001b[0mkgrid\u001b[0m\u001b[0;34m.\u001b[0m\u001b[0mN\u001b[0m\u001b[0;34m)\u001b[0m\u001b[0;34m,\u001b[0m \u001b[0mopt\u001b[0m\u001b[0;34m)\u001b[0m\u001b[0;34m\u001b[0m\u001b[0;34m\u001b[0m\u001b[0m\n\u001b[0m\u001b[1;32m    514\u001b[0m         \u001b[0mself\u001b[0m\u001b[0;34m.\u001b[0m\u001b[0mcreate_sensor_variables\u001b[0m\u001b[0;34m(\u001b[0m\u001b[0;34m)\u001b[0m\u001b[0;34m\u001b[0m\u001b[0;34m\u001b[0m\u001b[0m\n\u001b[1;32m    515\u001b[0m         \u001b[0mself\u001b[0m\u001b[0;34m.\u001b[0m\u001b[0mcreate_absorption_vars\u001b[0m\u001b[0;34m(\u001b[0m\u001b[0;34m)\u001b[0m\u001b[0;34m\u001b[0m\u001b[0;34m\u001b[0m\u001b[0m\n",
            "\u001b[0;32m/usr/local/lib/python3.11/dist-packages/kwave/kWaveSimulation.py\u001b[0m in \u001b[0;36msmooth_and_enlarge\u001b[0;34m(self, source, k_dim, kgrid_N, opt)\u001b[0m\n\u001b[1;32m   1250\u001b[0m         \u001b[0;31m# grid defined by the user\u001b[0m\u001b[0;34m\u001b[0m\u001b[0;34m\u001b[0m\u001b[0m\n\u001b[1;32m   1251\u001b[0m         \u001b[0;32mif\u001b[0m \u001b[0mopt\u001b[0m\u001b[0;34m.\u001b[0m\u001b[0mpml_inside\u001b[0m \u001b[0;32mis\u001b[0m \u001b[0;32mFalse\u001b[0m\u001b[0;34m:\u001b[0m\u001b[0;34m\u001b[0m\u001b[0;34m\u001b[0m\u001b[0m\n\u001b[0;32m-> 1252\u001b[0;31m             expand_results = expand_grid_matrices(\n\u001b[0m\u001b[1;32m   1253\u001b[0m                 \u001b[0mself\u001b[0m\u001b[0;34m.\u001b[0m\u001b[0mkgrid\u001b[0m\u001b[0;34m,\u001b[0m\u001b[0;34m\u001b[0m\u001b[0;34m\u001b[0m\u001b[0m\n\u001b[1;32m   1254\u001b[0m                 \u001b[0mself\u001b[0m\u001b[0;34m.\u001b[0m\u001b[0mmedium\u001b[0m\u001b[0;34m,\u001b[0m\u001b[0;34m\u001b[0m\u001b[0;34m\u001b[0m\u001b[0m\n",
            "\u001b[0;32m/usr/local/lib/python3.11/dist-packages/kwave/kWaveSimulation_helper/expand_grid_matrices.py\u001b[0m in \u001b[0;36mexpand_grid_matrices\u001b[0;34m(kgrid, medium, source, sensor, opt, values, flags)\u001b[0m\n\u001b[1;32m     50\u001b[0m     \u001b[0mrecord\u001b[0m \u001b[0;34m=\u001b[0m \u001b[0mexpand_cuboid_corner_list\u001b[0m\u001b[0;34m(\u001b[0m\u001b[0mflags\u001b[0m\u001b[0;34m.\u001b[0m\u001b[0mcuboid_corners\u001b[0m\u001b[0;34m,\u001b[0m \u001b[0mkgrid\u001b[0m\u001b[0;34m,\u001b[0m \u001b[0mpml_size\u001b[0m\u001b[0;34m)\u001b[0m  \u001b[0;31m# noqa: F841\u001b[0m\u001b[0;34m\u001b[0m\u001b[0;34m\u001b[0m\u001b[0m\n\u001b[1;32m     51\u001b[0m \u001b[0;34m\u001b[0m\u001b[0m\n\u001b[0;32m---> 52\u001b[0;31m     \u001b[0mexpand_medium\u001b[0m\u001b[0;34m(\u001b[0m\u001b[0mmedium\u001b[0m\u001b[0;34m,\u001b[0m \u001b[0mexpand_size\u001b[0m\u001b[0;34m)\u001b[0m\u001b[0;34m\u001b[0m\u001b[0;34m\u001b[0m\u001b[0m\n\u001b[0m\u001b[1;32m     53\u001b[0m \u001b[0;34m\u001b[0m\u001b[0m\n\u001b[1;32m     54\u001b[0m     p_source_pos_index, u_source_pos_index, s_source_pos_index = expand_source(\n",
            "\u001b[0;32m/usr/local/lib/python3.11/dist-packages/kwave/kWaveSimulation_helper/expand_grid_matrices.py\u001b[0m in \u001b[0;36mexpand_medium\u001b[0;34m(medium, expand_size)\u001b[0m\n\u001b[1;32m    108\u001b[0m     \u001b[0mmedium\u001b[0m\u001b[0;34m.\u001b[0m\u001b[0msound_speed\u001b[0m \u001b[0;34m=\u001b[0m \u001b[0mnp\u001b[0m\u001b[0;34m.\u001b[0m\u001b[0matleast_1d\u001b[0m\u001b[0;34m(\u001b[0m\u001b[0mmedium\u001b[0m\u001b[0;34m.\u001b[0m\u001b[0msound_speed\u001b[0m\u001b[0;34m)\u001b[0m\u001b[0;34m\u001b[0m\u001b[0;34m\u001b[0m\u001b[0m\n\u001b[1;32m    109\u001b[0m     \u001b[0;32mif\u001b[0m \u001b[0mmedium\u001b[0m\u001b[0;34m.\u001b[0m\u001b[0msound_speed\u001b[0m\u001b[0;34m.\u001b[0m\u001b[0msize\u001b[0m \u001b[0;34m>\u001b[0m \u001b[0;36m1\u001b[0m\u001b[0;34m:\u001b[0m\u001b[0;34m\u001b[0m\u001b[0;34m\u001b[0m\u001b[0m\n\u001b[0;32m--> 110\u001b[0;31m         \u001b[0mmedium\u001b[0m\u001b[0;34m.\u001b[0m\u001b[0msound_speed\u001b[0m \u001b[0;34m=\u001b[0m \u001b[0mexpand_matrix\u001b[0m\u001b[0;34m(\u001b[0m\u001b[0mmedium\u001b[0m\u001b[0;34m.\u001b[0m\u001b[0msound_speed\u001b[0m\u001b[0;34m,\u001b[0m \u001b[0mexpand_size\u001b[0m\u001b[0;34m)\u001b[0m\u001b[0;34m\u001b[0m\u001b[0;34m\u001b[0m\u001b[0m\n\u001b[0m\u001b[1;32m    111\u001b[0m \u001b[0;34m\u001b[0m\u001b[0m\n\u001b[1;32m    112\u001b[0m     \u001b[0;31m# enlarge the grid of density by extending the edge values into the expanded grid\u001b[0m\u001b[0;34m\u001b[0m\u001b[0;34m\u001b[0m\u001b[0m\n",
            "\u001b[0;32m<@beartype(kwave.utils.matrix.expand_matrix) at 0x787670f562a0>\u001b[0m in \u001b[0;36mexpand_matrix\u001b[0;34m(__beartype_object_132450070824704, __beartype_get_violation, __beartype_conf, __beartype_object_132450070831936, __beartype_object_132450070873808, __beartype_check_meta, __beartype_func, *args, **kwargs)\u001b[0m\n",
            "\u001b[0;32m/usr/local/lib/python3.11/dist-packages/kwave/utils/matrix.py\u001b[0m in \u001b[0;36mexpand_matrix\u001b[0;34m(matrix, exp_coeff, edge_val)\u001b[0m\n\u001b[1;32m    154\u001b[0m             \u001b[0mopts\u001b[0m\u001b[0;34m[\u001b[0m\u001b[0;34m\"pad_width\"\u001b[0m\u001b[0;34m]\u001b[0m \u001b[0;34m=\u001b[0m \u001b[0;34m[\u001b[0m\u001b[0;34m(\u001b[0m\u001b[0mexp_coeff\u001b[0m\u001b[0;34m[\u001b[0m\u001b[0;36m0\u001b[0m\u001b[0;34m]\u001b[0m\u001b[0;34m,\u001b[0m \u001b[0mexp_coeff\u001b[0m\u001b[0;34m[\u001b[0m\u001b[0;36m1\u001b[0m\u001b[0;34m]\u001b[0m\u001b[0;34m)\u001b[0m\u001b[0;34m,\u001b[0m \u001b[0;34m(\u001b[0m\u001b[0mexp_coeff\u001b[0m\u001b[0;34m[\u001b[0m\u001b[0;36m2\u001b[0m\u001b[0;34m]\u001b[0m\u001b[0;34m,\u001b[0m \u001b[0mexp_coeff\u001b[0m\u001b[0;34m[\u001b[0m\u001b[0;36m3\u001b[0m\u001b[0;34m]\u001b[0m\u001b[0;34m)\u001b[0m\u001b[0;34m,\u001b[0m \u001b[0;34m(\u001b[0m\u001b[0mexp_coeff\u001b[0m\u001b[0;34m[\u001b[0m\u001b[0;36m4\u001b[0m\u001b[0;34m]\u001b[0m\u001b[0;34m,\u001b[0m \u001b[0mexp_coeff\u001b[0m\u001b[0;34m[\u001b[0m\u001b[0;36m5\u001b[0m\u001b[0;34m]\u001b[0m\u001b[0;34m)\u001b[0m\u001b[0;34m]\u001b[0m\u001b[0;34m\u001b[0m\u001b[0;34m\u001b[0m\u001b[0m\n\u001b[1;32m    155\u001b[0m \u001b[0;34m\u001b[0m\u001b[0m\n\u001b[0;32m--> 156\u001b[0;31m     \u001b[0;32mreturn\u001b[0m \u001b[0mnp\u001b[0m\u001b[0;34m.\u001b[0m\u001b[0mpad\u001b[0m\u001b[0;34m(\u001b[0m\u001b[0mmatrix\u001b[0m\u001b[0;34m,\u001b[0m \u001b[0;34m**\u001b[0m\u001b[0mopts\u001b[0m\u001b[0;34m)\u001b[0m\u001b[0;34m\u001b[0m\u001b[0;34m\u001b[0m\u001b[0m\n\u001b[0m\u001b[1;32m    157\u001b[0m \u001b[0;34m\u001b[0m\u001b[0m\n\u001b[1;32m    158\u001b[0m \u001b[0;34m\u001b[0m\u001b[0m\n",
            "\u001b[0;31mTypeError\u001b[0m: pad() missing 1 required positional argument: 'pad_width'"
          ]
        }
      ],
      "source": [
        "# define range of steering angles to test and preallocate the storage\n",
        "steering_angles   = np.arange(-32, 33, 2)\n",
        "number_scan_lines = len(steering_angles)\n",
        "scan_lines        = np.zeros((number_scan_lines, kgrid.Nt))\n",
        "\n",
        "if RUN_SIMULATION:\n",
        "    for angle_index in range(number_scan_lines):\n",
        "        print(f'Computing scan line {angle_index} of {number_scan_lines}')\n",
        "\n",
        "        # set the input settings\n",
        "        input_filename        = f'example_input_{angle_index}.h5'\n",
        "        # set the input settings\n",
        "        simulation_options    = SimulationOptions(\n",
        "            pml_inside        = False,\n",
        "            pml_size          = pml_size_points,\n",
        "            data_cast         = DATA_CAST,\n",
        "            data_recast       = True,\n",
        "            save_to_disk      = True,\n",
        "            input_filename    = input_filename,\n",
        "            save_to_disk_exit = False\n",
        "        )\n",
        "\n",
        "        # Update the current steering angle\n",
        "        not_transducer.steering_angle = steering_angles[angle_index]\n",
        "\n",
        "        # RUN 2D K-WAVE SIMULATION\n",
        "        sensor_data            = kspaceFirstOrder3D(\n",
        "            medium             = deepcopy(medium),  # Medium is altered in-place in this function\n",
        "            kgrid              = kgrid,\n",
        "            source             = not_transducer,\n",
        "            sensor             = not_transducer,\n",
        "            simulation_options = simulation_options,\n",
        "            execution_options  = SimulationExecutionOptions(is_gpu_simulation=True)\n",
        "        )\n",
        "\n",
        "        # combine sensor outputs and extract scan line\n",
        "        raw_pressure      = sensor_data['p'].T\n",
        "        combined_signal   = not_transducer.combine_sensor_data(raw_pressure)\n",
        "        scan_lines[angle_index, :] = not_transducer.scan_line(combined_signal)\n",
        "\n",
        "    # save\n",
        "    scipy.io.savemat('example_us_phased_array_scan_lines.mat', {'scan_lines': scan_lines})\n",
        "else:\n",
        "    scan_lines = scipy.io.loadmat('example_us_phased_array_scan_lines')['scan_lines']"
      ]
    },
    {
      "cell_type": "markdown",
      "metadata": {
        "id": "qRtLHwCdHGmN"
      },
      "source": [
        "## PROCESS THE RESULTS\n",
        "### Remove Input Signal"
      ]
    },
    {
      "cell_type": "code",
      "execution_count": null,
      "metadata": {
        "id": "5UUMZG6GHGmQ"
      },
      "outputs": [],
      "source": [
        "# Trim the delay offset from the scan line data\n",
        "t0_offset = int(round(len(input_signal.squeeze())/ 2) + (not_transducer.appended_zeros - not_transducer.beamforming_delays_offset))\n",
        "\n",
        "scan_lines = scan_lines[:, t0_offset:]\n",
        "\n",
        "Nt = np.shape(scan_lines)[1]\n"
      ]
    },
    {
      "cell_type": "code",
      "execution_count": null,
      "metadata": {
        "id": "mxyrNy1RHGmQ"
      },
      "outputs": [],
      "source": [
        "\n",
        "tukey_win, _ = get_win(Nt * 2, 'Tukey', False, 0.05)\n",
        "scan_line_win = np.concatenate((np.zeros([1, t0_offset * 2]), tukey_win.T[:, :int(len(tukey_win)/2) - t0_offset * 2]), axis=1)\n",
        "\n",
        "scan_lines = scan_lines * scan_line_win\n",
        "# store intermediate results"
      ]
    },
    {
      "cell_type": "markdown",
      "metadata": {
        "id": "9nyCwZWFHGmR"
      },
      "source": [
        "### Time Gain Compensation"
      ]
    },
    {
      "cell_type": "code",
      "execution_count": null,
      "metadata": {
        "id": "V0ec88g3HGmR"
      },
      "outputs": [],
      "source": [
        "# Create radius variable\n",
        "r = c0 * np.arange(1, Nt + 1) * kgrid.dt / 2\n",
        "\n",
        "# Define absorption value and convert to correct units\n",
        "tgc_alpha_db_cm = medium.alpha_coeff * (tone_burst_freq * 1e-6)**medium.alpha_power\n",
        "tgc_alpha_np_m = db2neper(tgc_alpha_db_cm) * 100\n",
        "\n",
        "# Create time gain compensation function\n",
        "tgc = np.exp(tgc_alpha_np_m * 2 * r)\n",
        "\n",
        "# Apply the time gain compensation to each of the scan lines\n",
        "scan_lines *= tgc"
      ]
    },
    {
      "cell_type": "markdown",
      "metadata": {
        "id": "lR0h0NkYHGmS"
      },
      "source": [
        "### Frequency Filtering"
      ]
    },
    {
      "cell_type": "code",
      "execution_count": null,
      "metadata": {
        "id": "IWgq1K-AHGmS"
      },
      "outputs": [],
      "source": [
        "scan_lines_fund = gaussian_filter(scan_lines, 1/kgrid.dt, tone_burst_freq, 100)\n",
        "scan_lines_harm = gaussian_filter(scan_lines, 1/kgrid.dt, 2 * tone_burst_freq, 30)"
      ]
    },
    {
      "cell_type": "markdown",
      "metadata": {
        "id": "zF21BSmhHGmS"
      },
      "source": [
        "### Envelope Detection"
      ]
    },
    {
      "cell_type": "code",
      "execution_count": null,
      "metadata": {
        "id": "orUyE_XrHGmT"
      },
      "outputs": [],
      "source": [
        "scan_lines_fund = envelope_detection(scan_lines_fund)\n",
        "scan_lines_harm = envelope_detection(scan_lines_harm)"
      ]
    },
    {
      "cell_type": "markdown",
      "metadata": {
        "id": "7sQi_iuRHGmT"
      },
      "source": [
        "### Log Compression"
      ]
    },
    {
      "cell_type": "code",
      "execution_count": null,
      "metadata": {
        "id": "A0FQ0rF3HGmT"
      },
      "outputs": [],
      "source": [
        "compression_ratio = 3\n",
        "scan_lines_fund = log_compression(scan_lines_fund, compression_ratio, True)\n",
        "scan_lines_harm = log_compression(scan_lines_harm, compression_ratio, True)"
      ]
    },
    {
      "cell_type": "markdown",
      "metadata": {
        "id": "PqxOAXc_HGmU"
      },
      "source": [
        "### Visualization"
      ]
    },
    {
      "cell_type": "code",
      "execution_count": null,
      "metadata": {
        "id": "N7twSB98HGmU"
      },
      "outputs": [],
      "source": [
        "image_size = [kgrid.Nx * kgrid.dx, kgrid.Ny * kgrid.dy]\n",
        "image_res = [256, 256]\n",
        "\n",
        "b_mode_fund = scan_conversion(scan_lines_fund, steering_angles, image_size, c0, kgrid.dt, image_res)\n",
        "b_mode_harm = scan_conversion(scan_lines_harm, steering_angles, image_size, c0, kgrid.dt, image_res)"
      ]
    },
    {
      "cell_type": "code",
      "execution_count": null,
      "metadata": {
        "id": "1DXlT32oHGmU"
      },
      "outputs": [],
      "source": [
        "# Create the axis variables\n",
        "x_axis = [0, image_size[0] * 1e3] # [mm]\n",
        "y_axis = [0, image_size[1] * 1e3]  # [mm]"
      ]
    },
    {
      "cell_type": "code",
      "execution_count": null,
      "metadata": {
        "id": "-tBwR_LbHGmV"
      },
      "outputs": [],
      "source": [
        "plt.ion()\n",
        "plt.figure(figsize=(15, 4))\n",
        "plt.subplot(131)\n",
        "plt.imshow(scan_lines.T, aspect='auto',\n",
        "             extent=[steering_angles[-1], steering_angles[0],y_axis[1], y_axis[0] ], interpolation='none', cmap='gray')\n",
        "plt.xlabel('Steering angle [deg]')\n",
        "plt.ylabel('Depth [mm]')\n",
        "plt.title('Raw Scan-Line Data')\n",
        "\n",
        "\n",
        "plt.subplot(132)\n",
        "plt.imshow(scan_lines_fund.T, aspect='auto',\n",
        "            extent=[steering_angles[-1], steering_angles[0],y_axis[1], y_axis[0] ],  interpolation='none', cmap='bone')\n",
        "plt.xlabel('Steering angle [deg]')\n",
        "plt.ylabel('Depth [mm]')\n",
        "plt.title('Processed Scan-Line Data')\n",
        "\n",
        "plt.subplot(133)\n",
        "plt.imshow(b_mode_fund, cmap='bone', aspect='auto',  extent=[y_axis[0], y_axis[1], x_axis[1], x_axis[0]], interpolation='none')\n",
        "plt.xlabel('Horizontal Position [mm]')\n",
        "plt.ylabel('Depth [mm]')\n",
        "plt.title('B-Mode Image')"
      ]
    },
    {
      "cell_type": "code",
      "execution_count": null,
      "metadata": {
        "id": "cp2e_5muHGmV"
      },
      "outputs": [],
      "source": [
        "plt.figure(figsize=(15, 4))\n",
        "plt.subplot(131)\n",
        "plt.imshow(medium.sound_speed[..., kgrid.Nz//2], aspect='auto',\n",
        "            extent=[y_axis[0], y_axis[1], x_axis[1], x_axis[0]])\n",
        "plt.xlabel('Horizontal Position [mm]')\n",
        "plt.ylabel('Depth [mm]')\n",
        "plt.title('Scattering Phantom')\n",
        "\n",
        "plt.subplot(132)\n",
        "plt.imshow(b_mode_fund, cmap='bone', aspect='auto',  extent=[y_axis[0], y_axis[1], x_axis[1], x_axis[0]], interpolation='none')\n",
        "plt.xlabel('Horizontal Position [mm]')\n",
        "plt.ylabel('Depth [mm]')\n",
        "plt.title('B-Mode Image')\n",
        "\n",
        "plt.subplot(133)\n",
        "plt.imshow(b_mode_harm, cmap='bone', aspect='auto',  extent=[y_axis[0], y_axis[1], x_axis[1], x_axis[0]], interpolation='none')\n",
        "plt.xlabel('Horizontal Position [mm]')\n",
        "plt.ylabel('Depth [mm]')\n",
        "plt.title('Harmonic Image')\n",
        "\n",
        "plt.show()\n"
      ]
    }
  ],
  "metadata": {
    "kernelspec": {
      "display_name": "Python 3",
      "name": "python3"
    },
    "language_info": {
      "codemirror_mode": {
        "name": "ipython",
        "version": 3
      },
      "file_extension": ".py",
      "mimetype": "text/x-python",
      "name": "python",
      "nbconvert_exporter": "python",
      "pygments_lexer": "ipython3"
    },
    "colab": {
      "provenance": [],
      "gpuType": "T4",
      "include_colab_link": true
    },
    "accelerator": "GPU"
  },
  "nbformat": 4,
  "nbformat_minor": 0
}