{
  "cells": [
    {
      "cell_type": "markdown",
      "metadata": {
        "id": "view-in-github",
        "colab_type": "text"
      },
      "source": [
        "<a href=\"https://colab.research.google.com/github/vanessacannizzaropolimi/US_Simulation/blob/main/examples/us_bmode_phased_array/us_bmode_phased_array_from_ct.ipynb\" target=\"_parent\"><img src=\"https://colab.research.google.com/assets/colab-badge.svg\" alt=\"Open In Colab\"/></a>"
      ]
    },
    {
      "cell_type": "markdown",
      "source": [
        "Install k-Wave-python and import libraries"
      ],
      "metadata": {
        "id": "ax0i596jiURw"
      }
    },
    {
      "cell_type": "code",
      "execution_count": 1,
      "metadata": {
        "id": "8xTi-tyFHGlx"
      },
      "outputs": [],
      "source": [
        "%%capture\n",
        "!pip install git+https://github.com/waltsims/k-wave-python"
      ]
    },
    {
      "cell_type": "code",
      "execution_count": 2,
      "metadata": {
        "id": "RIXUhlM1HGl7"
      },
      "outputs": [],
      "source": [
        "from copy import deepcopy\n",
        "\n",
        "import numpy as np\n",
        "import nibabel as nib\n",
        "import scipy.io\n",
        "from matplotlib import pyplot as plt\n",
        "\n",
        "from kwave.data import Vector\n",
        "from kwave.kgrid import kWaveGrid\n",
        "from kwave.kmedium import kWaveMedium\n",
        "# from kwave.kspaceFirstOrder2D import kspaceFirstOrder2D\n",
        "from kwave.kspaceFirstOrder3D import kspaceFirstOrder3D\n",
        "from kwave.ktransducer import NotATransducer, kWaveTransducerSimple\n",
        "from kwave.options.simulation_execution_options import SimulationExecutionOptions\n",
        "from kwave.options.simulation_options import SimulationOptions\n",
        "from kwave.reconstruction.beamform import envelope_detection, scan_conversion\n",
        "from kwave.reconstruction.tools import log_compression\n",
        "from kwave.utils.conversion import db2neper\n",
        "from kwave.utils.dotdictionary import dotdict\n",
        "from kwave.utils.filters import gaussian_filter\n",
        "# from kwave.utils.mapgen import make_ball\n",
        "from kwave.utils.signals import get_win, tone_burst\n",
        "from kwave.utils.conversion import hounsfield2density, hounsfield2soundspeed"
      ]
    },
    {
      "cell_type": "markdown",
      "source": [
        "Settings"
      ],
      "metadata": {
        "id": "0TRa-38P-ZPQ"
      }
    },
    {
      "cell_type": "code",
      "source": [
        "DATA_CAST      = 'single'\n",
        "RUN_SIMULATION = True\n",
        "\n",
        "# CT file\n",
        "filename       = 'volumeAdjusted.nii'\n",
        "\n",
        "# Physical properties\n",
        "c0             = 1540\n",
        "rho            = 1000\n",
        "\n",
        "# Transducer\n",
        "NUM_ELEMENTS   = 64\n",
        "ELEM_WIDTH     = 1\n",
        "ELEM_LENGTH    = 40\n",
        "ELEM_SPACING   = 0"
      ],
      "metadata": {
        "id": "wuUJyL_4uebT"
      },
      "execution_count": 3,
      "outputs": []
    },
    {
      "cell_type": "markdown",
      "source": [
        "Load CT NIfTI file"
      ],
      "metadata": {
        "id": "HXbbGl7vifgQ"
      }
    },
    {
      "cell_type": "code",
      "source": [
        "ct_img                         = nib.load(filename)\n",
        "ct_vol                         = ct_img.get_fdata()\n",
        "\n",
        "# resolution for grid spacing\n",
        "dx_mm, dy_mm, dz_mm            = ct_img.header.get_zooms()  # 3d spacing in mm\n",
        "print(f'CT resolution in mm:\\n', dx_mm, dy_mm, dz_mm)\n",
        "lateral_spacing, depth_spacing, elevation = dx_mm/1000.0, dy_mm/1000.0, dz_mm/1000.0\n",
        "\n",
        "# dimensions\n",
        "Nx, Ny, Nz = ct_vol.shape\n",
        "print(f'CT dimensions in voxels:\\n', Nx, Ny, Nz)\n",
        "\n",
        "# central slice index\n",
        "slice_idx  = round(Nz // 2)\n",
        "print(f'Central slice index:\\n', slice_idx)"
      ],
      "metadata": {
        "id": "0BzYqHaqiSdm",
        "colab": {
          "base_uri": "https://localhost:8080/"
        },
        "outputId": "bb029ae6-f4f5-4532-fdd2-a56e54fdd229"
      },
      "execution_count": 4,
      "outputs": [
        {
          "output_type": "stream",
          "name": "stdout",
          "text": [
            "CT resolution in mm:\n",
            " 0.703125 0.703125 5.0\n",
            "CT dimensions in voxels:\n",
            " 511 342 74\n",
            "Central slice index:\n",
            " 37\n"
          ]
        }
      ]
    },
    {
      "cell_type": "markdown",
      "source": [
        "Pre-processing"
      ],
      "metadata": {
        "id": "dibZhsSq4Fnr"
      }
    },
    {
      "cell_type": "code",
      "source": [
        "hu_threshold = -500\n",
        "mask3d = ct_vol > hu_threshold\n",
        "ct_vol = ct_vol * mask3d"
      ],
      "metadata": {
        "id": "_9cEmi3O4FUL"
      },
      "execution_count": 5,
      "outputs": []
    },
    {
      "cell_type": "markdown",
      "source": [
        "Conversion HU -> acoustic properties: density [kg/m^3] and sound speed [m/s]"
      ],
      "metadata": {
        "id": "Cvu81TqAjI6R"
      }
    },
    {
      "cell_type": "code",
      "source": [
        "density_map     = hounsfield2density(ct_vol, plot_fitting=False).astype(np.float32) # :contentReference[oaicite:0]{index=0}\n",
        "sound_speed_map = hounsfield2soundspeed(ct_vol).astype(np.float32)                  # :contentReference[oaicite:1]{index=1}"
      ],
      "metadata": {
        "id": "PTN_madDjP3J"
      },
      "execution_count": 6,
      "outputs": []
    },
    {
      "cell_type": "markdown",
      "source": [
        "2D grid and temporal dependencies"
      ],
      "metadata": {
        "id": "9y5IdV8Y85eH"
      }
    },
    {
      "cell_type": "code",
      "source": [
        "# |<- PML ->|<------ computational domain ------>|<- PML ->|\n",
        "# |pml_size pts   (Nx - 2*pml_size) pts      pml_size pts|\n",
        "pml_size_points     = Vector([10, 10, 10])                  # [grid points]\n",
        "\n",
        "grid_size_points    = Vector([Nx, Ny, Nz])\n",
        "grid_spacing_meters = Vector([lateral_spacing,\n",
        "                              depth_spacing,\n",
        "                              elevation]) # grid spacing is given by ct resolution\n",
        "\n",
        "kgrid               = kWaveGrid(grid_size_points, grid_spacing_meters)\n",
        "\n",
        "domain_depth = grid_size_points.y * grid_spacing_meters.y # depth [m]\n",
        "t_end        = domain_depth * 2.2 / c0                    # [s], 2.2 is safety factor for overshoot\n",
        "kgrid.makeTime(c0, t_end = t_end)"
      ],
      "metadata": {
        "id": "W1nszfxc85OJ",
        "colab": {
          "base_uri": "https://localhost:8080/"
        },
        "outputId": "5e79e2ce-0685-49a0-b047-297ea7a967d5"
      },
      "execution_count": 7,
      "outputs": [
        {
          "output_type": "execute_result",
          "data": {
            "text/plain": [
              "(Vector([[0.00000000e+00, 1.36972416e-07, 2.73944831e-07, ...,\n",
              "          3.43252873e-04, 3.43389846e-04, 3.43526818e-04]]),\n",
              " Vector(1.36972416e-07))"
            ]
          },
          "metadata": {},
          "execution_count": 7
        }
      ]
    },
    {
      "cell_type": "markdown",
      "source": [
        "Medium"
      ],
      "metadata": {
        "id": "-fzChFqvuYHb"
      }
    },
    {
      "cell_type": "code",
      "source": [
        "medium = kWaveMedium(\n",
        "  sound_speed = None,\n",
        "  density     = None,\n",
        "  alpha_coeff = 0.75,\n",
        "  alpha_power = 1.5,\n",
        "  BonA        = 6\n",
        ")"
      ],
      "metadata": {
        "id": "7n8Xj2cOuWpJ"
      },
      "execution_count": 8,
      "outputs": []
    },
    {
      "cell_type": "markdown",
      "source": [
        "Input signal"
      ],
      "metadata": {
        "id": "06CUXLI2jS-K"
      }
    },
    {
      "cell_type": "code",
      "execution_count": 9,
      "metadata": {
        "id": "l6ExjbPzHGmD"
      },
      "outputs": [],
      "source": [
        "source_strength   = 1e6  # [Pa] pressure amplitude\n",
        "tone_burst_freq   = 1e6  # [Hz] burst central frequency\n",
        "tone_burst_cycles = 4    # burst cycles\n",
        "rho0              = 1000\n",
        "\n",
        "input_signal = tone_burst(1 / kgrid.dt, tone_burst_freq, tone_burst_cycles)\n",
        "input_signal = (source_strength / (c0 * rho0)) * input_signal"
      ]
    },
    {
      "cell_type": "markdown",
      "source": [
        "Transducer"
      ],
      "metadata": {
        "id": "jE6eFNczBxse"
      }
    },
    {
      "cell_type": "code",
      "execution_count": 10,
      "metadata": {
        "id": "d8d3FQfRHGmE"
      },
      "outputs": [],
      "source": [
        "transducer                 = dotdict()\n",
        "transducer.number_elements = NUM_ELEMENTS  # total number of transducer elements\n",
        "transducer.element_width   = ELEM_WIDTH    # width of each element [grid points]\n",
        "transducer.element_length  = ELEM_LENGTH   # length of each element [grid points]\n",
        "transducer.element_spacing = ELEM_SPACING  # spacing (kerf  width) between the elements [grid points]\n",
        "transducer.radius          = float('inf')  # radius of curvature of the transducer [m]\n",
        "\n",
        "# calculate the width of the transducer in grid points\n",
        "transducer_width = (\n",
        "    transducer.number_elements * transducer.element_width\n",
        "    + (transducer.number_elements - 1) * transducer.element_spacing\n",
        ")\n",
        "\n",
        "# use this to position the transducer in the middle of the computational grid\n",
        "lateral_start_index = int(np.round(grid_size_points.x/2 - transducer_width/2))\n",
        "depth_start_index   = 1\n",
        "z_start_index       = int(round((grid_size_points.z - transducer.element_length) / 2))\n",
        "\n",
        "transducer.position = [lateral_start_index,\n",
        "                       depth_start_index,\n",
        "                       z_start_index]\n",
        "\n",
        "transducer          = kWaveTransducerSimple(kgrid, **transducer)"
      ]
    },
    {
      "cell_type": "markdown",
      "source": [
        "“Not-A-Transducer” for source/sensor"
      ],
      "metadata": {
        "id": "8mvxvxVhBsO3"
      }
    },
    {
      "cell_type": "code",
      "execution_count": 11,
      "metadata": {
        "id": "eLrJHTKsHGmH"
      },
      "outputs": [],
      "source": [
        "not_transducer                      = dotdict()\n",
        "not_transducer.sound_speed          = c0  # sound speed [m/s]\n",
        "not_transducer.focus_distance       = 30e-3  # focus distance [m]\n",
        "not_transducer.elevation_focus_distance = 30e-3  # focus distance in the elevation plane [m]\n",
        "not_transducer.steering_angle       = 0  # steering angle [degrees]\n",
        "not_transducer.steering_angle_max   = 32  # steering angle [degrees]\n",
        "not_transducer.transmit_apodization = 'Hanning'\n",
        "not_transducer.receive_apodization  = 'Rectangular'\n",
        "not_transducer.active_elements      = np.ones((transducer.number_elements, 1))\n",
        "not_transducer.input_signal         = input_signal\n",
        "\n",
        "not_transducer                      = NotATransducer(transducer, kgrid, **not_transducer)"
      ]
    },
    {
      "cell_type": "markdown",
      "source": [
        "Random scatters (speckle-like)"
      ],
      "metadata": {
        "id": "iYjx-G_i8Q23"
      }
    },
    {
      "cell_type": "code",
      "source": [
        "'''\n",
        "# define a random distribution of scatterers\n",
        "background_map_mean = 1\n",
        "background_map_std  = 0.008\n",
        "background_map      = background_map_mean + background_map_std * np.random.randn(kgrid.Nx, kgrid.Ny, kgrid.Nz)\n",
        "\n",
        "sound_speed_map     = c0 * background_map\n",
        "density_map         = rho0 * background_map\n",
        "\n",
        "# add scatters to medium\n",
        "medium.sound_speed  = sound_speed_map.astype(np.float32)\n",
        "medium.density      = density_map.astype(np.float32)\n",
        "'''"
      ],
      "metadata": {
        "id": "fzfCU0br7-hH",
        "colab": {
          "base_uri": "https://localhost:8080/",
          "height": 71
        },
        "outputId": "6974a739-0837-4c76-8465-304e0fb17f38"
      },
      "execution_count": 12,
      "outputs": [
        {
          "output_type": "execute_result",
          "data": {
            "text/plain": [
              "'\\n# define a random distribution of scatterers\\nbackground_map_mean = 1\\nbackground_map_std  = 0.008\\nbackground_map      = background_map_mean + background_map_std * np.random.randn(kgrid.Nx, kgrid.Ny, kgrid.Nz)\\n\\nsound_speed_map     = c0 * background_map\\ndensity_map         = rho0 * background_map\\n\\n# add scatters to medium\\nmedium.sound_speed  = sound_speed_map.astype(np.float32)\\nmedium.density      = density_map.astype(np.float32)\\n'"
            ],
            "application/vnd.google.colaboratory.intrinsic+json": {
              "type": "string"
            }
          },
          "metadata": {},
          "execution_count": 12
        }
      ]
    },
    {
      "cell_type": "code",
      "source": [
        "'''\n",
        "# Segment the bone structures on the CT slice and apply enhanced scattering properties to those regions\n",
        "# 1. Segment the region of interest on the CT slice (e.g., bone) based on Hounsfield Units\n",
        "hu_threshold = 300                        # HU threshold above which voxels are considered bone\n",
        "bone_mask    = (ct_slice > hu_threshold) # boolean mask of the high-density region\n",
        "\n",
        "# 2. Generate scattering parameters for that region (reusing your clipping logic)\n",
        "scattering_map = np.random.randn(*ct_slice.shape)             # random perturbation map\n",
        "scattering_c0   = np.clip(                           # clamp sound speed values between 1400 and 1600 m/s\n",
        "    c0 + 25 + 75 * scattering_map,\n",
        "    1400,\n",
        "    1600\n",
        ")\n",
        "scattering_rho0 = scattering_c0 / 1.5                    # density values proportional to sound speed\n",
        "\n",
        "# 3. Overwrite the CT-derived maps only where the mask is True\n",
        "sound_speed_map[bone_mask] = scattering_c0[bone_mask]    # apply higher scattering speed in bone regions\n",
        "density_map    [bone_mask] = scattering_rho0[bone_mask]   # apply corresponding density\n",
        "\n",
        "# 4. Update the medium with the modified maps\n",
        "medium.sound_speed = sound_speed_map.astype(np.float32)  # ensure correct dtype for simulation\n",
        "medium.density     = density_map.astype(np.float32)\n",
        "'''"
      ],
      "metadata": {
        "colab": {
          "base_uri": "https://localhost:8080/",
          "height": 140
        },
        "cellView": "code",
        "id": "XbDL2t278A_G",
        "outputId": "be1cd73f-63fe-469b-c5db-573ea6c2a7a7"
      },
      "execution_count": 13,
      "outputs": [
        {
          "output_type": "execute_result",
          "data": {
            "text/plain": [
              "'\\n# Segment the bone structures on the CT slice and apply enhanced scattering properties to those regions\\n# 1. Segment the region of interest on the CT slice (e.g., bone) based on Hounsfield Units\\nhu_threshold = 300                        # HU threshold above which voxels are considered bone\\nbone_mask    = (ct_slice > hu_threshold) # boolean mask of the high-density region\\n\\n# 2. Generate scattering parameters for that region (reusing your clipping logic)\\nscattering_map = np.random.randn(*ct_slice.shape)             # random perturbation map\\nscattering_c0   = np.clip(                           # clamp sound speed values between 1400 and 1600 m/s\\n    c0 + 25 + 75 * scattering_map,\\n    1400,\\n    1600\\n)\\nscattering_rho0 = scattering_c0 / 1.5                    # density values proportional to sound speed\\n\\n# 3. Overwrite the CT-derived maps only where the mask is True\\nsound_speed_map[bone_mask] = scattering_c0[bone_mask]    # apply higher scattering speed in bone regions\\ndensity_map    [bone_mask] = scattering_rho0[bone_mask]   # apply corresponding density\\n\\n# 4. Update the medium with the modified maps\\nmedium.sound_speed = sound_speed_map.astype(np.float32)  # ensure correct dtype for simulation\\nmedium.density     = density_map.astype(np.float32)\\n'"
            ],
            "application/vnd.google.colaboratory.intrinsic+json": {
              "type": "string"
            }
          },
          "metadata": {},
          "execution_count": 13
        }
      ]
    },
    {
      "cell_type": "markdown",
      "source": [
        "# Run simulation"
      ],
      "metadata": {
        "id": "TsEKml4kBCyN"
      }
    },
    {
      "cell_type": "code",
      "execution_count": null,
      "metadata": {
        "id": "VnNDQcw8HGmM",
        "colab": {
          "base_uri": "https://localhost:8080/"
        },
        "outputId": "9731c8d1-b870-4578-c72b-9f78816cfb75"
      },
      "outputs": [
        {
          "output_type": "stream",
          "name": "stdout",
          "text": [
            "Computing scan line 0 of 33\n",
            "grid_size_points = [511 342  74]\n",
            "medium.sound_speed.shape = (511, 342, 74)\n",
            "simulation_options.pml_inside = False\n",
            "simulation_options.pml_size  = [10 10 10]\n"
          ]
        },
        {
          "output_type": "stream",
          "name": "stderr",
          "text": [
            "WARNING:root:Highest prime factors in each dimension are [ 59 181  47]\n",
            "WARNING:root:Use dimension sizes with lower prime factors to improve speed\n"
          ]
        },
        {
          "output_type": "stream",
          "name": "stdout",
          "text": [
            "┌───────────────────────────────────────────────────────────────┐\n",
            "│                  kspaceFirstOrder-CUDA v1.3                   │\n",
            "├───────────────────────────────────────────────────────────────┤\n",
            "│ Reading simulation configuration:                        Done │\n",
            "│ Selected GPU device id:                                     0 │\n",
            "│ GPU device name:                                     Tesla T4 │\n",
            "│ Number of CPU threads:                                      2 │\n",
            "│ Processor name:                Intel(R) Xeon(R) CPU @ 2.00GHz │\n",
            "├───────────────────────────────────────────────────────────────┤\n",
            "│                      Simulation details                       │\n",
            "├───────────────────────────────────────────────────────────────┤\n",
            "│ Domain dimensions:                             531 x 362 x 94 │\n",
            "│ Medium type:                                               3D │\n",
            "│ Simulation time steps:                                   2509 │\n",
            "├───────────────────────────────────────────────────────────────┤\n",
            "│                        Initialization                         │\n",
            "├───────────────────────────────────────────────────────────────┤\n",
            "│ Memory allocation:                                       Done │\n",
            "│ Data loading:                                            Done │\n",
            "│ Elapsed time:                                           0.18s │\n",
            "├───────────────────────────────────────────────────────────────┤\n",
            "│ FFT plans creation:                                      Done │\n",
            "│ Pre-processing phase:                                    Done │\n",
            "│ Elapsed time:                                           0.65s │\n",
            "├───────────────────────────────────────────────────────────────┤\n",
            "│                    Computational resources                    │\n",
            "├───────────────────────────────────────────────────────────────┤\n",
            "│ Current host memory in use:                            4761MB │\n",
            "│ Current device memory in use:                          2384MB │\n",
            "│ Expected output file size:                               24MB │\n",
            "├───────────────────────────────────────────────────────────────┤\n",
            "│                          Simulation                           │\n",
            "├──────────┬────────────────┬──────────────┬────────────────────┤\n",
            "│ Progress │  Elapsed time  │  Time to go  │  Est. finish time  │\n",
            "├──────────┼────────────────┼──────────────┼────────────────────┤\n",
            "│     0%   │        0.172s  │    215.371s  │  05/05/25 15:58:41 │\n",
            "│     5%   │       18.476s  │    346.530s  │  05/05/25 16:01:10 │\n",
            "│    10%   │       37.111s  │    332.382s  │  05/05/25 16:01:15 │\n",
            "│    15%   │       56.289s  │    317.331s  │  05/05/25 16:01:19 │\n",
            "│    20%   │       75.732s  │    302.023s  │  05/05/25 16:01:24 │\n",
            "│    25%   │       95.777s  │    286.267s  │  05/05/25 16:01:28 │\n",
            "│    30%   │      115.814s  │    269.566s  │  05/05/25 16:01:31 │\n",
            "│    35%   │      135.757s  │    251.305s  │  05/05/25 16:01:33 │\n",
            "│    40%   │      155.424s  │    232.594s  │  05/05/25 16:01:33 │\n",
            "│    45%   │      175.367s  │    213.666s  │  05/05/25 16:01:34 │\n",
            "│    50%   │      195.261s  │    194.794s  │  05/05/25 16:01:35 │\n",
            "│    55%   │      215.132s  │    175.720s  │  05/05/25 16:01:36 │\n",
            "│    60%   │      235.110s  │    156.324s  │  05/05/25 16:01:37 │\n",
            "│    65%   │      254.904s  │    136.980s  │  05/05/25 16:01:37 │\n",
            "│    70%   │      274.892s  │    117.431s  │  05/05/25 16:01:38 │\n",
            "│    75%   │      294.732s  │     97.983s  │  05/05/25 16:01:38 │\n",
            "│    80%   │      314.733s  │     78.331s  │  05/05/25 16:01:39 │\n",
            "│    85%   │      334.557s  │     58.790s  │  05/05/25 16:01:39 │\n",
            "│    90%   │      354.568s  │     39.065s  │  05/05/25 16:01:40 │\n",
            "│    95%   │      374.431s  │     19.467s  │  05/05/25 16:01:39 │\n",
            "├──────────┴────────────────┴──────────────┴────────────────────┤\n",
            "│ Elapsed time:                                         394.41s │\n",
            "├───────────────────────────────────────────────────────────────┤\n",
            "│ Sampled data post-processing:                            Done │\n",
            "│ Elapsed time:                                           0.00s │\n",
            "├───────────────────────────────────────────────────────────────┤\n",
            "│                            Summary                            │\n",
            "├───────────────────────────────────────────────────────────────┤\n",
            "│ Peak host memory in use:                               4761MB │\n",
            "│ Peak device memory in use:                             2384MB │\n",
            "├───────────────────────────────────────────────────────────────┤\n",
            "│ Total execution time:                                 396.54s │\n",
            "├───────────────────────────────────────────────────────────────┤\n",
            "│                       End of computation                      │\n",
            "└───────────────────────────────────────────────────────────────┘\n",
            "Computing scan line 1 of 33\n",
            "grid_size_points = [511 342  74]\n",
            "medium.sound_speed.shape = (511, 342, 74)\n",
            "simulation_options.pml_inside = False\n",
            "simulation_options.pml_size  = [10 10 10]\n"
          ]
        },
        {
          "output_type": "stream",
          "name": "stderr",
          "text": [
            "WARNING:root:Highest prime factors in each dimension are [ 59 181  47]\n",
            "WARNING:root:Use dimension sizes with lower prime factors to improve speed\n"
          ]
        },
        {
          "output_type": "stream",
          "name": "stdout",
          "text": [
            "┌───────────────────────────────────────────────────────────────┐\n",
            "│                  kspaceFirstOrder-CUDA v1.3                   │\n",
            "├───────────────────────────────────────────────────────────────┤\n",
            "│ Reading simulation configuration:                        Done │\n",
            "│ Selected GPU device id:                                     0 │\n",
            "│ GPU device name:                                     Tesla T4 │\n",
            "│ Number of CPU threads:                                      2 │\n",
            "│ Processor name:                Intel(R) Xeon(R) CPU @ 2.00GHz │\n",
            "├───────────────────────────────────────────────────────────────┤\n",
            "│                      Simulation details                       │\n",
            "├───────────────────────────────────────────────────────────────┤\n",
            "│ Domain dimensions:                             531 x 362 x 94 │\n",
            "│ Medium type:                                               3D │\n",
            "│ Simulation time steps:                                   2509 │\n",
            "├───────────────────────────────────────────────────────────────┤\n",
            "│                        Initialization                         │\n",
            "├───────────────────────────────────────────────────────────────┤\n",
            "│ Memory allocation:                                       Done │\n",
            "│ Data loading:                                            Done │\n",
            "│ Elapsed time:                                           0.18s │\n",
            "├───────────────────────────────────────────────────────────────┤\n",
            "│ FFT plans creation:                                      Done │\n",
            "│ Pre-processing phase:                                    Done │\n",
            "│ Elapsed time:                                           0.44s │\n",
            "├───────────────────────────────────────────────────────────────┤\n",
            "│                    Computational resources                    │\n",
            "├───────────────────────────────────────────────────────────────┤\n",
            "│ Current host memory in use:                            4797MB │\n",
            "│ Current device memory in use:                          2384MB │\n",
            "│ Expected output file size:                               24MB │\n",
            "├───────────────────────────────────────────────────────────────┤\n",
            "│                          Simulation                           │\n",
            "├──────────┬────────────────┬──────────────┬────────────────────┤\n",
            "│ Progress │  Elapsed time  │  Time to go  │  Est. finish time  │\n",
            "├──────────┼────────────────┼──────────────┼────────────────────┤\n",
            "│     0%   │        0.166s  │    207.670s  │  05/05/25 16:05:32 │\n",
            "│     5%   │       19.745s  │    370.329s  │  05/05/25 16:08:34 │\n",
            "│    10%   │       39.945s  │    357.761s  │  05/05/25 16:08:42 │\n",
            "│    15%   │       60.128s  │    338.975s  │  05/05/25 16:08:43 │\n",
            "│    20%   │       79.832s  │    318.375s  │  05/05/25 16:08:42 │\n",
            "│    25%   │       99.662s  │    297.877s  │  05/05/25 16:08:41 │\n",
            "│    30%   │      119.489s  │    278.121s  │  05/05/25 16:08:42 │\n",
            "│    35%   │      139.573s  │    258.368s  │  05/05/25 16:08:42 │\n",
            "│    40%   │      159.460s  │    238.634s  │  05/05/25 16:08:42 │\n",
            "│    45%   │      179.415s  │    218.598s  │  05/05/25 16:08:42 │\n",
            "│    50%   │      199.228s  │    198.753s  │  05/05/25 16:08:42 │\n",
            "│    55%   │      219.083s  │    178.947s  │  05/05/25 16:08:42 │\n",
            "│    60%   │      239.121s  │    158.991s  │  05/05/25 16:08:42 │\n",
            "│    65%   │      258.990s  │    139.175s  │  05/05/25 16:08:43 │\n",
            "│    70%   │      278.984s  │    119.179s  │  05/05/25 16:08:43 │\n",
            "│    75%   │      298.804s  │     99.337s  │  05/05/25 16:08:42 │\n",
            "│    80%   │      318.774s  │     79.336s  │  05/05/25 16:08:42 │\n",
            "│    85%   │      338.595s  │     59.500s  │  05/05/25 16:08:42 │\n",
            "│    90%   │      358.595s  │     39.509s  │  05/05/25 16:08:42 │\n",
            "│    95%   │      378.448s  │     19.676s  │  05/05/25 16:08:42 │\n",
            "├──────────┴────────────────┴──────────────┴────────────────────┤\n",
            "│ Elapsed time:                                         398.46s │\n",
            "├───────────────────────────────────────────────────────────────┤\n",
            "│ Sampled data post-processing:                            Done │\n",
            "│ Elapsed time:                                           0.00s │\n",
            "├───────────────────────────────────────────────────────────────┤\n",
            "│                            Summary                            │\n",
            "├───────────────────────────────────────────────────────────────┤\n",
            "│ Peak host memory in use:                               4797MB │\n",
            "│ Peak device memory in use:                             2384MB │\n",
            "├───────────────────────────────────────────────────────────────┤\n",
            "│ Total execution time:                                 400.30s │\n",
            "├───────────────────────────────────────────────────────────────┤\n",
            "│                       End of computation                      │\n",
            "└───────────────────────────────────────────────────────────────┘\n",
            "Computing scan line 2 of 33\n",
            "grid_size_points = [511 342  74]\n",
            "medium.sound_speed.shape = (511, 342, 74)\n",
            "simulation_options.pml_inside = False\n",
            "simulation_options.pml_size  = [10 10 10]\n"
          ]
        },
        {
          "output_type": "stream",
          "name": "stderr",
          "text": [
            "WARNING:root:Highest prime factors in each dimension are [ 59 181  47]\n",
            "WARNING:root:Use dimension sizes with lower prime factors to improve speed\n"
          ]
        },
        {
          "output_type": "stream",
          "name": "stdout",
          "text": [
            "┌───────────────────────────────────────────────────────────────┐\n",
            "│                  kspaceFirstOrder-CUDA v1.3                   │\n",
            "├───────────────────────────────────────────────────────────────┤\n",
            "│ Reading simulation configuration:                        Done │\n",
            "│ Selected GPU device id:                                     0 │\n",
            "│ GPU device name:                                     Tesla T4 │\n",
            "│ Number of CPU threads:                                      2 │\n",
            "│ Processor name:                Intel(R) Xeon(R) CPU @ 2.00GHz │\n",
            "├───────────────────────────────────────────────────────────────┤\n",
            "│                      Simulation details                       │\n",
            "├───────────────────────────────────────────────────────────────┤\n",
            "│ Domain dimensions:                             531 x 362 x 94 │\n",
            "│ Medium type:                                               3D │\n",
            "│ Simulation time steps:                                   2509 │\n",
            "├───────────────────────────────────────────────────────────────┤\n",
            "│                        Initialization                         │\n",
            "├───────────────────────────────────────────────────────────────┤\n",
            "│ Memory allocation:                                       Done │\n",
            "│ Data loading:                                            Done │\n",
            "│ Elapsed time:                                           0.19s │\n",
            "├───────────────────────────────────────────────────────────────┤\n",
            "│ FFT plans creation:                                      Done │\n",
            "│ Pre-processing phase:                                    Done │\n",
            "│ Elapsed time:                                           0.61s │\n",
            "├───────────────────────────────────────────────────────────────┤\n",
            "│                    Computational resources                    │\n",
            "├───────────────────────────────────────────────────────────────┤\n",
            "│ Current host memory in use:                            4804MB │\n",
            "│ Current device memory in use:                          2384MB │\n",
            "│ Expected output file size:                               24MB │\n",
            "├───────────────────────────────────────────────────────────────┤\n",
            "│                          Simulation                           │\n",
            "├──────────┬────────────────┬──────────────┬────────────────────┤\n",
            "│ Progress │  Elapsed time  │  Time to go  │  Est. finish time  │\n",
            "├──────────┼────────────────┼──────────────┼────────────────────┤\n",
            "│     0%   │        0.188s  │    235.935s  │  05/05/25 16:13:07 │\n",
            "│     5%   │       19.719s  │    369.853s  │  05/05/25 16:15:41 │\n",
            "│    10%   │       39.590s  │    354.577s  │  05/05/25 16:15:45 │\n",
            "│    15%   │       59.384s  │    334.782s  │  05/05/25 16:15:45 │\n",
            "│    20%   │       78.955s  │    314.880s  │  05/05/25 16:15:45 │\n",
            "│    25%   │       98.821s  │    295.362s  │  05/05/25 16:15:46 │\n",
            "│    30%   │      118.656s  │    276.183s  │  05/05/25 16:15:46 │\n",
            "│    35%   │      138.642s  │    256.645s  │  05/05/25 16:15:46 │\n",
            "│    40%   │      158.435s  │    237.101s  │  05/05/25 16:15:47 │\n",
            "│    45%   │      178.380s  │    217.337s  │  05/05/25 16:15:47 │\n",
            "│    50%   │      198.206s  │    197.733s  │  05/05/25 16:15:47 │\n",
            "│    55%   │      218.062s  │    178.113s  │  05/05/25 16:15:48 │\n",
            "│    60%   │      238.097s  │    158.310s  │  05/05/25 16:15:48 │\n",
            "│    65%   │      257.965s  │    138.625s  │  05/05/25 16:15:48 │\n",
            "│    70%   │      277.984s  │    118.752s  │  05/05/25 16:15:48 │\n",
            "│    75%   │      297.843s  │     99.017s  │  05/05/25 16:15:49 │\n",
            "│    80%   │      317.861s  │     79.109s  │  05/05/25 16:15:49 │\n",
            "│    85%   │      337.709s  │     59.344s  │  05/05/25 16:15:49 │\n",
            "│    90%   │      357.723s  │     39.413s  │  05/05/25 16:15:49 │\n",
            "│    95%   │      377.576s  │     19.631s  │  05/05/25 16:15:48 │\n",
            "├──────────┴────────────────┴──────────────┴────────────────────┤\n",
            "│ Elapsed time:                                         397.59s │\n",
            "├───────────────────────────────────────────────────────────────┤\n",
            "│ Sampled data post-processing:                            Done │\n",
            "│ Elapsed time:                                           0.00s │\n",
            "├───────────────────────────────────────────────────────────────┤\n",
            "│                            Summary                            │\n",
            "├───────────────────────────────────────────────────────────────┤\n",
            "│ Peak host memory in use:                               4804MB │\n",
            "│ Peak device memory in use:                             2384MB │\n",
            "├───────────────────────────────────────────────────────────────┤\n",
            "│ Total execution time:                                 399.63s │\n",
            "├───────────────────────────────────────────────────────────────┤\n",
            "│                       End of computation                      │\n",
            "└───────────────────────────────────────────────────────────────┘\n",
            "Computing scan line 3 of 33\n",
            "grid_size_points = [511 342  74]\n",
            "medium.sound_speed.shape = (511, 342, 74)\n",
            "simulation_options.pml_inside = False\n",
            "simulation_options.pml_size  = [10 10 10]\n"
          ]
        },
        {
          "output_type": "stream",
          "name": "stderr",
          "text": [
            "WARNING:root:Highest prime factors in each dimension are [ 59 181  47]\n",
            "WARNING:root:Use dimension sizes with lower prime factors to improve speed\n"
          ]
        },
        {
          "output_type": "stream",
          "name": "stdout",
          "text": [
            "┌───────────────────────────────────────────────────────────────┐\n",
            "│                  kspaceFirstOrder-CUDA v1.3                   │\n",
            "├───────────────────────────────────────────────────────────────┤\n",
            "│ Reading simulation configuration:                        Done │\n",
            "│ Selected GPU device id:                                     0 │\n",
            "│ GPU device name:                                     Tesla T4 │\n",
            "│ Number of CPU threads:                                      2 │\n",
            "│ Processor name:                Intel(R) Xeon(R) CPU @ 2.00GHz │\n",
            "├───────────────────────────────────────────────────────────────┤\n",
            "│                      Simulation details                       │\n",
            "├───────────────────────────────────────────────────────────────┤\n",
            "│ Domain dimensions:                             531 x 362 x 94 │\n",
            "│ Medium type:                                               3D │\n",
            "│ Simulation time steps:                                   2509 │\n",
            "├───────────────────────────────────────────────────────────────┤\n",
            "│                        Initialization                         │\n",
            "├───────────────────────────────────────────────────────────────┤\n",
            "│ Memory allocation:                                       Done │\n",
            "│ Data loading:                                            Done │\n",
            "│ Elapsed time:                                           0.18s │\n",
            "├───────────────────────────────────────────────────────────────┤\n",
            "│ FFT plans creation:                                      Done │\n",
            "│ Pre-processing phase:                                    Done │\n",
            "│ Elapsed time:                                           0.49s │\n",
            "├───────────────────────────────────────────────────────────────┤\n",
            "│                    Computational resources                    │\n",
            "├───────────────────────────────────────────────────────────────┤\n",
            "│ Current host memory in use:                            4804MB │\n",
            "│ Current device memory in use:                          2384MB │\n",
            "│ Expected output file size:                               24MB │\n",
            "├───────────────────────────────────────────────────────────────┤\n",
            "│                          Simulation                           │\n",
            "├──────────┬────────────────┬──────────────┬────────────────────┤\n",
            "│ Progress │  Elapsed time  │  Time to go  │  Est. finish time  │\n",
            "├──────────┼────────────────┼──────────────┼────────────────────┤\n",
            "│     0%   │        0.152s  │    190.760s  │  05/05/25 16:19:30 │\n",
            "│     5%   │       19.098s  │    358.198s  │  05/05/25 16:22:37 │\n",
            "│    10%   │       38.327s  │    343.273s  │  05/05/25 16:22:42 │\n",
            "│    15%   │       57.827s  │    326.004s  │  05/05/25 16:22:44 │\n",
            "│    20%   │       77.279s  │    308.195s  │  05/05/25 16:22:46 │\n",
            "│    25%   │       96.989s  │    289.889s  │  05/05/25 16:22:46 │\n",
            "│    30%   │      116.615s  │    271.432s  │  05/05/25 16:22:48 │\n",
            "│    35%   │      136.433s  │    252.556s  │  05/05/25 16:22:49 │\n",
            "│    40%   │      156.115s  │    233.629s  │  05/05/25 16:22:49 │\n",
            "│    45%   │      175.971s  │    214.401s  │  05/05/25 16:22:50 │\n",
            "│    50%   │      195.702s  │    195.234s  │  05/05/25 16:22:51 │\n",
            "│    55%   │      215.462s  │    175.989s  │  05/05/25 16:22:51 │\n",
            "│    60%   │      235.414s  │    156.526s  │  05/05/25 16:22:52 │\n",
            "│    65%   │      255.223s  │    137.151s  │  05/05/25 16:22:53 │\n",
            "│    70%   │      275.206s  │    117.565s  │  05/05/25 16:22:53 │\n",
            "│    75%   │      295.041s  │     98.086s  │  05/05/25 16:22:53 │\n",
            "│    80%   │      315.044s  │     78.408s  │  05/05/25 16:22:53 │\n",
            "│    85%   │      334.896s  │     58.850s  │  05/05/25 16:22:53 │\n",
            "│    90%   │      354.920s  │     39.104s  │  05/05/25 16:22:54 │\n",
            "│    95%   │      374.787s  │     19.486s  │  05/05/25 16:22:54 │\n",
            "├──────────┴────────────────┴──────────────┴────────────────────┤\n",
            "│ Elapsed time:                                         394.78s │\n",
            "├───────────────────────────────────────────────────────────────┤\n",
            "│ Sampled data post-processing:                            Done │\n",
            "│ Elapsed time:                                           0.00s │\n",
            "├───────────────────────────────────────────────────────────────┤\n",
            "│                            Summary                            │\n",
            "├───────────────────────────────────────────────────────────────┤\n",
            "│ Peak host memory in use:                               4804MB │\n",
            "│ Peak device memory in use:                             2384MB │\n",
            "├───────────────────────────────────────────────────────────────┤\n",
            "│ Total execution time:                                 396.69s │\n",
            "├───────────────────────────────────────────────────────────────┤\n",
            "│                       End of computation                      │\n",
            "└───────────────────────────────────────────────────────────────┘\n",
            "Computing scan line 4 of 33\n",
            "grid_size_points = [511 342  74]\n",
            "medium.sound_speed.shape = (511, 342, 74)\n",
            "simulation_options.pml_inside = False\n",
            "simulation_options.pml_size  = [10 10 10]\n"
          ]
        },
        {
          "output_type": "stream",
          "name": "stderr",
          "text": [
            "WARNING:root:Highest prime factors in each dimension are [ 59 181  47]\n",
            "WARNING:root:Use dimension sizes with lower prime factors to improve speed\n"
          ]
        },
        {
          "output_type": "stream",
          "name": "stdout",
          "text": [
            "┌───────────────────────────────────────────────────────────────┐\n",
            "│                  kspaceFirstOrder-CUDA v1.3                   │\n",
            "├───────────────────────────────────────────────────────────────┤\n",
            "│ Reading simulation configuration:                        Done │\n",
            "│ Selected GPU device id:                                     0 │\n",
            "│ GPU device name:                                     Tesla T4 │\n",
            "│ Number of CPU threads:                                      2 │\n",
            "│ Processor name:                Intel(R) Xeon(R) CPU @ 2.00GHz │\n",
            "├───────────────────────────────────────────────────────────────┤\n",
            "│                      Simulation details                       │\n",
            "├───────────────────────────────────────────────────────────────┤\n",
            "│ Domain dimensions:                             531 x 362 x 94 │\n",
            "│ Medium type:                                               3D │\n",
            "│ Simulation time steps:                                   2509 │\n",
            "├───────────────────────────────────────────────────────────────┤\n",
            "│                        Initialization                         │\n",
            "├───────────────────────────────────────────────────────────────┤\n",
            "│ Memory allocation:                                       Done │\n",
            "│ Data loading:                                            Done │\n",
            "│ Elapsed time:                                           0.18s │\n",
            "├───────────────────────────────────────────────────────────────┤\n",
            "│ FFT plans creation:                                      Done │\n",
            "│ Pre-processing phase:                                    Done │\n",
            "│ Elapsed time:                                           0.49s │\n",
            "├───────────────────────────────────────────────────────────────┤\n",
            "│                    Computational resources                    │\n",
            "├───────────────────────────────────────────────────────────────┤\n",
            "│ Current host memory in use:                            4806MB │\n",
            "│ Current device memory in use:                          2384MB │\n",
            "│ Expected output file size:                               24MB │\n",
            "├───────────────────────────────────────────────────────────────┤\n",
            "│                          Simulation                           │\n",
            "├──────────┬────────────────┬──────────────┬────────────────────┤\n",
            "│ Progress │  Elapsed time  │  Time to go  │  Est. finish time  │\n",
            "├──────────┼────────────────┼──────────────┼────────────────────┤\n",
            "│     0%   │        0.169s  │    211.992s  │  05/05/25 16:26:58 │\n",
            "│     5%   │       19.579s  │    367.228s  │  05/05/25 16:29:53 │\n",
            "│    10%   │       39.286s  │    351.863s  │  05/05/25 16:29:57 │\n",
            "│    15%   │       58.975s  │    332.473s  │  05/05/25 16:29:57 │\n",
            "│    20%   │       78.498s  │    313.057s  │  05/05/25 16:29:58 │\n",
            "│    25%   │       98.332s  │    293.902s  │  05/05/25 16:29:58 │\n",
            "│    30%   │      118.154s  │    275.015s  │  05/05/25 16:30:00 │\n",
            "│    35%   │      138.134s  │    255.705s  │  05/05/25 16:29:59 │\n",
            "│    40%   │      157.903s  │    236.304s  │  05/05/25 16:30:00 │\n",
            "│    45%   │      177.818s  │    216.652s  │  05/05/25 16:30:00 │\n",
            "│    50%   │      197.620s  │    197.148s  │  05/05/25 16:30:01 │\n",
            "│    55%   │      217.478s  │    177.636s  │  05/05/25 16:30:01 │\n",
            "│    60%   │      237.504s  │    157.916s  │  05/05/25 16:30:01 │\n",
            "│    65%   │      257.343s  │    138.290s  │  05/05/25 16:30:02 │\n",
            "│    70%   │      277.323s  │    118.470s  │  05/05/25 16:30:02 │\n",
            "│    75%   │      297.128s  │     98.780s  │  05/05/25 16:30:01 │\n",
            "│    80%   │      317.097s  │     78.919s  │  05/05/25 16:30:01 │\n",
            "│    85%   │      336.926s  │     59.207s  │  05/05/25 16:30:02 │\n",
            "│    90%   │      356.928s  │     39.325s  │  05/05/25 16:30:02 │\n",
            "│    95%   │      376.779s  │     19.589s  │  05/05/25 16:30:02 │\n",
            "├──────────┴────────────────┴──────────────┴────────────────────┤\n",
            "│ Elapsed time:                                         396.79s │\n",
            "├───────────────────────────────────────────────────────────────┤\n",
            "│ Sampled data post-processing:                            Done │\n",
            "│ Elapsed time:                                           0.00s │\n",
            "├───────────────────────────────────────────────────────────────┤\n",
            "│                            Summary                            │\n",
            "├───────────────────────────────────────────────────────────────┤\n",
            "│ Peak host memory in use:                               4806MB │\n",
            "│ Peak device memory in use:                             2384MB │\n",
            "├───────────────────────────────────────────────────────────────┤\n",
            "│ Total execution time:                                 398.73s │\n",
            "├───────────────────────────────────────────────────────────────┤\n",
            "│                       End of computation                      │\n",
            "└───────────────────────────────────────────────────────────────┘\n",
            "Computing scan line 5 of 33\n",
            "grid_size_points = [511 342  74]\n",
            "medium.sound_speed.shape = (511, 342, 74)\n",
            "simulation_options.pml_inside = False\n",
            "simulation_options.pml_size  = [10 10 10]\n"
          ]
        },
        {
          "output_type": "stream",
          "name": "stderr",
          "text": [
            "WARNING:root:Highest prime factors in each dimension are [ 59 181  47]\n",
            "WARNING:root:Use dimension sizes with lower prime factors to improve speed\n"
          ]
        },
        {
          "output_type": "stream",
          "name": "stdout",
          "text": [
            "┌───────────────────────────────────────────────────────────────┐\n",
            "│                  kspaceFirstOrder-CUDA v1.3                   │\n",
            "├───────────────────────────────────────────────────────────────┤\n",
            "│ Reading simulation configuration:                        Done │\n",
            "│ Selected GPU device id:                                     0 │\n",
            "│ GPU device name:                                     Tesla T4 │\n",
            "│ Number of CPU threads:                                      2 │\n",
            "│ Processor name:                Intel(R) Xeon(R) CPU @ 2.00GHz │\n",
            "├───────────────────────────────────────────────────────────────┤\n",
            "│                      Simulation details                       │\n",
            "├───────────────────────────────────────────────────────────────┤\n",
            "│ Domain dimensions:                             531 x 362 x 94 │\n",
            "│ Medium type:                                               3D │\n",
            "│ Simulation time steps:                                   2509 │\n",
            "├───────────────────────────────────────────────────────────────┤\n",
            "│                        Initialization                         │\n",
            "├───────────────────────────────────────────────────────────────┤\n",
            "│ Memory allocation:                                       Done │\n",
            "│ Data loading:                                            Done │\n",
            "│ Elapsed time:                                           0.18s │\n",
            "├───────────────────────────────────────────────────────────────┤\n",
            "│ FFT plans creation:                                      Done │\n",
            "│ Pre-processing phase:                                    Done │\n",
            "│ Elapsed time:                                           0.47s │\n",
            "├───────────────────────────────────────────────────────────────┤\n",
            "│                    Computational resources                    │\n",
            "├───────────────────────────────────────────────────────────────┤\n",
            "│ Current host memory in use:                            4806MB │\n",
            "│ Current device memory in use:                          2384MB │\n",
            "│ Expected output file size:                               24MB │\n",
            "├───────────────────────────────────────────────────────────────┤\n",
            "│                          Simulation                           │\n",
            "├──────────┬────────────────┬──────────────┬────────────────────┤\n",
            "│ Progress │  Elapsed time  │  Time to go  │  Est. finish time  │\n",
            "├──────────┼────────────────┼──────────────┼────────────────────┤\n",
            "│     0%   │        0.177s  │    221.639s  │  05/05/25 16:34:13 │\n",
            "│     5%   │       19.144s  │    359.067s  │  05/05/25 16:36:50 │\n",
            "│    10%   │       38.429s  │    344.181s  │  05/05/25 16:36:54 │\n",
            "│    15%   │       57.986s  │    326.898s  │  05/05/25 16:36:56 │\n",
            "│    20%   │       77.511s  │    309.118s  │  05/05/25 16:36:59 │\n",
            "│    25%   │       97.266s  │    290.715s  │  05/05/25 16:36:59 │\n",
            "│    30%   │      116.924s  │    272.152s  │  05/05/25 16:37:01 │\n",
            "│    35%   │      136.790s  │    253.217s  │  05/05/25 16:37:02 │\n",
            "│    40%   │      156.523s  │    234.239s  │  05/05/25 16:37:03 │\n",
            "│    45%   │      176.444s  │    214.977s  │  05/05/25 16:37:02 │\n",
            "│    50%   │      196.257s  │    195.788s  │  05/05/25 16:37:03 │\n",
            "│    55%   │      216.079s  │    176.493s  │  05/05/25 16:37:04 │\n",
            "│    60%   │      236.053s  │    156.951s  │  05/05/25 16:37:04 │\n",
            "│    65%   │      255.867s  │    137.497s  │  05/05/25 16:37:05 │\n",
            "│    70%   │      275.836s  │    117.835s  │  05/05/25 16:37:05 │\n",
            "│    75%   │      295.644s  │     98.286s  │  05/05/25 16:37:06 │\n",
            "│    80%   │      315.611s  │     78.549s  │  05/05/25 16:37:06 │\n",
            "│    85%   │      335.428s  │     58.944s  │  05/05/25 16:37:05 │\n",
            "│    90%   │      355.396s  │     39.157s  │  05/05/25 16:37:06 │\n",
            "│    95%   │      375.206s  │     19.508s  │  05/05/25 16:37:06 │\n",
            "├──────────┴────────────────┴──────────────┴────────────────────┤\n",
            "│ Elapsed time:                                         395.17s │\n",
            "├───────────────────────────────────────────────────────────────┤\n",
            "│ Sampled data post-processing:                            Done │\n",
            "│ Elapsed time:                                           0.00s │\n",
            "├───────────────────────────────────────────────────────────────┤\n",
            "│                            Summary                            │\n",
            "├───────────────────────────────────────────────────────────────┤\n",
            "│ Peak host memory in use:                               4806MB │\n",
            "│ Peak device memory in use:                             2384MB │\n",
            "├───────────────────────────────────────────────────────────────┤\n",
            "│ Total execution time:                                 397.07s │\n",
            "├───────────────────────────────────────────────────────────────┤\n",
            "│                       End of computation                      │\n",
            "└───────────────────────────────────────────────────────────────┘\n",
            "Computing scan line 6 of 33\n",
            "grid_size_points = [511 342  74]\n",
            "medium.sound_speed.shape = (511, 342, 74)\n",
            "simulation_options.pml_inside = False\n",
            "simulation_options.pml_size  = [10 10 10]\n"
          ]
        },
        {
          "output_type": "stream",
          "name": "stderr",
          "text": [
            "WARNING:root:Highest prime factors in each dimension are [ 59 181  47]\n",
            "WARNING:root:Use dimension sizes with lower prime factors to improve speed\n"
          ]
        },
        {
          "output_type": "stream",
          "name": "stdout",
          "text": [
            "┌───────────────────────────────────────────────────────────────┐\n",
            "│                  kspaceFirstOrder-CUDA v1.3                   │\n",
            "├───────────────────────────────────────────────────────────────┤\n",
            "│ Reading simulation configuration:                        Done │\n",
            "│ Selected GPU device id:                                     0 │\n",
            "│ GPU device name:                                     Tesla T4 │\n",
            "│ Number of CPU threads:                                      2 │\n",
            "│ Processor name:                Intel(R) Xeon(R) CPU @ 2.00GHz │\n",
            "├───────────────────────────────────────────────────────────────┤\n",
            "│                      Simulation details                       │\n",
            "├───────────────────────────────────────────────────────────────┤\n",
            "│ Domain dimensions:                             531 x 362 x 94 │\n",
            "│ Medium type:                                               3D │\n",
            "│ Simulation time steps:                                   2509 │\n",
            "├───────────────────────────────────────────────────────────────┤\n",
            "│                        Initialization                         │\n",
            "├───────────────────────────────────────────────────────────────┤\n",
            "│ Memory allocation:                                       Done │\n",
            "│ Data loading:                                            Done │\n",
            "│ Elapsed time:                                           0.18s │\n",
            "├───────────────────────────────────────────────────────────────┤\n",
            "│ FFT plans creation:                                      Done │\n",
            "│ Pre-processing phase:                                    Done │\n",
            "│ Elapsed time:                                           0.49s │\n",
            "├───────────────────────────────────────────────────────────────┤\n",
            "│                    Computational resources                    │\n",
            "├───────────────────────────────────────────────────────────────┤\n",
            "│ Current host memory in use:                            4806MB │\n",
            "│ Current device memory in use:                          2384MB │\n",
            "│ Expected output file size:                               24MB │\n",
            "├───────────────────────────────────────────────────────────────┤\n",
            "│                          Simulation                           │\n",
            "├──────────┬────────────────┬──────────────┬────────────────────┤\n",
            "│ Progress │  Elapsed time  │  Time to go  │  Est. finish time  │\n",
            "├──────────┼────────────────┼──────────────┼────────────────────┤\n",
            "│     0%   │        0.190s  │    238.617s  │  05/05/25 16:41:32 │\n",
            "│     5%   │       19.424s  │    364.308s  │  05/05/25 16:43:57 │\n",
            "│    10%   │       39.546s  │    354.185s  │  05/05/25 16:44:07 │\n",
            "│    15%   │       59.811s  │    337.189s  │  05/05/25 16:44:10 │\n",
            "│    20%   │       79.581s  │    317.374s  │  05/05/25 16:44:10 │\n",
            "│    25%   │       99.406s  │    297.111s  │  05/05/25 16:44:10 │\n",
            "│    30%   │      119.201s  │    277.450s  │  05/05/25 16:44:10 │\n",
            "│    35%   │      139.267s  │    257.803s  │  05/05/25 16:44:10 │\n",
            "│    40%   │      159.155s  │    238.178s  │  05/05/25 16:44:11 │\n",
            "│    45%   │      179.133s  │    218.254s  │  05/05/25 16:44:11 │\n",
            "│    50%   │      198.936s  │    198.461s  │  05/05/25 16:44:10 │\n",
            "│    55%   │      218.754s  │    178.678s  │  05/05/25 16:44:10 │\n",
            "│    60%   │      238.739s  │    158.737s  │  05/05/25 16:44:10 │\n",
            "│    65%   │      258.583s  │    138.957s  │  05/05/25 16:44:10 │\n",
            "│    70%   │      278.598s  │    119.014s  │  05/05/25 16:44:11 │\n",
            "│    75%   │      298.467s  │     99.225s  │  05/05/25 16:44:11 │\n",
            "│    80%   │      318.494s  │     79.267s  │  05/05/25 16:44:11 │\n",
            "│    85%   │      338.356s  │     59.458s  │  05/05/25 16:44:11 │\n",
            "│    90%   │      358.368s  │     39.484s  │  05/05/25 16:44:11 │\n",
            "│    95%   │      378.219s  │     19.664s  │  05/05/25 16:44:11 │\n",
            "├──────────┴────────────────┴──────────────┴────────────────────┤\n",
            "│ Elapsed time:                                         398.22s │\n",
            "├───────────────────────────────────────────────────────────────┤\n",
            "│ Sampled data post-processing:                            Done │\n",
            "│ Elapsed time:                                           0.00s │\n",
            "├───────────────────────────────────────────────────────────────┤\n",
            "│                            Summary                            │\n",
            "├───────────────────────────────────────────────────────────────┤\n",
            "│ Peak host memory in use:                               4806MB │\n",
            "│ Peak device memory in use:                             2384MB │\n",
            "├───────────────────────────────────────────────────────────────┤\n",
            "│ Total execution time:                                 400.15s │\n",
            "├───────────────────────────────────────────────────────────────┤\n",
            "│                       End of computation                      │\n",
            "└───────────────────────────────────────────────────────────────┘\n",
            "Computing scan line 7 of 33\n",
            "grid_size_points = [511 342  74]\n",
            "medium.sound_speed.shape = (511, 342, 74)\n",
            "simulation_options.pml_inside = False\n",
            "simulation_options.pml_size  = [10 10 10]\n"
          ]
        },
        {
          "output_type": "stream",
          "name": "stderr",
          "text": [
            "WARNING:root:Highest prime factors in each dimension are [ 59 181  47]\n",
            "WARNING:root:Use dimension sizes with lower prime factors to improve speed\n"
          ]
        },
        {
          "output_type": "stream",
          "name": "stdout",
          "text": [
            "┌───────────────────────────────────────────────────────────────┐\n",
            "│                  kspaceFirstOrder-CUDA v1.3                   │\n",
            "├───────────────────────────────────────────────────────────────┤\n",
            "│ Reading simulation configuration:                        Done │\n",
            "│ Selected GPU device id:                                     0 │\n",
            "│ GPU device name:                                     Tesla T4 │\n",
            "│ Number of CPU threads:                                      2 │\n",
            "│ Processor name:                Intel(R) Xeon(R) CPU @ 2.00GHz │\n",
            "├───────────────────────────────────────────────────────────────┤\n",
            "│                      Simulation details                       │\n",
            "├───────────────────────────────────────────────────────────────┤\n",
            "│ Domain dimensions:                             531 x 362 x 94 │\n",
            "│ Medium type:                                               3D │\n",
            "│ Simulation time steps:                                   2509 │\n",
            "├───────────────────────────────────────────────────────────────┤\n",
            "│                        Initialization                         │\n",
            "├───────────────────────────────────────────────────────────────┤\n",
            "│ Memory allocation:                                       Done │\n",
            "│ Data loading:                                            Done │\n",
            "│ Elapsed time:                                           0.20s │\n",
            "├───────────────────────────────────────────────────────────────┤\n",
            "│ FFT plans creation:                                      Done │\n",
            "│ Pre-processing phase:                                    Done │\n",
            "│ Elapsed time:                                           0.50s │\n",
            "├───────────────────────────────────────────────────────────────┤\n",
            "│                    Computational resources                    │\n",
            "├───────────────────────────────────────────────────────────────┤\n",
            "│ Current host memory in use:                            4806MB │\n",
            "│ Current device memory in use:                          2384MB │\n",
            "│ Expected output file size:                               24MB │\n",
            "├───────────────────────────────────────────────────────────────┤\n",
            "│                          Simulation                           │\n",
            "├──────────┬────────────────┬──────────────┬────────────────────┤\n",
            "│ Progress │  Elapsed time  │  Time to go  │  Est. finish time  │\n",
            "├──────────┼────────────────┼──────────────┼────────────────────┤\n",
            "│     0%   │        0.159s  │    199.358s  │  05/05/25 16:47:58 │\n",
            "│     5%   │       19.105s  │    358.337s  │  05/05/25 16:50:55 │\n",
            "│    10%   │       38.468s  │    344.536s  │  05/05/25 16:51:01 │\n",
            "│    15%   │       58.158s  │    327.872s  │  05/05/25 16:51:04 │\n",
            "│    20%   │       77.724s  │    309.968s  │  05/05/25 16:51:05 │\n",
            "│    25%   │       97.487s  │    291.377s  │  05/05/25 16:51:07 │\n",
            "│    30%   │      117.162s  │    272.704s  │  05/05/25 16:51:08 │\n",
            "│    35%   │      137.049s  │    253.697s  │  05/05/25 16:51:08 │\n",
            "│    40%   │      156.820s  │    234.683s  │  05/05/25 16:51:09 │\n",
            "│    45%   │      176.791s  │    215.400s  │  05/05/25 16:51:10 │\n",
            "│    50%   │      196.603s  │    196.134s  │  05/05/25 16:51:11 │\n",
            "│    55%   │      216.396s  │    176.753s  │  05/05/25 16:51:11 │\n",
            "│    60%   │      236.347s  │    157.146s  │  05/05/25 16:51:12 │\n",
            "│    65%   │      256.148s  │    137.648s  │  05/05/25 16:51:12 │\n",
            "│    70%   │      276.108s  │    117.950s  │  05/05/25 16:51:11 │\n",
            "│    75%   │      295.914s  │     98.376s  │  05/05/25 16:51:12 │\n",
            "│    80%   │      315.876s  │     78.615s  │  05/05/25 16:51:12 │\n",
            "│    85%   │      335.683s  │     58.988s  │  05/05/25 16:51:12 │\n",
            "│    90%   │      355.650s  │     39.184s  │  05/05/25 16:51:13 │\n",
            "│    95%   │      375.459s  │     19.521s  │  05/05/25 16:51:13 │\n",
            "├──────────┴────────────────┴──────────────┴────────────────────┤\n",
            "│ Elapsed time:                                         395.41s │\n",
            "├───────────────────────────────────────────────────────────────┤\n",
            "│ Sampled data post-processing:                            Done │\n",
            "│ Elapsed time:                                           0.00s │\n",
            "├───────────────────────────────────────────────────────────────┤\n",
            "│                            Summary                            │\n",
            "├───────────────────────────────────────────────────────────────┤\n",
            "│ Peak host memory in use:                               4806MB │\n",
            "│ Peak device memory in use:                             2384MB │\n",
            "├───────────────────────────────────────────────────────────────┤\n",
            "│ Total execution time:                                 397.38s │\n",
            "├───────────────────────────────────────────────────────────────┤\n",
            "│                       End of computation                      │\n",
            "└───────────────────────────────────────────────────────────────┘\n",
            "Computing scan line 8 of 33\n",
            "grid_size_points = [511 342  74]\n",
            "medium.sound_speed.shape = (511, 342, 74)\n",
            "simulation_options.pml_inside = False\n",
            "simulation_options.pml_size  = [10 10 10]\n"
          ]
        },
        {
          "output_type": "stream",
          "name": "stderr",
          "text": [
            "WARNING:root:Highest prime factors in each dimension are [ 59 181  47]\n",
            "WARNING:root:Use dimension sizes with lower prime factors to improve speed\n"
          ]
        },
        {
          "output_type": "stream",
          "name": "stdout",
          "text": [
            "┌───────────────────────────────────────────────────────────────┐\n",
            "│                  kspaceFirstOrder-CUDA v1.3                   │\n",
            "├───────────────────────────────────────────────────────────────┤\n",
            "│ Reading simulation configuration:                        Done │\n",
            "│ Selected GPU device id:                                     0 │\n",
            "│ GPU device name:                                     Tesla T4 │\n",
            "│ Number of CPU threads:                                      2 │\n",
            "│ Processor name:                Intel(R) Xeon(R) CPU @ 2.00GHz │\n",
            "├───────────────────────────────────────────────────────────────┤\n",
            "│                      Simulation details                       │\n",
            "├───────────────────────────────────────────────────────────────┤\n",
            "│ Domain dimensions:                             531 x 362 x 94 │\n",
            "│ Medium type:                                               3D │\n",
            "│ Simulation time steps:                                   2509 │\n",
            "├───────────────────────────────────────────────────────────────┤\n",
            "│                        Initialization                         │\n",
            "├───────────────────────────────────────────────────────────────┤\n",
            "│ Memory allocation:                                       Done │\n",
            "│ Data loading:                                            Done │\n",
            "│ Elapsed time:                                           0.19s │\n",
            "├───────────────────────────────────────────────────────────────┤\n",
            "│ FFT plans creation:                                      Done │\n",
            "│ Pre-processing phase:                                    Done │\n",
            "│ Elapsed time:                                           0.49s │\n",
            "├───────────────────────────────────────────────────────────────┤\n",
            "│                    Computational resources                    │\n",
            "├───────────────────────────────────────────────────────────────┤\n",
            "│ Current host memory in use:                            4806MB │\n",
            "│ Current device memory in use:                          2384MB │\n",
            "│ Expected output file size:                               24MB │\n",
            "├───────────────────────────────────────────────────────────────┤\n",
            "│                          Simulation                           │\n",
            "├──────────┬────────────────┬──────────────┬────────────────────┤\n",
            "│ Progress │  Elapsed time  │  Time to go  │  Est. finish time  │\n",
            "├──────────┼────────────────┼──────────────┼────────────────────┤\n",
            "│     0%   │        0.157s  │    196.630s  │  05/05/25 16:55:00 │\n",
            "│     5%   │       19.025s  │    356.833s  │  05/05/25 16:57:58 │\n",
            "│    10%   │       38.331s  │    343.307s  │  05/05/25 16:58:05 │\n",
            "│    15%   │       57.890s  │    326.359s  │  05/05/25 16:58:07 │\n",
            "│    20%   │       77.393s  │    308.651s  │  05/05/25 16:58:09 │\n",
            "│    25%   │       97.112s  │    290.255s  │  05/05/25 16:58:10 │\n",
            "│    30%   │      116.735s  │    271.712s  │  05/05/25 16:58:11 │\n",
            "│    35%   │      136.591s  │    252.848s  │  05/05/25 16:58:12 │\n",
            "│    40%   │      156.457s  │    234.141s  │  05/05/25 16:58:14 │\n",
            "│    45%   │      176.535s  │    215.089s  │  05/05/25 16:58:15 │\n",
            "│    50%   │      196.392s  │    195.923s  │  05/05/25 16:58:15 │\n",
            "│    55%   │      216.185s  │    176.579s  │  05/05/25 16:58:16 │\n",
            "│    60%   │      236.159s  │    157.021s  │  05/05/25 16:58:17 │\n",
            "│    65%   │      256.010s  │    137.574s  │  05/05/25 16:58:16 │\n",
            "│    70%   │      276.037s  │    117.920s  │  05/05/25 16:58:16 │\n",
            "│    75%   │      295.899s  │     98.371s  │  05/05/25 16:58:17 │\n",
            "│    80%   │      315.921s  │     78.626s  │  05/05/25 16:58:17 │\n",
            "│    85%   │      335.788s  │     59.007s  │  05/05/25 16:58:18 │\n",
            "│    90%   │      355.805s  │     39.202s  │  05/05/25 16:58:18 │\n",
            "│    95%   │      375.657s  │     19.531s  │  05/05/25 16:58:18 │\n",
            "├──────────┴────────────────┴──────────────┴────────────────────┤\n",
            "│ Elapsed time:                                         395.65s │\n",
            "├───────────────────────────────────────────────────────────────┤\n",
            "│ Sampled data post-processing:                            Done │\n",
            "│ Elapsed time:                                           0.00s │\n",
            "├───────────────────────────────────────────────────────────────┤\n",
            "│                            Summary                            │\n",
            "├───────────────────────────────────────────────────────────────┤\n",
            "│ Peak host memory in use:                               4806MB │\n",
            "│ Peak device memory in use:                             2384MB │\n",
            "├───────────────────────────────────────────────────────────────┤\n",
            "│ Total execution time:                                 397.64s │\n",
            "├───────────────────────────────────────────────────────────────┤\n",
            "│                       End of computation                      │\n",
            "└───────────────────────────────────────────────────────────────┘\n",
            "Computing scan line 9 of 33\n",
            "grid_size_points = [511 342  74]\n",
            "medium.sound_speed.shape = (511, 342, 74)\n",
            "simulation_options.pml_inside = False\n",
            "simulation_options.pml_size  = [10 10 10]\n"
          ]
        },
        {
          "output_type": "stream",
          "name": "stderr",
          "text": [
            "WARNING:root:Highest prime factors in each dimension are [ 59 181  47]\n",
            "WARNING:root:Use dimension sizes with lower prime factors to improve speed\n"
          ]
        },
        {
          "output_type": "stream",
          "name": "stdout",
          "text": [
            "┌───────────────────────────────────────────────────────────────┐\n",
            "│                  kspaceFirstOrder-CUDA v1.3                   │\n",
            "├───────────────────────────────────────────────────────────────┤\n",
            "│ Reading simulation configuration:                        Done │\n",
            "│ Selected GPU device id:                                     0 │\n",
            "│ GPU device name:                                     Tesla T4 │\n",
            "│ Number of CPU threads:                                      2 │\n",
            "│ Processor name:                Intel(R) Xeon(R) CPU @ 2.00GHz │\n",
            "├───────────────────────────────────────────────────────────────┤\n",
            "│                      Simulation details                       │\n",
            "├───────────────────────────────────────────────────────────────┤\n",
            "│ Domain dimensions:                             531 x 362 x 94 │\n",
            "│ Medium type:                                               3D │\n",
            "│ Simulation time steps:                                   2509 │\n",
            "├───────────────────────────────────────────────────────────────┤\n",
            "│                        Initialization                         │\n",
            "├───────────────────────────────────────────────────────────────┤\n",
            "│ Memory allocation:                                       Done │\n",
            "│ Data loading:                                            Done │\n",
            "│ Elapsed time:                                           0.22s │\n",
            "├───────────────────────────────────────────────────────────────┤\n",
            "│ FFT plans creation:                                      Done │\n",
            "│ Pre-processing phase:                                    Done │\n",
            "│ Elapsed time:                                           0.85s │\n",
            "├───────────────────────────────────────────────────────────────┤\n",
            "│                    Computational resources                    │\n",
            "├───────────────────────────────────────────────────────────────┤\n",
            "│ Current host memory in use:                            4806MB │\n",
            "│ Current device memory in use:                          2384MB │\n",
            "│ Expected output file size:                               24MB │\n",
            "├───────────────────────────────────────────────────────────────┤\n",
            "│                          Simulation                           │\n",
            "├──────────┬────────────────┬──────────────┬────────────────────┤\n",
            "│ Progress │  Elapsed time  │  Time to go  │  Est. finish time  │\n",
            "├──────────┼────────────────┼──────────────┼────────────────────┤\n",
            "│     0%   │        0.154s  │    193.641s  │  05/05/25 17:02:00 │\n",
            "│     5%   │       19.036s  │    357.044s  │  05/05/25 17:05:03 │\n",
            "│    10%   │       38.389s  │    343.828s  │  05/05/25 17:05:08 │\n",
            "│    15%   │       57.974s  │    326.831s  │  05/05/25 17:05:10 │\n",
            "│    20%   │       77.497s  │    309.064s  │  05/05/25 17:05:13 │\n",
            "│    25%   │       97.235s  │    290.623s  │  05/05/25 17:05:14 │\n",
            "│    30%   │      116.877s  │    272.041s  │  05/05/25 17:05:15 │\n",
            "│    35%   │      136.735s  │    253.114s  │  05/05/25 17:05:16 │\n",
            "│    40%   │      156.487s  │    234.186s  │  05/05/25 17:05:17 │\n",
            "│    45%   │      176.423s  │    214.952s  │  05/05/25 17:05:17 │\n",
            "│    50%   │      196.201s  │    195.733s  │  05/05/25 17:05:18 │\n",
            "│    55%   │      215.987s  │    176.418s  │  05/05/25 17:05:18 │\n",
            "│    60%   │      235.931s  │    156.870s  │  05/05/25 17:05:18 │\n",
            "│    65%   │      255.718s  │    137.417s  │  05/05/25 17:05:19 │\n",
            "│    70%   │      275.675s  │    117.766s  │  05/05/25 17:05:19 │\n",
            "│    75%   │      295.473s  │     98.230s  │  05/05/25 17:05:20 │\n",
            "│    80%   │      315.430s  │     78.504s  │  05/05/25 17:05:20 │\n",
            "│    85%   │      335.235s  │     58.910s  │  05/05/25 17:05:20 │\n",
            "│    90%   │      355.205s  │     39.135s  │  05/05/25 17:05:21 │\n",
            "│    95%   │      375.015s  │     19.498s  │  05/05/25 17:05:21 │\n",
            "├──────────┴────────────────┴──────────────┴────────────────────┤\n",
            "│ Elapsed time:                                         394.98s │\n",
            "├───────────────────────────────────────────────────────────────┤\n",
            "│ Sampled data post-processing:                            Done │\n",
            "│ Elapsed time:                                           0.00s │\n",
            "├───────────────────────────────────────────────────────────────┤\n",
            "│                            Summary                            │\n",
            "├───────────────────────────────────────────────────────────────┤\n",
            "│ Peak host memory in use:                               4806MB │\n",
            "│ Peak device memory in use:                             2384MB │\n",
            "├───────────────────────────────────────────────────────────────┤\n",
            "│ Total execution time:                                 398.14s │\n",
            "├───────────────────────────────────────────────────────────────┤\n",
            "│                       End of computation                      │\n",
            "└───────────────────────────────────────────────────────────────┘\n",
            "Computing scan line 10 of 33\n",
            "grid_size_points = [511 342  74]\n",
            "medium.sound_speed.shape = (511, 342, 74)\n",
            "simulation_options.pml_inside = False\n",
            "simulation_options.pml_size  = [10 10 10]\n"
          ]
        },
        {
          "output_type": "stream",
          "name": "stderr",
          "text": [
            "WARNING:root:Highest prime factors in each dimension are [ 59 181  47]\n",
            "WARNING:root:Use dimension sizes with lower prime factors to improve speed\n"
          ]
        },
        {
          "output_type": "stream",
          "name": "stdout",
          "text": [
            "┌───────────────────────────────────────────────────────────────┐\n",
            "│                  kspaceFirstOrder-CUDA v1.3                   │\n",
            "├───────────────────────────────────────────────────────────────┤\n",
            "│ Reading simulation configuration:                        Done │\n",
            "│ Selected GPU device id:                                     0 │\n",
            "│ GPU device name:                                     Tesla T4 │\n",
            "│ Number of CPU threads:                                      2 │\n",
            "│ Processor name:                Intel(R) Xeon(R) CPU @ 2.00GHz │\n",
            "├───────────────────────────────────────────────────────────────┤\n",
            "│                      Simulation details                       │\n",
            "├───────────────────────────────────────────────────────────────┤\n",
            "│ Domain dimensions:                             531 x 362 x 94 │\n",
            "│ Medium type:                                               3D │\n",
            "│ Simulation time steps:                                   2509 │\n",
            "├───────────────────────────────────────────────────────────────┤\n",
            "│                        Initialization                         │\n",
            "├───────────────────────────────────────────────────────────────┤\n",
            "│ Memory allocation:                                       Done │\n",
            "│ Data loading:                                            Done │\n",
            "│ Elapsed time:                                           0.23s │\n",
            "├───────────────────────────────────────────────────────────────┤\n",
            "│ FFT plans creation:                                      Done │\n",
            "│ Pre-processing phase:                                    Done │\n",
            "│ Elapsed time:                                           0.95s │\n",
            "├───────────────────────────────────────────────────────────────┤\n",
            "│                    Computational resources                    │\n",
            "├───────────────────────────────────────────────────────────────┤\n",
            "│ Current host memory in use:                            4806MB │\n",
            "│ Current device memory in use:                          2384MB │\n",
            "│ Expected output file size:                               24MB │\n",
            "├───────────────────────────────────────────────────────────────┤\n",
            "│                          Simulation                           │\n",
            "├──────────┬────────────────┬──────────────┬────────────────────┤\n",
            "│ Progress │  Elapsed time  │  Time to go  │  Est. finish time  │\n",
            "├──────────┼────────────────┼──────────────┼────────────────────┤\n",
            "│     0%   │        0.174s  │    218.089s  │  05/05/25 17:09:32 │\n",
            "│     5%   │       18.911s  │    354.700s  │  05/05/25 17:12:06 │\n",
            "│    10%   │       38.148s  │    341.666s  │  05/05/25 17:12:13 │\n",
            "│    15%   │       57.639s  │    324.946s  │  05/05/25 17:12:15 │\n",
            "│    20%   │       77.075s  │    307.380s  │  05/05/25 17:12:18 │\n",
            "│    25%   │       96.772s  │    289.239s  │  05/05/25 17:12:19 │\n",
            "│    30%   │      116.395s  │    270.920s  │  05/05/25 17:12:20 │\n",
            "│    35%   │      136.262s  │    252.239s  │  05/05/25 17:12:22 │\n",
            "│    40%   │      155.982s  │    233.430s  │  05/05/25 17:12:23 │\n",
            "│    45%   │      175.879s  │    214.290s  │  05/05/25 17:12:23 │\n",
            "│    50%   │      195.631s  │    195.163s  │  05/05/25 17:12:24 │\n",
            "│    55%   │      215.426s  │    175.960s  │  05/05/25 17:12:24 │\n",
            "│    60%   │      235.407s  │    156.521s  │  05/05/25 17:12:25 │\n",
            "│    65%   │      255.242s  │    137.161s  │  05/05/25 17:12:26 │\n",
            "│    70%   │      275.255s  │    117.586s  │  05/05/25 17:12:26 │\n",
            "│    75%   │      295.127s  │     98.114s  │  05/05/25 17:12:27 │\n",
            "│    80%   │      315.162s  │     78.438s  │  05/05/25 17:12:27 │\n",
            "│    85%   │      335.044s  │     58.876s  │  05/05/25 17:12:27 │\n",
            "│    90%   │      355.086s  │     39.122s  │  05/05/25 17:12:28 │\n",
            "│    95%   │      374.946s  │     19.494s  │  05/05/25 17:12:27 │\n",
            "├──────────┴────────────────┴──────────────┴────────────────────┤\n",
            "│ Elapsed time:                                         394.94s │\n",
            "├───────────────────────────────────────────────────────────────┤\n",
            "│ Sampled data post-processing:                            Done │\n",
            "│ Elapsed time:                                           0.00s │\n",
            "├───────────────────────────────────────────────────────────────┤\n",
            "│                            Summary                            │\n",
            "├───────────────────────────────────────────────────────────────┤\n",
            "│ Peak host memory in use:                               4806MB │\n",
            "│ Peak device memory in use:                             2384MB │\n",
            "├───────────────────────────────────────────────────────────────┤\n",
            "│ Total execution time:                                 397.39s │\n",
            "├───────────────────────────────────────────────────────────────┤\n",
            "│                       End of computation                      │\n",
            "└───────────────────────────────────────────────────────────────┘\n",
            "Computing scan line 11 of 33\n",
            "grid_size_points = [511 342  74]\n",
            "medium.sound_speed.shape = (511, 342, 74)\n",
            "simulation_options.pml_inside = False\n",
            "simulation_options.pml_size  = [10 10 10]\n"
          ]
        },
        {
          "output_type": "stream",
          "name": "stderr",
          "text": [
            "WARNING:root:Highest prime factors in each dimension are [ 59 181  47]\n",
            "WARNING:root:Use dimension sizes with lower prime factors to improve speed\n"
          ]
        },
        {
          "output_type": "stream",
          "name": "stdout",
          "text": [
            "┌───────────────────────────────────────────────────────────────┐\n",
            "│                  kspaceFirstOrder-CUDA v1.3                   │\n",
            "├───────────────────────────────────────────────────────────────┤\n",
            "│ Reading simulation configuration:                        Done │\n",
            "│ Selected GPU device id:                                     0 │\n",
            "│ GPU device name:                                     Tesla T4 │\n",
            "│ Number of CPU threads:                                      2 │\n",
            "│ Processor name:                Intel(R) Xeon(R) CPU @ 2.00GHz │\n",
            "├───────────────────────────────────────────────────────────────┤\n",
            "│                      Simulation details                       │\n",
            "├───────────────────────────────────────────────────────────────┤\n",
            "│ Domain dimensions:                             531 x 362 x 94 │\n",
            "│ Medium type:                                               3D │\n",
            "│ Simulation time steps:                                   2509 │\n",
            "├───────────────────────────────────────────────────────────────┤\n",
            "│                        Initialization                         │\n",
            "├───────────────────────────────────────────────────────────────┤\n",
            "│ Memory allocation:                                       Done │\n",
            "│ Data loading:                                            Done │\n",
            "│ Elapsed time:                                           0.18s │\n",
            "├───────────────────────────────────────────────────────────────┤\n",
            "│ FFT plans creation:                                      Done │\n",
            "│ Pre-processing phase:                                    Done │\n",
            "│ Elapsed time:                                           0.52s │\n",
            "├───────────────────────────────────────────────────────────────┤\n",
            "│                    Computational resources                    │\n",
            "├───────────────────────────────────────────────────────────────┤\n",
            "│ Current host memory in use:                            4806MB │\n",
            "│ Current device memory in use:                          2384MB │\n",
            "│ Expected output file size:                               24MB │\n",
            "├───────────────────────────────────────────────────────────────┤\n",
            "│                          Simulation                           │\n",
            "├──────────┬────────────────┬──────────────┬────────────────────┤\n",
            "│ Progress │  Elapsed time  │  Time to go  │  Est. finish time  │\n",
            "├──────────┼────────────────┼──────────────┼────────────────────┤\n",
            "│     0%   │        0.149s  │    186.303s  │  05/05/25 17:16:05 │\n",
            "│     5%   │       18.963s  │    355.664s  │  05/05/25 17:19:13 │\n",
            "│    10%   │       38.338s  │    343.372s  │  05/05/25 17:19:20 │\n",
            "│    15%   │       57.943s  │    326.659s  │  05/05/25 17:19:23 │\n",
            "│    20%   │       77.486s  │    309.020s  │  05/05/25 17:19:25 │\n",
            "│    25%   │       97.268s  │    290.721s  │  05/05/25 17:19:26 │\n",
            "│    30%   │      116.982s  │    272.285s  │  05/05/25 17:19:28 │\n",
            "│    35%   │      136.895s  │    253.412s  │  05/05/25 17:19:29 │\n",
            "│    40%   │      156.680s  │    234.475s  │  05/05/25 17:19:30 │\n",
            "│    45%   │      176.647s  │    215.226s  │  05/05/25 17:19:31 │\n",
            "│    50%   │      196.467s  │    195.998s  │  05/05/25 17:19:30 │\n",
            "│    55%   │      216.303s  │    176.676s  │  05/05/25 17:19:31 │\n",
            "│    60%   │      236.315s  │    157.125s  │  05/05/25 17:19:32 │\n",
            "│    65%   │      256.173s  │    137.662s  │  05/05/25 17:19:32 │\n",
            "│    70%   │      276.196s  │    117.988s  │  05/05/25 17:19:32 │\n",
            "│    75%   │      296.068s  │     98.427s  │  05/05/25 17:19:33 │\n",
            "│    80%   │      316.096s  │     78.670s  │  05/05/25 17:19:33 │\n",
            "│    85%   │      335.972s  │     59.039s  │  05/05/25 17:19:34 │\n",
            "│    90%   │      356.011s  │     39.224s  │  05/05/25 17:19:34 │\n",
            "│    95%   │      375.897s  │     19.543s  │  05/05/25 17:19:34 │\n",
            "├──────────┴────────────────┴──────────────┴────────────────────┤\n",
            "│ Elapsed time:                                         395.92s │\n",
            "├───────────────────────────────────────────────────────────────┤\n",
            "│ Sampled data post-processing:                            Done │\n",
            "│ Elapsed time:                                           0.00s │\n",
            "├───────────────────────────────────────────────────────────────┤\n",
            "│                            Summary                            │\n",
            "├───────────────────────────────────────────────────────────────┤\n",
            "│ Peak host memory in use:                               4806MB │\n",
            "│ Peak device memory in use:                             2384MB │\n",
            "├───────────────────────────────────────────────────────────────┤\n",
            "│ Total execution time:                                 397.87s │\n",
            "├───────────────────────────────────────────────────────────────┤\n",
            "│                       End of computation                      │\n",
            "└───────────────────────────────────────────────────────────────┘\n",
            "Computing scan line 12 of 33\n",
            "grid_size_points = [511 342  74]\n",
            "medium.sound_speed.shape = (511, 342, 74)\n",
            "simulation_options.pml_inside = False\n",
            "simulation_options.pml_size  = [10 10 10]\n"
          ]
        },
        {
          "output_type": "stream",
          "name": "stderr",
          "text": [
            "WARNING:root:Highest prime factors in each dimension are [ 59 181  47]\n",
            "WARNING:root:Use dimension sizes with lower prime factors to improve speed\n"
          ]
        },
        {
          "output_type": "stream",
          "name": "stdout",
          "text": [
            "┌───────────────────────────────────────────────────────────────┐\n",
            "│                  kspaceFirstOrder-CUDA v1.3                   │\n",
            "├───────────────────────────────────────────────────────────────┤\n",
            "│ Reading simulation configuration:                        Done │\n",
            "│ Selected GPU device id:                                     0 │\n",
            "│ GPU device name:                                     Tesla T4 │\n",
            "│ Number of CPU threads:                                      2 │\n",
            "│ Processor name:                Intel(R) Xeon(R) CPU @ 2.00GHz │\n",
            "├───────────────────────────────────────────────────────────────┤\n",
            "│                      Simulation details                       │\n",
            "├───────────────────────────────────────────────────────────────┤\n",
            "│ Domain dimensions:                             531 x 362 x 94 │\n",
            "│ Medium type:                                               3D │\n",
            "│ Simulation time steps:                                   2509 │\n",
            "├───────────────────────────────────────────────────────────────┤\n",
            "│                        Initialization                         │\n",
            "├───────────────────────────────────────────────────────────────┤\n",
            "│ Memory allocation:                                       Done │\n",
            "│ Data loading:                                            Done │\n",
            "│ Elapsed time:                                           0.19s │\n",
            "├───────────────────────────────────────────────────────────────┤\n",
            "│ FFT plans creation:                                      Done │\n",
            "│ Pre-processing phase:                                    Done │\n",
            "│ Elapsed time:                                           0.49s │\n",
            "├───────────────────────────────────────────────────────────────┤\n",
            "│                    Computational resources                    │\n",
            "├───────────────────────────────────────────────────────────────┤\n",
            "│ Current host memory in use:                            4806MB │\n",
            "│ Current device memory in use:                          2384MB │\n",
            "│ Expected output file size:                               24MB │\n",
            "├───────────────────────────────────────────────────────────────┤\n",
            "│                          Simulation                           │\n",
            "├──────────┬────────────────┬──────────────┬────────────────────┤\n",
            "│ Progress │  Elapsed time  │  Time to go  │  Est. finish time  │\n",
            "├──────────┼────────────────┼──────────────┼────────────────────┤\n",
            "│     0%   │        0.162s  │    202.718s  │  05/05/25 17:23:26 │\n",
            "│     5%   │       19.290s  │    361.810s  │  05/05/25 17:26:24 │\n",
            "│    10%   │       39.435s  │    353.190s  │  05/05/25 17:26:36 │\n",
            "│    15%   │       59.666s  │    336.371s  │  05/05/25 17:26:39 │\n",
            "│    20%   │       79.426s  │    316.756s  │  05/05/25 17:26:39 │\n",
            "│    25%   │       99.261s  │    296.678s  │  05/05/25 17:26:39 │\n",
            "│    30%   │      119.051s  │    277.102s  │  05/05/25 17:26:40 │\n",
            "│    35%   │      139.110s  │    257.512s  │  05/05/25 17:26:40 │\n",
            "│    40%   │      158.989s  │    237.930s  │  05/05/25 17:26:40 │\n",
            "│    45%   │      178.958s  │    218.041s  │  05/05/25 17:26:41 │\n",
            "│    50%   │      198.754s  │    198.279s  │  05/05/25 17:26:40 │\n",
            "│    55%   │      218.575s  │    178.532s  │  05/05/25 17:26:40 │\n",
            "│    60%   │      238.573s  │    158.626s  │  05/05/25 17:26:40 │\n",
            "│    65%   │      258.426s  │    138.872s  │  05/05/25 17:26:40 │\n",
            "│    70%   │      278.451s  │    118.951s  │  05/05/25 17:26:40 │\n",
            "│    75%   │      298.321s  │     99.176s  │  05/05/25 17:26:41 │\n"
          ]
        }
      ],
      "source": [
        "# update medium properties\n",
        "medium.sound_speed = sound_speed_map\n",
        "medium.density     = density_map\n",
        "\n",
        "# define range of steering angles to test and preallocate the storage\n",
        "steering_angles   = np.arange(-32, 33, 2)\n",
        "number_scan_lines = len(steering_angles)\n",
        "scan_lines        = np.zeros((number_scan_lines, kgrid.Nt))\n",
        "\n",
        "if RUN_SIMULATION:\n",
        "    for angle_index in range(number_scan_lines):\n",
        "        print(f'Computing scan line {angle_index} of {number_scan_lines}')\n",
        "\n",
        "        # set the input settings\n",
        "        input_filename        = f'example_input_{angle_index}.h5'\n",
        "        # set the input settings\n",
        "        simulation_options    = SimulationOptions(\n",
        "            pml_inside        = False,\n",
        "            pml_size          = pml_size_points,\n",
        "            data_cast         = DATA_CAST,\n",
        "            data_recast       = True,\n",
        "            save_to_disk      = True,\n",
        "            input_filename    = input_filename,\n",
        "            save_to_disk_exit = False\n",
        "        )\n",
        "\n",
        "        # Update the current steering angle\n",
        "        not_transducer.steering_angle = steering_angles[angle_index]\n",
        "\n",
        "        print(\"grid_size_points =\", grid_size_points)\n",
        "        print(\"medium.sound_speed.shape =\", medium.sound_speed.shape)\n",
        "        print(\"simulation_options.pml_inside =\", simulation_options.pml_inside)\n",
        "        print(\"simulation_options.pml_size  =\", simulation_options.pml_size)\n",
        "\n",
        "        # RUN 2D K-WAVE SIMULATION\n",
        "        sensor_data            = kspaceFirstOrder3D(\n",
        "            medium             = deepcopy(medium),  # Medium is altered in-place in this function\n",
        "            kgrid              = kgrid,\n",
        "            source             = not_transducer,\n",
        "            sensor             = not_transducer,\n",
        "            simulation_options = simulation_options,\n",
        "            execution_options  = SimulationExecutionOptions(is_gpu_simulation=True)\n",
        "        )\n",
        "\n",
        "        # combine sensor outputs and extract scan line\n",
        "        raw_pressure      = sensor_data['p'].T\n",
        "        combined_signal   = not_transducer.combine_sensor_data(raw_pressure)\n",
        "        scan_lines[angle_index, :] = not_transducer.scan_line(combined_signal)\n",
        "\n",
        "    # save\n",
        "    scipy.io.savemat('example_us_phased_array_scan_lines.mat', {'scan_lines': scan_lines})\n",
        "else:\n",
        "    scan_lines = scipy.io.loadmat('example_us_phased_array_scan_lines')['scan_lines']"
      ]
    },
    {
      "cell_type": "markdown",
      "metadata": {
        "id": "qRtLHwCdHGmN"
      },
      "source": [
        "## PROCESS THE RESULTS\n",
        "### Remove Input Signal"
      ]
    },
    {
      "cell_type": "code",
      "execution_count": null,
      "metadata": {
        "id": "5UUMZG6GHGmQ"
      },
      "outputs": [],
      "source": [
        "# Trim the delay offset from the scan line data\n",
        "t0_offset = int(round(len(input_signal.squeeze())/ 2) + (not_transducer.appended_zeros - not_transducer.beamforming_delays_offset))\n",
        "\n",
        "scan_lines = scan_lines[:, t0_offset:]\n",
        "\n",
        "Nt = np.shape(scan_lines)[1]\n"
      ]
    },
    {
      "cell_type": "code",
      "execution_count": null,
      "metadata": {
        "id": "mxyrNy1RHGmQ"
      },
      "outputs": [],
      "source": [
        "\n",
        "tukey_win, _ = get_win(Nt * 2, 'Tukey', False, 0.05)\n",
        "scan_line_win = np.concatenate((np.zeros([1, t0_offset * 2]), tukey_win.T[:, :int(len(tukey_win)/2) - t0_offset * 2]), axis=1)\n",
        "\n",
        "scan_lines = scan_lines * scan_line_win\n",
        "# store intermediate results"
      ]
    },
    {
      "cell_type": "markdown",
      "metadata": {
        "id": "9nyCwZWFHGmR"
      },
      "source": [
        "### Time Gain Compensation"
      ]
    },
    {
      "cell_type": "code",
      "execution_count": null,
      "metadata": {
        "id": "V0ec88g3HGmR"
      },
      "outputs": [],
      "source": [
        "# Create radius variable\n",
        "r = c0 * np.arange(1, Nt + 1) * kgrid.dt / 2\n",
        "\n",
        "# Define absorption value and convert to correct units\n",
        "tgc_alpha_db_cm = medium.alpha_coeff * (tone_burst_freq * 1e-6)**medium.alpha_power\n",
        "tgc_alpha_np_m = db2neper(tgc_alpha_db_cm) * 100\n",
        "\n",
        "# Create time gain compensation function\n",
        "tgc = np.exp(tgc_alpha_np_m * 2 * r)\n",
        "\n",
        "# Apply the time gain compensation to each of the scan lines\n",
        "scan_lines *= tgc"
      ]
    },
    {
      "cell_type": "markdown",
      "metadata": {
        "id": "lR0h0NkYHGmS"
      },
      "source": [
        "### Frequency Filtering"
      ]
    },
    {
      "cell_type": "code",
      "execution_count": null,
      "metadata": {
        "id": "IWgq1K-AHGmS"
      },
      "outputs": [],
      "source": [
        "scan_lines_fund = gaussian_filter(scan_lines, 1/kgrid.dt, tone_burst_freq, 100)\n",
        "scan_lines_harm = gaussian_filter(scan_lines, 1/kgrid.dt, 2 * tone_burst_freq, 30)"
      ]
    },
    {
      "cell_type": "markdown",
      "metadata": {
        "id": "zF21BSmhHGmS"
      },
      "source": [
        "### Envelope Detection"
      ]
    },
    {
      "cell_type": "code",
      "execution_count": null,
      "metadata": {
        "id": "orUyE_XrHGmT"
      },
      "outputs": [],
      "source": [
        "scan_lines_fund = envelope_detection(scan_lines_fund)\n",
        "scan_lines_harm = envelope_detection(scan_lines_harm)"
      ]
    },
    {
      "cell_type": "markdown",
      "metadata": {
        "id": "7sQi_iuRHGmT"
      },
      "source": [
        "### Log Compression"
      ]
    },
    {
      "cell_type": "code",
      "execution_count": null,
      "metadata": {
        "id": "A0FQ0rF3HGmT"
      },
      "outputs": [],
      "source": [
        "compression_ratio = 3\n",
        "scan_lines_fund = log_compression(scan_lines_fund, compression_ratio, True)\n",
        "scan_lines_harm = log_compression(scan_lines_harm, compression_ratio, True)"
      ]
    },
    {
      "cell_type": "markdown",
      "metadata": {
        "id": "PqxOAXc_HGmU"
      },
      "source": [
        "### Visualization"
      ]
    },
    {
      "cell_type": "code",
      "execution_count": null,
      "metadata": {
        "id": "N7twSB98HGmU"
      },
      "outputs": [],
      "source": [
        "image_size = [kgrid.Nx * kgrid.dx, kgrid.Ny * kgrid.dy]\n",
        "image_res = [256, 256]\n",
        "\n",
        "b_mode_fund = scan_conversion(scan_lines_fund, steering_angles, image_size, c0, kgrid.dt, image_res)\n",
        "b_mode_harm = scan_conversion(scan_lines_harm, steering_angles, image_size, c0, kgrid.dt, image_res)"
      ]
    },
    {
      "cell_type": "code",
      "execution_count": null,
      "metadata": {
        "id": "1DXlT32oHGmU"
      },
      "outputs": [],
      "source": [
        "# Create the axis variables\n",
        "x_axis = [0, image_size[0] * 1e3] # [mm]\n",
        "y_axis = [0, image_size[1] * 1e3]  # [mm]"
      ]
    },
    {
      "cell_type": "code",
      "execution_count": null,
      "metadata": {
        "id": "-tBwR_LbHGmV"
      },
      "outputs": [],
      "source": [
        "plt.ion()\n",
        "plt.figure(figsize=(15, 4))\n",
        "plt.subplot(131)\n",
        "plt.imshow(scan_lines.T, aspect='auto',\n",
        "             extent=[steering_angles[-1], steering_angles[0],y_axis[1], y_axis[0] ], interpolation='none', cmap='gray')\n",
        "plt.xlabel('Steering angle [deg]')\n",
        "plt.ylabel('Depth [mm]')\n",
        "plt.title('Raw Scan-Line Data')\n",
        "\n",
        "\n",
        "plt.subplot(132)\n",
        "plt.imshow(scan_lines_fund.T, aspect='auto',\n",
        "            extent=[steering_angles[-1], steering_angles[0],y_axis[1], y_axis[0] ],  interpolation='none', cmap='bone')\n",
        "plt.xlabel('Steering angle [deg]')\n",
        "plt.ylabel('Depth [mm]')\n",
        "plt.title('Processed Scan-Line Data')\n",
        "\n",
        "plt.subplot(133)\n",
        "plt.imshow(b_mode_fund, cmap='bone', aspect='auto',  extent=[y_axis[0], y_axis[1], x_axis[1], x_axis[0]], interpolation='none')\n",
        "plt.xlabel('Horizontal Position [mm]')\n",
        "plt.ylabel('Depth [mm]')\n",
        "plt.title('B-Mode Image')"
      ]
    },
    {
      "cell_type": "code",
      "execution_count": null,
      "metadata": {
        "id": "cp2e_5muHGmV"
      },
      "outputs": [],
      "source": [
        "plt.figure(figsize=(15, 4))\n",
        "plt.subplot(131)\n",
        "plt.imshow(medium.sound_speed[..., kgrid.Nz//2], aspect='auto',\n",
        "            extent=[y_axis[0], y_axis[1], x_axis[1], x_axis[0]])\n",
        "plt.xlabel('Horizontal Position [mm]')\n",
        "plt.ylabel('Depth [mm]')\n",
        "plt.title('Scattering Phantom')\n",
        "\n",
        "plt.subplot(132)\n",
        "plt.imshow(b_mode_fund, cmap='bone', aspect='auto',  extent=[y_axis[0], y_axis[1], x_axis[1], x_axis[0]], interpolation='none')\n",
        "plt.xlabel('Horizontal Position [mm]')\n",
        "plt.ylabel('Depth [mm]')\n",
        "plt.title('B-Mode Image')\n",
        "\n",
        "plt.subplot(133)\n",
        "plt.imshow(b_mode_harm, cmap='bone', aspect='auto',  extent=[y_axis[0], y_axis[1], x_axis[1], x_axis[0]], interpolation='none')\n",
        "plt.xlabel('Horizontal Position [mm]')\n",
        "plt.ylabel('Depth [mm]')\n",
        "plt.title('Harmonic Image')\n",
        "\n",
        "plt.show()\n"
      ]
    }
  ],
  "metadata": {
    "kernelspec": {
      "display_name": "Python 3",
      "name": "python3"
    },
    "language_info": {
      "codemirror_mode": {
        "name": "ipython",
        "version": 3
      },
      "file_extension": ".py",
      "mimetype": "text/x-python",
      "name": "python",
      "nbconvert_exporter": "python",
      "pygments_lexer": "ipython3"
    },
    "colab": {
      "provenance": [],
      "gpuType": "T4",
      "include_colab_link": true
    },
    "accelerator": "GPU"
  },
  "nbformat": 4,
  "nbformat_minor": 0
}