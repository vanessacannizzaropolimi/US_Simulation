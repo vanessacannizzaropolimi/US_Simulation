{
  "cells": [
    {
      "cell_type": "markdown",
      "metadata": {
        "id": "view-in-github",
        "colab_type": "text"
      },
      "source": [
        "<a href=\"https://colab.research.google.com/github/vanessacannizzaropolimi/US_Simulation/blob/main/examples/us_bmode_phased_array/us_bmode_phased_array_from_ct.ipynb\" target=\"_parent\"><img src=\"https://colab.research.google.com/assets/colab-badge.svg\" alt=\"Open In Colab\"/></a>"
      ]
    },
    {
      "cell_type": "markdown",
      "source": [
        "Install k-Wave-python and import libraries"
      ],
      "metadata": {
        "id": "ax0i596jiURw"
      }
    },
    {
      "cell_type": "code",
      "execution_count": 54,
      "metadata": {
        "id": "8xTi-tyFHGlx"
      },
      "outputs": [],
      "source": [
        "%%capture\n",
        "!pip install git+https://github.com/waltsims/k-wave-python"
      ]
    },
    {
      "cell_type": "code",
      "execution_count": 55,
      "metadata": {
        "id": "RIXUhlM1HGl7"
      },
      "outputs": [],
      "source": [
        "from copy import deepcopy\n",
        "\n",
        "import numpy as np\n",
        "import nibabel as nib\n",
        "import scipy.io\n",
        "from matplotlib import pyplot as plt\n",
        "\n",
        "from kwave.data import Vector\n",
        "from kwave.kgrid import kWaveGrid\n",
        "from kwave.kmedium import kWaveMedium\n",
        "from kwave.kspaceFirstOrder2D import kspaceFirstOrder2D\n",
        "from kwave.kspaceFirstOrder3D import kspaceFirstOrder3D\n",
        "from kwave.ktransducer import NotATransducer, kWaveTransducerSimple\n",
        "from kwave.options.simulation_execution_options import SimulationExecutionOptions\n",
        "from kwave.options.simulation_options import SimulationOptions\n",
        "from kwave.reconstruction.beamform import envelope_detection, scan_conversion\n",
        "from kwave.reconstruction.tools import log_compression\n",
        "from kwave.utils.conversion import db2neper\n",
        "from kwave.utils.dotdictionary import dotdict\n",
        "from kwave.utils.filters import gaussian_filter\n",
        "# from kwave.utils.mapgen import make_ball\n",
        "from kwave.utils.signals import get_win, tone_burst\n",
        "from kwave.utils.conversion import hounsfield2density, hounsfield2soundspeed"
      ]
    },
    {
      "cell_type": "markdown",
      "source": [
        "Settings"
      ],
      "metadata": {
        "id": "0TRa-38P-ZPQ"
      }
    },
    {
      "cell_type": "code",
      "source": [
        "DATA_CAST = 'single'\n",
        "RUN_SIMULATION = True\n",
        "\n",
        "# CT file\n",
        "filename = 'volumeAdjusted.nii'\n",
        "\n",
        "# Transducer\n",
        "ELEM_LENGTH = 1"
      ],
      "metadata": {
        "id": "wuUJyL_4uebT"
      },
      "execution_count": 56,
      "outputs": []
    },
    {
      "cell_type": "markdown",
      "source": [
        "Load CT NIfTI file and extract central slice"
      ],
      "metadata": {
        "id": "HXbbGl7vifgQ"
      }
    },
    {
      "cell_type": "code",
      "source": [
        "ct_img                         = nib.load(filename)\n",
        "ct_vol                         = ct_img.get_fdata()\n",
        "dx_mm, dy_mm, dz_mm            = ct_img.header.get_zooms()  # 3d spacing in mm\n",
        "lateral_spacing, depth_spacing, dz = dx_mm/1000.0, dy_mm/1000.0, dz_mm/1000.0 # 2d spacing in m\n",
        "# dz = 0.1e-3\n",
        "\n",
        "Nx, Ny, Nz = ct_vol.shape\n",
        "slice_idx  = round(Nz // 2)\n",
        "\n",
        "# extract slice\n",
        "# slice_idx = ct_vol.shape[2] // 2\n",
        "# ct_slice  = np.flipud(ct_vol[:, :, slice_idx]) # shape = (Nx, Ny)\n",
        "# Nx, Ny    = ct_slice.shape                     # Nx = lateral, Ny = spacing\n",
        "# needed_Nz = ELEM_LENGTH + 1"
      ],
      "metadata": {
        "id": "0BzYqHaqiSdm"
      },
      "execution_count": 57,
      "outputs": []
    },
    {
      "cell_type": "markdown",
      "source": [
        "Conversion HU -> acoustic properties: density [kg/m^3] and sound speed [m/s]"
      ],
      "metadata": {
        "id": "Cvu81TqAjI6R"
      }
    },
    {
      "cell_type": "code",
      "source": [
        "density_map     = hounsfield2density(ct_slice, plot_fitting=False).astype(np.float32) # :contentReference[oaicite:0]{index=0}\n",
        "sound_speed_map = hounsfield2soundspeed(ct_slice).astype(np.float32)                  # :contentReference[oaicite:1]{index=1}"
      ],
      "metadata": {
        "id": "PTN_madDjP3J"
      },
      "execution_count": 58,
      "outputs": []
    },
    {
      "cell_type": "markdown",
      "source": [
        "2D grid and temporal dependencies"
      ],
      "metadata": {
        "id": "9y5IdV8Y85eH"
      }
    },
    {
      "cell_type": "code",
      "source": [
        "# |<- PML ->|<------ computational domain ------>|<- PML ->|\n",
        "# |pml_size pts   (Nx - 2*pml_size) pts      pml_size pts|\n",
        "pml_size_points     = Vector([10, 10, 10])                  # [grid points]\n",
        "\n",
        "grid_size_points    = Vector([Nx, Ny, Nz]) - 2 * pml_size_points\n",
        "grid_spacing_meters = Vector([lateral_spacing,\n",
        "                              depth_spacing,\n",
        "                              dz]) # grid spacing is given by ct resolution\n",
        "\n",
        "kgrid               = kWaveGrid(grid_size_points, grid_spacing_meters)\n",
        "\n",
        "c0           = 1540\n",
        "# c0           = np.max(sound_speed)\n",
        "domain_depth = grid_size_points.y * grid_spacing_meters.y # depth [m]\n",
        "t_end        = domain_depth * 2.2 / c0                    # [s], 2.2 is safety factor for overshoot\n",
        "kgrid.makeTime(c0, t_end = t_end)"
      ],
      "metadata": {
        "id": "W1nszfxc85OJ",
        "colab": {
          "base_uri": "https://localhost:8080/"
        },
        "outputId": "4d56869e-0f05-4394-ba01-f849d73a0f86"
      },
      "execution_count": 59,
      "outputs": [
        {
          "output_type": "execute_result",
          "data": {
            "text/plain": [
              "(Vector([[0.00000000e+00, 1.36972416e-07, 2.73944831e-07, ...,\n",
              "          4.93922531e-04, 4.94059503e-04, 4.94196475e-04]]),\n",
              " Vector(1.36972416e-07))"
            ]
          },
          "metadata": {},
          "execution_count": 59
        }
      ]
    },
    {
      "cell_type": "markdown",
      "source": [
        "Medium"
      ],
      "metadata": {
        "id": "-fzChFqvuYHb"
      }
    },
    {
      "cell_type": "code",
      "source": [
        "medium = kWaveMedium(\n",
        "  sound_speed = None,\n",
        "  density     = None,\n",
        "  alpha_coeff = 0.75,\n",
        "  alpha_power = 1.5,\n",
        "  BonA        = 6\n",
        ")"
      ],
      "metadata": {
        "id": "7n8Xj2cOuWpJ"
      },
      "execution_count": 60,
      "outputs": []
    },
    {
      "cell_type": "markdown",
      "source": [
        "Input signal"
      ],
      "metadata": {
        "id": "06CUXLI2jS-K"
      }
    },
    {
      "cell_type": "code",
      "execution_count": 61,
      "metadata": {
        "id": "l6ExjbPzHGmD"
      },
      "outputs": [],
      "source": [
        "source_strength   = 1e6  # [Pa] pressure amplitude\n",
        "tone_burst_freq   = 1e6  # [Hz] burst central frequency\n",
        "tone_burst_cycles = 4    # burst cycles\n",
        "rho0              = 1000\n",
        "\n",
        "input_signal = tone_burst(1 / kgrid.dt, tone_burst_freq, tone_burst_cycles)\n",
        "input_signal = (source_strength / (c0 * rho0)) * input_signal"
      ]
    },
    {
      "cell_type": "markdown",
      "source": [
        "Transducer"
      ],
      "metadata": {
        "id": "jE6eFNczBxse"
      }
    },
    {
      "cell_type": "code",
      "execution_count": 62,
      "metadata": {
        "id": "d8d3FQfRHGmE"
      },
      "outputs": [],
      "source": [
        "transducer                 = dotdict()\n",
        "transducer.number_elements = 64            # total number of transducer elements\n",
        "transducer.element_width   = 1             # width of each element [grid points]\n",
        "transducer.element_length  = ELEM_LENGTH   # length of each element [grid points]\n",
        "transducer.element_spacing = 0             # spacing (kerf  width) between the elements [grid points]\n",
        "transducer.radius          = float('inf')  # radius of curvature of the transducer [m]\n",
        "\n",
        "# calculate the width of the transducer in grid points\n",
        "transducer_width = (\n",
        "    transducer.number_elements * transducer.element_width\n",
        "    + (transducer.number_elements - 1) * transducer.element_spacing\n",
        ")\n",
        "\n",
        "# use this to position the transducer in the middle of the computational grid\n",
        "lateral_start_index = int(np.round(grid_size_points.x/2 - transducer_width/2))\n",
        "depth_start_index   = 1\n",
        "z_start_index       = slice_idx + 1\n",
        "\n",
        "transducer.position = [lateral_start_index,\n",
        "                       depth_start_index,\n",
        "                       z_start_index]\n",
        "\n",
        "transducer          = kWaveTransducerSimple(kgrid, **transducer)"
      ]
    },
    {
      "cell_type": "markdown",
      "source": [
        "“Not-A-Transducer” for source/sensor"
      ],
      "metadata": {
        "id": "8mvxvxVhBsO3"
      }
    },
    {
      "cell_type": "code",
      "execution_count": 63,
      "metadata": {
        "id": "eLrJHTKsHGmH"
      },
      "outputs": [],
      "source": [
        "not_transducer                      = dotdict()\n",
        "not_transducer.sound_speed          = c0  # sound speed [m/s]\n",
        "not_transducer.focus_distance       = 30e-3  # focus distance [m]\n",
        "not_transducer.elevation_focus_distance = 30e-3  # focus distance in the elevation plane [m]\n",
        "not_transducer.steering_angle       = 0  # steering angle [degrees]\n",
        "not_transducer.steering_angle_max   = 32  # steering angle [degrees]\n",
        "not_transducer.transmit_apodization = 'Hanning'\n",
        "not_transducer.receive_apodization  = 'Rectangular'\n",
        "not_transducer.active_elements      = np.ones((transducer.number_elements, 1))\n",
        "not_transducer.input_signal         = input_signal\n",
        "\n",
        "not_transducer                      = NotATransducer(transducer, kgrid, **not_transducer)"
      ]
    },
    {
      "cell_type": "markdown",
      "source": [
        "Random scatters (speckle-like)"
      ],
      "metadata": {
        "id": "iYjx-G_i8Q23"
      }
    },
    {
      "cell_type": "code",
      "source": [
        "# define a random distribution of scatterers\n",
        "background_map_mean = 1\n",
        "background_map_std  = 0.008\n",
        "background_map      = background_map_mean + background_map_std * np.random.randn(kgrid.Nx, kgrid.Ny, kgrid.Nz)\n",
        "\n",
        "sound_speed_map     = c0 * background_map\n",
        "density_map         = rho0 * background_map\n",
        "\n",
        "# add scatters to medium\n",
        "medium.sound_speed  = sound_speed_map.astype(np.float32)\n",
        "medium.density      = density_map.astype(np.float32)"
      ],
      "metadata": {
        "id": "fzfCU0br7-hH"
      },
      "execution_count": 64,
      "outputs": []
    },
    {
      "cell_type": "code",
      "source": [
        "'''\n",
        "# Segment the bone structures on the CT slice and apply enhanced scattering properties to those regions\n",
        "# 1. Segment the region of interest on the CT slice (e.g., bone) based on Hounsfield Units\n",
        "hu_threshold = 300                        # HU threshold above which voxels are considered bone\n",
        "bone_mask    = (ct_slice > hu_threshold) # boolean mask of the high-density region\n",
        "\n",
        "# 2. Generate scattering parameters for that region (reusing your clipping logic)\n",
        "scattering_map = np.random.randn(*ct_slice.shape)             # random perturbation map\n",
        "scattering_c0   = np.clip(                           # clamp sound speed values between 1400 and 1600 m/s\n",
        "    c0 + 25 + 75 * scattering_map,\n",
        "    1400,\n",
        "    1600\n",
        ")\n",
        "scattering_rho0 = scattering_c0 / 1.5                    # density values proportional to sound speed\n",
        "\n",
        "# 3. Overwrite the CT-derived maps only where the mask is True\n",
        "sound_speed_map[bone_mask] = scattering_c0[bone_mask]    # apply higher scattering speed in bone regions\n",
        "density_map    [bone_mask] = scattering_rho0[bone_mask]   # apply corresponding density\n",
        "\n",
        "# 4. Update the medium with the modified maps\n",
        "medium.sound_speed = sound_speed_map.astype(np.float32)  # ensure correct dtype for simulation\n",
        "medium.density     = density_map.astype(np.float32)\n",
        "'''"
      ],
      "metadata": {
        "colab": {
          "base_uri": "https://localhost:8080/",
          "height": 88
        },
        "cellView": "code",
        "id": "XbDL2t278A_G",
        "outputId": "1a02faed-dade-4a4f-c8e3-3c775717fdf9"
      },
      "execution_count": 65,
      "outputs": [
        {
          "output_type": "execute_result",
          "data": {
            "text/plain": [
              "'\\n# Segment the bone structures on the CT slice and apply enhanced scattering properties to those regions\\n# 1. Segment the region of interest on the CT slice (e.g., bone) based on Hounsfield Units\\nhu_threshold = 300                        # HU threshold above which voxels are considered bone\\nbone_mask    = (ct_slice > hu_threshold) # boolean mask of the high-density region\\n\\n# 2. Generate scattering parameters for that region (reusing your clipping logic)\\nscattering_map = np.random.randn(*ct_slice.shape)             # random perturbation map\\nscattering_c0   = np.clip(                           # clamp sound speed values between 1400 and 1600 m/s\\n    c0 + 25 + 75 * scattering_map,\\n    1400,\\n    1600\\n)\\nscattering_rho0 = scattering_c0 / 1.5                    # density values proportional to sound speed\\n\\n# 3. Overwrite the CT-derived maps only where the mask is True\\nsound_speed_map[bone_mask] = scattering_c0[bone_mask]    # apply higher scattering speed in bone regions\\ndensity_map    [bone_mask] = scattering_rho0[bone_mask]   # apply corresponding density\\n\\n# 4. Update the medium with the modified maps\\nmedium.sound_speed = sound_speed_map.astype(np.float32)  # ensure correct dtype for simulation\\nmedium.density     = density_map.astype(np.float32)\\n'"
            ],
            "application/vnd.google.colaboratory.intrinsic+json": {
              "type": "string"
            }
          },
          "metadata": {},
          "execution_count": 65
        }
      ]
    },
    {
      "cell_type": "markdown",
      "source": [
        "# Run simulation"
      ],
      "metadata": {
        "id": "TsEKml4kBCyN"
      }
    },
    {
      "cell_type": "code",
      "execution_count": null,
      "metadata": {
        "id": "VnNDQcw8HGmM",
        "colab": {
          "base_uri": "https://localhost:8080/"
        },
        "outputId": "8fcdca46-92e7-485e-92b2-bd79520946eb"
      },
      "outputs": [
        {
          "output_type": "stream",
          "name": "stdout",
          "text": [
            "Computing scan line 0 of 33\n",
            "┌───────────────────────────────────────────────────────────────┐\n",
            "│                  kspaceFirstOrder-CUDA v1.3                   │\n",
            "├───────────────────────────────────────────────────────────────┤\n",
            "│ Reading simulation configuration:                        Done │\n",
            "│ Selected GPU device id:                                     0 │\n",
            "│ GPU device name:                                     Tesla T4 │\n",
            "│ Number of CPU threads:                                      2 │\n",
            "│ Processor name:                Intel(R) Xeon(R) CPU @ 2.00GHz │\n",
            "├───────────────────────────────────────────────────────────────┤\n",
            "│                      Simulation details                       │\n",
            "├───────────────────────────────────────────────────────────────┤\n",
            "│ Domain dimensions:                             512 x 512 x 75 │\n",
            "│ Medium type:                                               3D │\n",
            "│ Simulation time steps:                                   3609 │\n",
            "├───────────────────────────────────────────────────────────────┤\n",
            "│                        Initialization                         │\n",
            "├───────────────────────────────────────────────────────────────┤\n",
            "│ Memory allocation:                                       Done │\n",
            "│ Data loading:                                            Done │\n",
            "│ Elapsed time:                                           0.25s │\n",
            "├───────────────────────────────────────────────────────────────┤\n",
            "│ FFT plans creation:                                      Done │\n",
            "│ Pre-processing phase:                                    Done │\n",
            "│ Elapsed time:                                           1.25s │\n",
            "├───────────────────────────────────────────────────────────────┤\n",
            "│                    Computational resources                    │\n",
            "├───────────────────────────────────────────────────────────────┤\n",
            "│ Current host memory in use:                            5975MB │\n",
            "│ Current device memory in use:                          2128MB │\n",
            "│ Expected output file size:                                0MB │\n",
            "├───────────────────────────────────────────────────────────────┤\n",
            "│                          Simulation                           │\n",
            "├──────────┬────────────────┬──────────────┬────────────────────┤\n",
            "│ Progress │  Elapsed time  │  Time to go  │  Est. finish time  │\n",
            "├──────────┼────────────────┼──────────────┼────────────────────┤\n",
            "│     0%   │        0.062s  │    111.469s  │  03/05/25 14:53:17 │\n",
            "│     5%   │       11.013s  │    207.378s  │  03/05/25 14:55:04 │\n",
            "│    10%   │       21.948s  │    196.863s  │  03/05/25 14:55:04 │\n",
            "│    15%   │       32.929s  │    185.931s  │  03/05/25 14:55:04 │\n",
            "│    20%   │       43.834s  │    174.970s  │  03/05/25 14:55:04 │\n",
            "│    25%   │       54.784s  │    163.926s  │  03/05/25 14:55:04 │\n",
            "│    30%   │       65.666s  │    152.957s  │  03/05/25 14:55:04 │\n",
            "│    35%   │       76.605s  │    141.947s  │  03/05/25 14:55:04 │\n",
            "│    40%   │       87.487s  │    131.018s  │  03/05/25 14:55:05 │\n",
            "│    45%   │       98.435s  │    120.047s  │  03/05/25 14:55:05 │\n",
            "│    50%   │      109.338s  │    109.156s  │  03/05/25 14:55:05 │\n",
            "│    55%   │      120.268s  │     98.286s  │  03/05/25 14:55:05 │\n",
            "│    60%   │      131.277s  │     87.357s  │  03/05/25 14:55:05 │\n",
            "│    65%   │      142.196s  │     76.460s  │  03/05/25 14:55:04 │\n",
            "│    70%   │      153.160s  │     65.493s  │  03/05/25 14:55:04 │\n",
            "│    75%   │      164.061s  │     54.586s  │  03/05/25 14:55:04 │\n",
            "│    80%   │      175.022s  │     43.619s  │  03/05/25 14:55:04 │\n",
            "│    85%   │      185.928s  │     32.715s  │  03/05/25 14:55:04 │\n",
            "│    90%   │      196.905s  │     21.750s  │  03/05/25 14:55:04 │\n",
            "│    95%   │      207.821s  │     10.845s  │  03/05/25 14:55:04 │\n",
            "├──────────┴────────────────┴──────────────┴────────────────────┤\n",
            "│ Elapsed time:                                         218.90s │\n",
            "├───────────────────────────────────────────────────────────────┤\n",
            "│ Sampled data post-processing:                            Done │\n",
            "│ Elapsed time:                                           0.00s │\n",
            "├───────────────────────────────────────────────────────────────┤\n",
            "│                            Summary                            │\n",
            "├───────────────────────────────────────────────────────────────┤\n",
            "│ Peak host memory in use:                               5975MB │\n",
            "│ Peak device memory in use:                             2128MB │\n",
            "├───────────────────────────────────────────────────────────────┤\n",
            "│ Total execution time:                                 221.83s │\n",
            "├───────────────────────────────────────────────────────────────┤\n",
            "│                       End of computation                      │\n",
            "└───────────────────────────────────────────────────────────────┘\n",
            "Computing scan line 1 of 33\n",
            "┌───────────────────────────────────────────────────────────────┐\n",
            "│                  kspaceFirstOrder-CUDA v1.3                   │\n",
            "├───────────────────────────────────────────────────────────────┤\n",
            "│ Reading simulation configuration:                        Done │\n",
            "│ Selected GPU device id:                                     0 │\n",
            "│ GPU device name:                                     Tesla T4 │\n",
            "│ Number of CPU threads:                                      2 │\n",
            "│ Processor name:                Intel(R) Xeon(R) CPU @ 2.00GHz │\n",
            "├───────────────────────────────────────────────────────────────┤\n",
            "│                      Simulation details                       │\n",
            "├───────────────────────────────────────────────────────────────┤\n",
            "│ Domain dimensions:                             512 x 512 x 75 │\n",
            "│ Medium type:                                               3D │\n",
            "│ Simulation time steps:                                   3609 │\n",
            "├───────────────────────────────────────────────────────────────┤\n",
            "│                        Initialization                         │\n",
            "├───────────────────────────────────────────────────────────────┤\n",
            "│ Memory allocation:                                       Done │\n",
            "│ Data loading:                                            Done │\n",
            "│ Elapsed time:                                           0.20s │\n",
            "├───────────────────────────────────────────────────────────────┤\n",
            "│ FFT plans creation:                                      Done │\n",
            "│ Pre-processing phase:                                    Done │\n",
            "│ Elapsed time:                                           0.49s │\n",
            "├───────────────────────────────────────────────────────────────┤\n",
            "│                    Computational resources                    │\n",
            "├───────────────────────────────────────────────────────────────┤\n",
            "│ Current host memory in use:                            5978MB │\n",
            "│ Current device memory in use:                          2128MB │\n",
            "│ Expected output file size:                                0MB │\n",
            "├───────────────────────────────────────────────────────────────┤\n",
            "│                          Simulation                           │\n",
            "├──────────┬────────────────┬──────────────┬────────────────────┤\n",
            "│ Progress │  Elapsed time  │  Time to go  │  Est. finish time  │\n",
            "├──────────┼────────────────┼──────────────┼────────────────────┤\n",
            "│     0%   │        0.064s  │    116.265s  │  03/05/25 14:57:29 │\n",
            "│     5%   │       10.959s  │    206.346s  │  03/05/25 14:59:10 │\n",
            "│    10%   │       21.856s  │    196.038s  │  03/05/25 14:59:10 │\n",
            "│    15%   │       32.847s  │    185.466s  │  03/05/25 14:59:10 │\n",
            "│    20%   │       43.820s  │    174.916s  │  03/05/25 14:59:10 │\n",
            "│    25%   │       54.825s  │    164.051s  │  03/05/25 14:59:11 │\n",
            "│    30%   │       65.733s  │    153.114s  │  03/05/25 14:59:11 │\n",
            "│    35%   │       76.692s  │    142.108s  │  03/05/25 14:59:11 │\n",
            "│    40%   │       87.590s  │    131.173s  │  03/05/25 14:59:11 │\n",
            "│    45%   │       98.551s  │    120.189s  │  03/05/25 14:59:11 │\n",
            "│    50%   │      109.464s  │    109.282s  │  03/05/25 14:59:11 │\n",
            "│    55%   │      120.385s  │     98.381s  │  03/05/25 14:59:11 │\n",
            "│    60%   │      131.366s  │     87.416s  │  03/05/25 14:59:11 │\n",
            "│    65%   │      142.279s  │     76.505s  │  03/05/25 14:59:11 │\n",
            "│    70%   │      153.249s  │     65.531s  │  03/05/25 14:59:11 │\n",
            "│    75%   │      164.155s  │     54.617s  │  03/05/25 14:59:11 │\n",
            "│    80%   │      175.124s  │     43.645s  │  03/05/25 14:59:11 │\n",
            "│    85%   │      186.034s  │     32.733s  │  03/05/25 14:59:11 │\n",
            "│    90%   │      197.006s  │     21.762s  │  03/05/25 14:59:11 │\n",
            "│    95%   │      207.917s  │     10.850s  │  03/05/25 14:59:10 │\n",
            "├──────────┴────────────────┴──────────────┴────────────────────┤\n",
            "│ Elapsed time:                                         218.99s │\n",
            "├───────────────────────────────────────────────────────────────┤\n",
            "│ Sampled data post-processing:                            Done │\n",
            "│ Elapsed time:                                           0.00s │\n",
            "├───────────────────────────────────────────────────────────────┤\n",
            "│                            Summary                            │\n",
            "├───────────────────────────────────────────────────────────────┤\n",
            "│ Peak host memory in use:                               5978MB │\n",
            "│ Peak device memory in use:                             2128MB │\n",
            "├───────────────────────────────────────────────────────────────┤\n",
            "│ Total execution time:                                 221.01s │\n",
            "├───────────────────────────────────────────────────────────────┤\n",
            "│                       End of computation                      │\n",
            "└───────────────────────────────────────────────────────────────┘\n",
            "Computing scan line 2 of 33\n",
            "┌───────────────────────────────────────────────────────────────┐\n",
            "│                  kspaceFirstOrder-CUDA v1.3                   │\n",
            "├───────────────────────────────────────────────────────────────┤\n",
            "│ Reading simulation configuration:                        Done │\n",
            "│ Selected GPU device id:                                     0 │\n",
            "│ GPU device name:                                     Tesla T4 │\n",
            "│ Number of CPU threads:                                      2 │\n",
            "│ Processor name:                Intel(R) Xeon(R) CPU @ 2.00GHz │\n",
            "├───────────────────────────────────────────────────────────────┤\n",
            "│                      Simulation details                       │\n",
            "├───────────────────────────────────────────────────────────────┤\n",
            "│ Domain dimensions:                             512 x 512 x 75 │\n",
            "│ Medium type:                                               3D │\n",
            "│ Simulation time steps:                                   3609 │\n",
            "├───────────────────────────────────────────────────────────────┤\n",
            "│                        Initialization                         │\n",
            "├───────────────────────────────────────────────────────────────┤\n",
            "│ Memory allocation:                                       Done │\n",
            "│ Data loading:                                            Done │\n",
            "│ Elapsed time:                                           0.20s │\n",
            "├───────────────────────────────────────────────────────────────┤\n",
            "│ FFT plans creation:                                      Done │\n",
            "│ Pre-processing phase:                                    Done │\n",
            "│ Elapsed time:                                           0.78s │\n",
            "├───────────────────────────────────────────────────────────────┤\n",
            "│                    Computational resources                    │\n",
            "├───────────────────────────────────────────────────────────────┤\n",
            "│ Current host memory in use:                            5997MB │\n",
            "│ Current device memory in use:                          2128MB │\n",
            "│ Expected output file size:                                0MB │\n",
            "├───────────────────────────────────────────────────────────────┤\n",
            "│                          Simulation                           │\n",
            "├──────────┬────────────────┬──────────────┬────────────────────┤\n",
            "│ Progress │  Elapsed time  │  Time to go  │  Est. finish time  │\n",
            "├──────────┼────────────────┼──────────────┼────────────────────┤\n",
            "│     0%   │        0.064s  │    114.854s  │  03/05/25 15:01:38 │\n",
            "│     5%   │       10.958s  │    206.334s  │  03/05/25 15:03:21 │\n",
            "│    10%   │       21.853s  │    196.015s  │  03/05/25 15:03:22 │\n",
            "│    15%   │       32.834s  │    185.396s  │  03/05/25 15:03:22 │\n",
            "│    20%   │       43.800s  │    174.835s  │  03/05/25 15:03:22 │\n",
            "│    25%   │       54.812s  │    164.013s  │  03/05/25 15:03:23 │\n",
            "│    30%   │       65.720s  │    153.083s  │  03/05/25 15:03:23 │\n",
            "│    35%   │       76.676s  │    142.077s  │  03/05/25 15:03:23 │\n",
            "│    40%   │       87.567s  │    131.139s  │  03/05/25 15:03:23 │\n",
            "│    45%   │       98.523s  │    120.154s  │  03/05/25 15:03:23 │\n",
            "│    50%   │      109.429s  │    109.247s  │  03/05/25 15:03:23 │\n",
            "│    55%   │      120.349s  │     98.352s  │  03/05/25 15:03:23 │\n",
            "│    60%   │      131.328s  │     87.390s  │  03/05/25 15:03:23 │\n",
            "│    65%   │      142.240s  │     76.484s  │  03/05/25 15:03:23 │\n",
            "│    70%   │      153.208s  │     65.513s  │  03/05/25 15:03:22 │\n",
            "│    75%   │      164.112s  │     54.603s  │  03/05/25 15:03:22 │\n",
            "│    80%   │      175.076s  │     43.633s  │  03/05/25 15:03:22 │\n",
            "│    85%   │      185.983s  │     32.724s  │  03/05/25 15:03:22 │\n",
            "│    90%   │      196.952s  │     21.756s  │  03/05/25 15:03:22 │\n",
            "│    95%   │      207.860s  │     10.847s  │  03/05/25 15:03:22 │\n",
            "├──────────┴────────────────┴──────────────┴────────────────────┤\n",
            "│ Elapsed time:                                         218.93s │\n",
            "├───────────────────────────────────────────────────────────────┤\n",
            "│ Sampled data post-processing:                            Done │\n",
            "│ Elapsed time:                                           0.00s │\n",
            "├───────────────────────────────────────────────────────────────┤\n",
            "│                            Summary                            │\n",
            "├───────────────────────────────────────────────────────────────┤\n",
            "│ Peak host memory in use:                               5997MB │\n",
            "│ Peak device memory in use:                             2128MB │\n",
            "├───────────────────────────────────────────────────────────────┤\n",
            "│ Total execution time:                                 221.21s │\n",
            "├───────────────────────────────────────────────────────────────┤\n",
            "│                       End of computation                      │\n",
            "└───────────────────────────────────────────────────────────────┘\n",
            "Computing scan line 3 of 33\n",
            "┌───────────────────────────────────────────────────────────────┐\n",
            "│                  kspaceFirstOrder-CUDA v1.3                   │\n",
            "├───────────────────────────────────────────────────────────────┤\n",
            "│ Reading simulation configuration:                        Done │\n",
            "│ Selected GPU device id:                                     0 │\n",
            "│ GPU device name:                                     Tesla T4 │\n",
            "│ Number of CPU threads:                                      2 │\n",
            "│ Processor name:                Intel(R) Xeon(R) CPU @ 2.00GHz │\n",
            "├───────────────────────────────────────────────────────────────┤\n",
            "│                      Simulation details                       │\n",
            "├───────────────────────────────────────────────────────────────┤\n",
            "│ Domain dimensions:                             512 x 512 x 75 │\n",
            "│ Medium type:                                               3D │\n",
            "│ Simulation time steps:                                   3609 │\n",
            "├───────────────────────────────────────────────────────────────┤\n",
            "│                        Initialization                         │\n",
            "├───────────────────────────────────────────────────────────────┤\n",
            "│ Memory allocation:                                       Done │\n",
            "│ Data loading:                                            Done │\n",
            "│ Elapsed time:                                           0.20s │\n",
            "├───────────────────────────────────────────────────────────────┤\n",
            "│ FFT plans creation:                                      Done │\n",
            "│ Pre-processing phase:                                    Done │\n",
            "│ Elapsed time:                                           0.50s │\n",
            "├───────────────────────────────────────────────────────────────┤\n",
            "│                    Computational resources                    │\n",
            "├───────────────────────────────────────────────────────────────┤\n",
            "│ Current host memory in use:                            5997MB │\n",
            "│ Current device memory in use:                          2128MB │\n",
            "│ Expected output file size:                                0MB │\n",
            "├───────────────────────────────────────────────────────────────┤\n",
            "│                          Simulation                           │\n",
            "├──────────┬────────────────┬──────────────┬────────────────────┤\n",
            "│ Progress │  Elapsed time  │  Time to go  │  Est. finish time  │\n",
            "├──────────┼────────────────┼──────────────┼────────────────────┤\n",
            "│     0%   │        0.065s  │    116.907s  │  03/05/25 15:05:52 │\n",
            "│     5%   │       10.960s  │    206.377s  │  03/05/25 15:07:32 │\n",
            "│    10%   │       21.852s  │    196.005s  │  03/05/25 15:07:33 │\n",
            "│    15%   │       32.833s  │    185.391s  │  03/05/25 15:07:33 │\n",
            "│    20%   │       43.800s  │    174.836s  │  03/05/25 15:07:33 │\n",
            "│    25%   │       54.813s  │    164.014s  │  03/05/25 15:07:34 │\n",
            "│    30%   │       65.718s  │    153.080s  │  03/05/25 15:07:34 │\n",
            "│    35%   │       76.674s  │    142.075s  │  03/05/25 15:07:34 │\n",
            "│    40%   │       87.567s  │    131.139s  │  03/05/25 15:07:34 │\n",
            "│    45%   │       98.523s  │    120.155s  │  03/05/25 15:07:34 │\n",
            "│    50%   │      109.428s  │    109.247s  │  03/05/25 15:07:34 │\n"
          ]
        }
      ],
      "source": [
        "# define range of steering angles to test and preallocate the storage\n",
        "steering_angles   = np.arange(-32, 33, 2)\n",
        "number_scan_lines = len(steering_angles)\n",
        "scan_lines        = np.zeros((number_scan_lines, kgrid.Nt))\n",
        "\n",
        "if RUN_SIMULATION:\n",
        "    for angle_index in range(number_scan_lines):\n",
        "        print(f'Computing scan line {angle_index} of {number_scan_lines}')\n",
        "\n",
        "        # set the input settings\n",
        "        input_filename        = f'example_input_{angle_index}.h5'\n",
        "        # set the input settings\n",
        "        simulation_options    = SimulationOptions(\n",
        "            pml_inside        = False,\n",
        "            pml_size          = pml_size_points,\n",
        "            data_cast         = DATA_CAST,\n",
        "            data_recast       = True,\n",
        "            save_to_disk      = True,\n",
        "            input_filename    = input_filename,\n",
        "            save_to_disk_exit = False\n",
        "        )\n",
        "\n",
        "        # Update the current steering angle\n",
        "        not_transducer.steering_angle = steering_angles[angle_index]\n",
        "\n",
        "        # RUN 2D K-WAVE SIMULATION\n",
        "        sensor_data            = kspaceFirstOrder3D(\n",
        "            medium             = deepcopy(medium),  # Medium is altered in-place in this function\n",
        "            kgrid              = kgrid,\n",
        "            source             = not_transducer,\n",
        "            sensor             = not_transducer,\n",
        "            simulation_options = simulation_options,\n",
        "            execution_options  = SimulationExecutionOptions(is_gpu_simulation=True)\n",
        "        )\n",
        "\n",
        "        # combine sensor outputs and extract scan line\n",
        "        raw_pressure      = sensor_data['p'].T\n",
        "        combined_signal   = not_transducer.combine_sensor_data(raw_pressure)\n",
        "        scan_lines[angle_index, :] = not_transducer.scan_line(combined_signal)\n",
        "\n",
        "    # save\n",
        "    scipy.io.savemat('example_us_phased_array_scan_lines.mat', {'scan_lines': scan_lines})\n",
        "else:\n",
        "    scan_lines = scipy.io.loadmat('example_us_phased_array_scan_lines')['scan_lines']"
      ]
    },
    {
      "cell_type": "markdown",
      "metadata": {
        "id": "qRtLHwCdHGmN"
      },
      "source": [
        "## PROCESS THE RESULTS\n",
        "### Remove Input Signal"
      ]
    },
    {
      "cell_type": "code",
      "execution_count": null,
      "metadata": {
        "id": "5UUMZG6GHGmQ"
      },
      "outputs": [],
      "source": [
        "# Trim the delay offset from the scan line data\n",
        "t0_offset = int(round(len(input_signal.squeeze())/ 2) + (not_transducer.appended_zeros - not_transducer.beamforming_delays_offset))\n",
        "\n",
        "scan_lines = scan_lines[:, t0_offset:]\n",
        "\n",
        "Nt = np.shape(scan_lines)[1]\n"
      ]
    },
    {
      "cell_type": "code",
      "execution_count": null,
      "metadata": {
        "id": "mxyrNy1RHGmQ"
      },
      "outputs": [],
      "source": [
        "\n",
        "tukey_win, _ = get_win(Nt * 2, 'Tukey', False, 0.05)\n",
        "scan_line_win = np.concatenate((np.zeros([1, t0_offset * 2]), tukey_win.T[:, :int(len(tukey_win)/2) - t0_offset * 2]), axis=1)\n",
        "\n",
        "scan_lines = scan_lines * scan_line_win\n",
        "# store intermediate results"
      ]
    },
    {
      "cell_type": "markdown",
      "metadata": {
        "id": "9nyCwZWFHGmR"
      },
      "source": [
        "### Time Gain Compensation"
      ]
    },
    {
      "cell_type": "code",
      "execution_count": null,
      "metadata": {
        "id": "V0ec88g3HGmR"
      },
      "outputs": [],
      "source": [
        "# Create radius variable\n",
        "r = c0 * np.arange(1, Nt + 1) * kgrid.dt / 2\n",
        "\n",
        "# Define absorption value and convert to correct units\n",
        "tgc_alpha_db_cm = medium.alpha_coeff * (tone_burst_freq * 1e-6)**medium.alpha_power\n",
        "tgc_alpha_np_m = db2neper(tgc_alpha_db_cm) * 100\n",
        "\n",
        "# Create time gain compensation function\n",
        "tgc = np.exp(tgc_alpha_np_m * 2 * r)\n",
        "\n",
        "# Apply the time gain compensation to each of the scan lines\n",
        "scan_lines *= tgc"
      ]
    },
    {
      "cell_type": "markdown",
      "metadata": {
        "id": "lR0h0NkYHGmS"
      },
      "source": [
        "### Frequency Filtering"
      ]
    },
    {
      "cell_type": "code",
      "execution_count": null,
      "metadata": {
        "id": "IWgq1K-AHGmS"
      },
      "outputs": [],
      "source": [
        "scan_lines_fund = gaussian_filter(scan_lines, 1/kgrid.dt, tone_burst_freq, 100)\n",
        "scan_lines_harm = gaussian_filter(scan_lines, 1/kgrid.dt, 2 * tone_burst_freq, 30)"
      ]
    },
    {
      "cell_type": "markdown",
      "metadata": {
        "id": "zF21BSmhHGmS"
      },
      "source": [
        "### Envelope Detection"
      ]
    },
    {
      "cell_type": "code",
      "execution_count": null,
      "metadata": {
        "id": "orUyE_XrHGmT"
      },
      "outputs": [],
      "source": [
        "scan_lines_fund = envelope_detection(scan_lines_fund)\n",
        "scan_lines_harm = envelope_detection(scan_lines_harm)"
      ]
    },
    {
      "cell_type": "markdown",
      "metadata": {
        "id": "7sQi_iuRHGmT"
      },
      "source": [
        "### Log Compression"
      ]
    },
    {
      "cell_type": "code",
      "execution_count": null,
      "metadata": {
        "id": "A0FQ0rF3HGmT"
      },
      "outputs": [],
      "source": [
        "compression_ratio = 3\n",
        "scan_lines_fund = log_compression(scan_lines_fund, compression_ratio, True)\n",
        "scan_lines_harm = log_compression(scan_lines_harm, compression_ratio, True)"
      ]
    },
    {
      "cell_type": "markdown",
      "metadata": {
        "id": "PqxOAXc_HGmU"
      },
      "source": [
        "### Visualization"
      ]
    },
    {
      "cell_type": "code",
      "execution_count": null,
      "metadata": {
        "id": "N7twSB98HGmU"
      },
      "outputs": [],
      "source": [
        "image_size = [kgrid.Nx * kgrid.dx, kgrid.Ny * kgrid.dy]\n",
        "image_res = [256, 256]\n",
        "\n",
        "b_mode_fund = scan_conversion(scan_lines_fund, steering_angles, image_size, c0, kgrid.dt, image_res)\n",
        "b_mode_harm = scan_conversion(scan_lines_harm, steering_angles, image_size, c0, kgrid.dt, image_res)"
      ]
    },
    {
      "cell_type": "code",
      "execution_count": null,
      "metadata": {
        "id": "1DXlT32oHGmU"
      },
      "outputs": [],
      "source": [
        "# Create the axis variables\n",
        "x_axis = [0, image_size[0] * 1e3] # [mm]\n",
        "y_axis = [0, image_size[1] * 1e3]  # [mm]"
      ]
    },
    {
      "cell_type": "code",
      "execution_count": null,
      "metadata": {
        "id": "-tBwR_LbHGmV"
      },
      "outputs": [],
      "source": [
        "plt.ion()\n",
        "plt.figure(figsize=(15, 4))\n",
        "plt.subplot(131)\n",
        "plt.imshow(scan_lines.T, aspect='auto',\n",
        "             extent=[steering_angles[-1], steering_angles[0],y_axis[1], y_axis[0] ], interpolation='none', cmap='gray')\n",
        "plt.xlabel('Steering angle [deg]')\n",
        "plt.ylabel('Depth [mm]')\n",
        "plt.title('Raw Scan-Line Data')\n",
        "\n",
        "\n",
        "plt.subplot(132)\n",
        "plt.imshow(scan_lines_fund.T, aspect='auto',\n",
        "            extent=[steering_angles[-1], steering_angles[0],y_axis[1], y_axis[0] ],  interpolation='none', cmap='bone')\n",
        "plt.xlabel('Steering angle [deg]')\n",
        "plt.ylabel('Depth [mm]')\n",
        "plt.title('Processed Scan-Line Data')\n",
        "\n",
        "plt.subplot(133)\n",
        "plt.imshow(b_mode_fund, cmap='bone', aspect='auto',  extent=[y_axis[0], y_axis[1], x_axis[1], x_axis[0]], interpolation='none')\n",
        "plt.xlabel('Horizontal Position [mm]')\n",
        "plt.ylabel('Depth [mm]')\n",
        "plt.title('B-Mode Image')"
      ]
    },
    {
      "cell_type": "code",
      "execution_count": null,
      "metadata": {
        "id": "cp2e_5muHGmV"
      },
      "outputs": [],
      "source": [
        "plt.figure(figsize=(15, 4))\n",
        "plt.subplot(131)\n",
        "plt.imshow(medium.sound_speed[..., kgrid.Nz//2], aspect='auto',\n",
        "            extent=[y_axis[0], y_axis[1], x_axis[1], x_axis[0]])\n",
        "plt.xlabel('Horizontal Position [mm]')\n",
        "plt.ylabel('Depth [mm]')\n",
        "plt.title('Scattering Phantom')\n",
        "\n",
        "plt.subplot(132)\n",
        "plt.imshow(b_mode_fund, cmap='bone', aspect='auto',  extent=[y_axis[0], y_axis[1], x_axis[1], x_axis[0]], interpolation='none')\n",
        "plt.xlabel('Horizontal Position [mm]')\n",
        "plt.ylabel('Depth [mm]')\n",
        "plt.title('B-Mode Image')\n",
        "\n",
        "plt.subplot(133)\n",
        "plt.imshow(b_mode_harm, cmap='bone', aspect='auto',  extent=[y_axis[0], y_axis[1], x_axis[1], x_axis[0]], interpolation='none')\n",
        "plt.xlabel('Horizontal Position [mm]')\n",
        "plt.ylabel('Depth [mm]')\n",
        "plt.title('Harmonic Image')\n",
        "\n",
        "plt.show()\n"
      ]
    }
  ],
  "metadata": {
    "kernelspec": {
      "display_name": "Python 3",
      "name": "python3"
    },
    "language_info": {
      "codemirror_mode": {
        "name": "ipython",
        "version": 3
      },
      "file_extension": ".py",
      "mimetype": "text/x-python",
      "name": "python",
      "nbconvert_exporter": "python",
      "pygments_lexer": "ipython3"
    },
    "colab": {
      "provenance": [],
      "gpuType": "T4",
      "include_colab_link": true
    },
    "accelerator": "GPU"
  },
  "nbformat": 4,
  "nbformat_minor": 0
}