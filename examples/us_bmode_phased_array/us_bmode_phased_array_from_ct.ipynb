{
  "cells": [
    {
      "cell_type": "markdown",
      "metadata": {
        "id": "view-in-github",
        "colab_type": "text"
      },
      "source": [
        "<a href=\"https://colab.research.google.com/github/vanessacannizzaropolimi/US_Simulation/blob/main/examples/us_bmode_phased_array/us_bmode_phased_array_from_ct.ipynb\" target=\"_parent\"><img src=\"https://colab.research.google.com/assets/colab-badge.svg\" alt=\"Open In Colab\"/></a>"
      ]
    },
    {
      "cell_type": "markdown",
      "source": [
        "Install k-Wave-python and import libraries"
      ],
      "metadata": {
        "id": "ax0i596jiURw"
      }
    },
    {
      "cell_type": "code",
      "execution_count": null,
      "metadata": {
        "id": "8xTi-tyFHGlx"
      },
      "outputs": [],
      "source": [
        "%%capture\n",
        "!pip install git+https://github.com/waltsims/k-wave-python"
      ]
    },
    {
      "cell_type": "code",
      "execution_count": null,
      "metadata": {
        "id": "RIXUhlM1HGl7"
      },
      "outputs": [],
      "source": [
        "from copy import deepcopy\n",
        "\n",
        "import numpy as np\n",
        "import nibabel as nib\n",
        "import scipy.io\n",
        "from matplotlib import pyplot as plt\n",
        "\n",
        "from kwave.data import Vector\n",
        "from kwave.kgrid import kWaveGrid\n",
        "from kwave.kmedium import kWaveMedium\n",
        "from kwave.kspaceFirstOrder2D import kspaceFirstOrder2D\n",
        "# from kwave.kspaceFirstOrder3D import kspaceFirstOrder3D\n",
        "from kwave.ktransducer import NotATransducer, kWaveTransducerSimple\n",
        "from kwave.options.simulation_execution_options import SimulationExecutionOptions\n",
        "from kwave.options.simulation_options import SimulationOptions\n",
        "from kwave.reconstruction.beamform import envelope_detection, scan_conversion\n",
        "from kwave.reconstruction.tools import log_compression\n",
        "from kwave.utils.conversion import db2neper\n",
        "from kwave.utils.dotdictionary import dotdict\n",
        "from kwave.utils.filters import gaussian_filter\n",
        "# from kwave.utils.mapgen import make_ball\n",
        "from kwave.utils.signals import get_win, tone_burst\n",
        "from kwave.utils.conversion import hounsfield2density, hounsfield2soundspeed"
      ]
    },
    {
      "cell_type": "markdown",
      "source": [
        "Settings"
      ],
      "metadata": {
        "id": "0TRa-38P-ZPQ"
      }
    },
    {
      "cell_type": "code",
      "source": [
        "DATA_CAST = 'single'\n",
        "RUN_SIMULATION = True\n",
        "\n",
        "filename = 'CT_volume.nii'"
      ],
      "metadata": {
        "id": "wuUJyL_4uebT"
      },
      "execution_count": null,
      "outputs": []
    },
    {
      "cell_type": "markdown",
      "source": [
        "Load CT NIfTI file and extract central slice"
      ],
      "metadata": {
        "id": "HXbbGl7vifgQ"
      }
    },
    {
      "cell_type": "code",
      "source": [
        "ct_img                         = nib.load(filename)\n",
        "ct_vol                         = ct_img.get_fdata()\n",
        "dx_mm, dy_mm, dz_mm            = ct_img.header.get_zooms()  # 3d spacing in mm\n",
        "lateral_spacing, depth_spacing = dx_mm/1000.0, dy_mm/1000.0 # 2d spacing in m\n",
        "\n",
        "# extract slice\n",
        "slice_idx = ct_vol.shape[2] // 2\n",
        "ct_slice  = np.flipud(ct_vol[:, :, slice_idx]) # shape = (Nx, Ny)\n",
        "Nx, Ny    = ct_slice.shape                     # Nx = lateral, Ny = spacing"
      ],
      "metadata": {
        "id": "0BzYqHaqiSdm"
      },
      "execution_count": null,
      "outputs": []
    },
    {
      "cell_type": "markdown",
      "source": [
        "Conversion HU -> acoustic properties: density [kg/m^3] and sound speed [m/s]"
      ],
      "metadata": {
        "id": "Cvu81TqAjI6R"
      }
    },
    {
      "cell_type": "code",
      "source": [
        "density_map     = hounsfield2density(ct_slice, plot_fitting=False).astype(np.float32) # :contentReference[oaicite:0]{index=0}\n",
        "sound_speed_map = hounsfield2soundspeed(ct_slice).astype(np.float32)                  # :contentReference[oaicite:1]{index=1}"
      ],
      "metadata": {
        "id": "PTN_madDjP3J"
      },
      "execution_count": null,
      "outputs": []
    },
    {
      "cell_type": "markdown",
      "source": [
        "2D grid and temporal dependencies"
      ],
      "metadata": {
        "id": "9y5IdV8Y85eH"
      }
    },
    {
      "cell_type": "code",
      "source": [
        "# |<- PML ->|<------ computational domain ------>|<- PML ->|\n",
        "# |pml_size pts   (Nx - 2*pml_size) pts      pml_size pts|\n",
        "pml_size_points     = Vector([10, 10])                         # [grid points]\n",
        "grid_size_points    = Vector([Nx, Ny]) - 2 * pml_size_points\n",
        "grid_spacing_meters = Vector([lateral_spacing, depth_spacing]) # grid spacing is given by ct resolution\n",
        "\n",
        "kgrid               = kWaveGrid(grid_size_points, grid_spacing_meters)\n",
        "\n",
        "c0           = 1540\n",
        "# c0           = np.max(sound_speed)\n",
        "domain_depth = grid_size_points.y * grid_spacing_meters.y # depth [m]\n",
        "t_end        = domain_depth * 2.2 / c0                    # [s], 2.2 is safety factor for overshoot\n",
        "kgrid.make_time_grid(c0, t_end = t_end)"
      ],
      "metadata": {
        "id": "W1nszfxc85OJ"
      },
      "execution_count": null,
      "outputs": []
    },
    {
      "cell_type": "markdown",
      "source": [
        "Medium"
      ],
      "metadata": {
        "id": "-fzChFqvuYHb"
      }
    },
    {
      "cell_type": "code",
      "source": [
        "medium = kWaveMedium(\n",
        "  sound_speed = None,\n",
        "  density     = None,\n",
        "  alpha_coeff = 0.75,\n",
        "  alpha_power = 1.5\n",
        "  BonA        = 6\n",
        ")"
      ],
      "metadata": {
        "id": "7n8Xj2cOuWpJ"
      },
      "execution_count": null,
      "outputs": []
    },
    {
      "cell_type": "markdown",
      "source": [
        "Input signal"
      ],
      "metadata": {
        "id": "06CUXLI2jS-K"
      }
    },
    {
      "cell_type": "code",
      "execution_count": null,
      "metadata": {
        "id": "l6ExjbPzHGmD"
      },
      "outputs": [],
      "source": [
        "source_strength   = 1e6  # [Pa] pressure amplitude\n",
        "tone_burst_freq   = 1e6  # [Hz] burst central frequency\n",
        "tone_burst_cycles = 4    # burst cycles\n",
        "rho0              = 1000\n",
        "\n",
        "input_signal = tone_burst(1 / kgrid.dt, tone_burst_freq, tone_burst_cycles)\n",
        "input_signal = (source_strength / (c0 * rho0)) * input_signal"
      ]
    },
    {
      "cell_type": "markdown",
      "source": [
        "Transducer"
      ],
      "metadata": {
        "id": "jE6eFNczBxse"
      }
    },
    {
      "cell_type": "code",
      "execution_count": null,
      "metadata": {
        "id": "d8d3FQfRHGmE"
      },
      "outputs": [],
      "source": [
        "transducer                 = dotdict()\n",
        "transducer.number_elements = 64            # total number of transducer elements\n",
        "transducer.element_width   = 1             # width of each element [grid points]\n",
        "transducer.element_length  = 40            # length of each element [grid points]\n",
        "transducer.element_spacing = 0             # spacing (kerf  width) between the elements [grid points]\n",
        "transducer.radius          = float('inf')  # radius of curvature of the transducer [m]\n",
        "\n",
        "# calculate the width of the transducer in grid points\n",
        "transducer_width = (\n",
        "    transducer.number_elements * transducer.element_width\n",
        "    + (transducer.number_elements - 1) * transducer.element_spacing\n",
        ")\n",
        "\n",
        "# use this to position the transducer in the middle of the computational grid\n",
        "lateral_start_index = np.round(grid_size_points.x/2 - transducer_width/2)\n",
        "depth_start_index   = 1\n",
        "\n",
        "transducer.position = [lateral_start_index, depth_start_index]\n",
        "\n",
        "transducer          = kWaveTransducerSimple(kgrid, **transducer)"
      ]
    },
    {
      "cell_type": "markdown",
      "source": [
        "“Not-A-Transducer” for source/sensor"
      ],
      "metadata": {
        "id": "8mvxvxVhBsO3"
      }
    },
    {
      "cell_type": "code",
      "execution_count": null,
      "metadata": {
        "id": "eLrJHTKsHGmH"
      },
      "outputs": [],
      "source": [
        "not_transducer                      = dotdict()\n",
        "not_transducer.sound_speed          = c0  # sound speed [m/s]\n",
        "not_transducer.focus_distance       = 30e-3  # focus distance [m]\n",
        "# in 2D we don't need elevation_focus_distance!\n",
        "not_transducer.steering_angle       = 0  # steering angle [degrees]\n",
        "not_transducer.steering_angle_max   = 32  # steering angle [degrees]\n",
        "not_transducer.transmit_apodization = 'Hanning'\n",
        "not_transducer.receive_apodization  = 'Rectangular'\n",
        "not_transducer.active_elements      = np.ones((transducer.number_elements, 1))\n",
        "not_transducer.input_signal         = input_signal\n",
        "\n",
        "not_transducer                      = NotATransducer(transducer, kgrid, **not_transducer)"
      ]
    },
    {
      "cell_type": "markdown",
      "source": [
        "Random scatters (speckle-like)"
      ],
      "metadata": {
        "id": "iYjx-G_i8Q23"
      }
    },
    {
      "cell_type": "code",
      "source": [
        "# define a random distribution of scatterers\n",
        "background_map_mean = 1\n",
        "background_map_std  = 0.008\n",
        "background_map      = background_map_mean + background_map_std * np.random.randn(kgrid.Nx, kgrid.Ny)\n",
        "\n",
        "sound_speed_map     = c0 * background_map\n",
        "density_map         = rho0 * background_map\n",
        "\n",
        "# add scatters to medium\n",
        "medium.sound_speed  = sound_speed_map.astype(np.float32)\n",
        "medium.density      = density_map.astype(np.float32)"
      ],
      "metadata": {
        "id": "fzfCU0br7-hH"
      },
      "execution_count": null,
      "outputs": []
    },
    {
      "cell_type": "code",
      "source": [
        "'''\n",
        "# Segment the bone structures on the CT slice and apply enhanced scattering properties to those regions\n",
        "# 1. Segment the region of interest on the CT slice (e.g., bone) based on Hounsfield Units\n",
        "hu_threshold = 300                        # HU threshold above which voxels are considered bone\n",
        "bone_mask    = (ct_slice > hu_threshold) # boolean mask of the high-density region\n",
        "\n",
        "# 2. Generate scattering parameters for that region (reusing your clipping logic)\n",
        "scattering_map = np.random.randn(*ct_slice.shape)             # random perturbation map\n",
        "scattering_c0   = np.clip(                           # clamp sound speed values between 1400 and 1600 m/s\n",
        "    c0 + 25 + 75 * scattering_map,\n",
        "    1400,\n",
        "    1600\n",
        ")\n",
        "scattering_rho0 = scattering_c0 / 1.5                    # density values proportional to sound speed\n",
        "\n",
        "# 3. Overwrite the CT-derived maps only where the mask is True\n",
        "sound_speed_map[bone_mask] = scattering_c0[bone_mask]    # apply higher scattering speed in bone regions\n",
        "density_map    [bone_mask] = scattering_rho0[bone_mask]   # apply corresponding density\n",
        "\n",
        "# 4. Update the medium with the modified maps\n",
        "medium.sound_speed = sound_speed_map.astype(np.float32)  # ensure correct dtype for simulation\n",
        "medium.density     = density_map.astype(np.float32)\n",
        "'''"
      ],
      "metadata": {
        "cellView": "code",
        "id": "XbDL2t278A_G"
      },
      "execution_count": null,
      "outputs": []
    },
    {
      "cell_type": "markdown",
      "source": [
        "# Run simulation"
      ],
      "metadata": {
        "id": "TsEKml4kBCyN"
      }
    },
    {
      "cell_type": "code",
      "execution_count": null,
      "metadata": {
        "id": "VnNDQcw8HGmM"
      },
      "outputs": [],
      "source": [
        "# define range of steering angles to test and preallocate the storage\n",
        "steering_angles   = np.arange(-32, 33, 2)\n",
        "number_scan_lines = len(steering_angles)\n",
        "scan_lines        = np.zeros((number_scan_lines, kgrid.Nt))\n",
        "\n",
        "if RUN_SIMULATION:\n",
        "    for angle_index in range(number_scan_lines):\n",
        "        print(f'Computing scan line {angle_index} of {number_scan_lines}')\n",
        "\n",
        "        # set the input settings\n",
        "        input_filename        = f'example_input_{angle_index}.h5'\n",
        "        # set the input settings\n",
        "        simulation_options    = SimulationOptions(\n",
        "            pml_inside        = False,\n",
        "            pml_size          = pml_size_points,\n",
        "            data_cast         = DATA_CAST,\n",
        "            data_recast       = True,\n",
        "            save_to_disk      = True,\n",
        "            input_filename    = input_filename,\n",
        "            save_to_disk_exit = False\n",
        "        )\n",
        "\n",
        "        # Update the current steering angle\n",
        "        not_transducer.steering_angle = steering_angles[angle_index]\n",
        "\n",
        "        # RUN 2D K-WAVE SIMULATION\n",
        "        sensor_data            = kspaceFirstOrder2D(\n",
        "            medium             = deepcopy(medium),  # Medium is altered in-place in this function\n",
        "            kgrid              = kgrid,\n",
        "            source             = not_transducer,\n",
        "            sensor             = not_transducer,\n",
        "            simulation_options = simulation_options,\n",
        "            execution_options  = SimulationExecutionOptions(is_gpu_simulation=True)\n",
        "        )\n",
        "\n",
        "        # combine sensor outputs and extract scan line\n",
        "        raw_pressure      = sensor_data['p'].T\n",
        "        combined_signal   = not_transducer.combine_sensor_data(raw_pressure)\n",
        "        scan_lines[angle_index, :] = not_transducer.scan_line(combined_signal)\n",
        "\n",
        "    # save\n",
        "    scipy.io.savemat('example_us_phased_array_scan_lines.mat', {'scan_lines': scan_lines})\n",
        "else:\n",
        "    scan_lines = scipy.io.loadmat('example_us_phased_array_scan_lines')['scan_lines']"
      ]
    },
    {
      "cell_type": "markdown",
      "metadata": {
        "id": "qRtLHwCdHGmN"
      },
      "source": [
        "## PROCESS THE RESULTS\n",
        "### Remove Input Signal"
      ]
    },
    {
      "cell_type": "code",
      "execution_count": null,
      "metadata": {
        "id": "5UUMZG6GHGmQ"
      },
      "outputs": [],
      "source": [
        "# Trim the delay offset from the scan line data\n",
        "t0_offset = int(round(len(input_signal.squeeze())/ 2) + (not_transducer.appended_zeros - not_transducer.beamforming_delays_offset))\n",
        "\n",
        "scan_lines = scan_lines[:, t0_offset:]\n",
        "\n",
        "Nt = np.shape(scan_lines)[1]\n"
      ]
    },
    {
      "cell_type": "code",
      "execution_count": null,
      "metadata": {
        "id": "mxyrNy1RHGmQ"
      },
      "outputs": [],
      "source": [
        "\n",
        "tukey_win, _ = get_win(Nt * 2, 'Tukey', False, 0.05)\n",
        "scan_line_win = np.concatenate((np.zeros([1, t0_offset * 2]), tukey_win.T[:, :int(len(tukey_win)/2) - t0_offset * 2]), axis=1)\n",
        "\n",
        "scan_lines = scan_lines * scan_line_win\n",
        "# store intermediate results"
      ]
    },
    {
      "cell_type": "markdown",
      "metadata": {
        "id": "9nyCwZWFHGmR"
      },
      "source": [
        "### Time Gain Compensation"
      ]
    },
    {
      "cell_type": "code",
      "execution_count": null,
      "metadata": {
        "id": "V0ec88g3HGmR"
      },
      "outputs": [],
      "source": [
        "# Create radius variable\n",
        "r = c0 * np.arange(1, Nt + 1) * kgrid.dt / 2\n",
        "\n",
        "# Define absorption value and convert to correct units\n",
        "tgc_alpha_db_cm = medium.alpha_coeff * (tone_burst_freq * 1e-6)**medium.alpha_power\n",
        "tgc_alpha_np_m = db2neper(tgc_alpha_db_cm) * 100\n",
        "\n",
        "# Create time gain compensation function\n",
        "tgc = np.exp(tgc_alpha_np_m * 2 * r)\n",
        "\n",
        "# Apply the time gain compensation to each of the scan lines\n",
        "scan_lines *= tgc"
      ]
    },
    {
      "cell_type": "markdown",
      "metadata": {
        "id": "lR0h0NkYHGmS"
      },
      "source": [
        "### Frequency Filtering"
      ]
    },
    {
      "cell_type": "code",
      "execution_count": null,
      "metadata": {
        "id": "IWgq1K-AHGmS"
      },
      "outputs": [],
      "source": [
        "scan_lines_fund = gaussian_filter(scan_lines, 1/kgrid.dt, tone_burst_freq, 100)\n",
        "scan_lines_harm = gaussian_filter(scan_lines, 1/kgrid.dt, 2 * tone_burst_freq, 30)"
      ]
    },
    {
      "cell_type": "markdown",
      "metadata": {
        "id": "zF21BSmhHGmS"
      },
      "source": [
        "### Envelope Detection"
      ]
    },
    {
      "cell_type": "code",
      "execution_count": null,
      "metadata": {
        "id": "orUyE_XrHGmT"
      },
      "outputs": [],
      "source": [
        "scan_lines_fund = envelope_detection(scan_lines_fund)\n",
        "scan_lines_harm = envelope_detection(scan_lines_harm)"
      ]
    },
    {
      "cell_type": "markdown",
      "metadata": {
        "id": "7sQi_iuRHGmT"
      },
      "source": [
        "### Log Compression"
      ]
    },
    {
      "cell_type": "code",
      "execution_count": null,
      "metadata": {
        "id": "A0FQ0rF3HGmT"
      },
      "outputs": [],
      "source": [
        "compression_ratio = 3\n",
        "scan_lines_fund = log_compression(scan_lines_fund, compression_ratio, True)\n",
        "scan_lines_harm = log_compression(scan_lines_harm, compression_ratio, True)"
      ]
    },
    {
      "cell_type": "markdown",
      "metadata": {
        "id": "PqxOAXc_HGmU"
      },
      "source": [
        "### Visualization"
      ]
    },
    {
      "cell_type": "code",
      "execution_count": null,
      "metadata": {
        "id": "N7twSB98HGmU"
      },
      "outputs": [],
      "source": [
        "image_size = [kgrid.Nx * kgrid.dx, kgrid.Ny * kgrid.dy]\n",
        "image_res = [256, 256]\n",
        "\n",
        "b_mode_fund = scan_conversion(scan_lines_fund, steering_angles, image_size, c0, kgrid.dt, image_res)\n",
        "b_mode_harm = scan_conversion(scan_lines_harm, steering_angles, image_size, c0, kgrid.dt, image_res)"
      ]
    },
    {
      "cell_type": "code",
      "execution_count": null,
      "metadata": {
        "id": "1DXlT32oHGmU"
      },
      "outputs": [],
      "source": [
        "# Create the axis variables\n",
        "x_axis = [0, image_size[0] * 1e3] # [mm]\n",
        "y_axis = [0, image_size[1] * 1e3]  # [mm]"
      ]
    },
    {
      "cell_type": "code",
      "execution_count": null,
      "metadata": {
        "id": "-tBwR_LbHGmV"
      },
      "outputs": [],
      "source": [
        "plt.ion()\n",
        "plt.figure(figsize=(15, 4))\n",
        "plt.subplot(131)\n",
        "plt.imshow(scan_lines.T, aspect='auto',\n",
        "             extent=[steering_angles[-1], steering_angles[0],y_axis[1], y_axis[0] ], interpolation='none', cmap='gray')\n",
        "plt.xlabel('Steering angle [deg]')\n",
        "plt.ylabel('Depth [mm]')\n",
        "plt.title('Raw Scan-Line Data')\n",
        "\n",
        "\n",
        "plt.subplot(132)\n",
        "plt.imshow(scan_lines_fund.T, aspect='auto',\n",
        "            extent=[steering_angles[-1], steering_angles[0],y_axis[1], y_axis[0] ],  interpolation='none', cmap='bone')\n",
        "plt.xlabel('Steering angle [deg]')\n",
        "plt.ylabel('Depth [mm]')\n",
        "plt.title('Processed Scan-Line Data')\n",
        "\n",
        "plt.subplot(133)\n",
        "plt.imshow(b_mode_fund, cmap='bone', aspect='auto',  extent=[y_axis[0], y_axis[1], x_axis[1], x_axis[0]], interpolation='none')\n",
        "plt.xlabel('Horizontal Position [mm]')\n",
        "plt.ylabel('Depth [mm]')\n",
        "plt.title('B-Mode Image')"
      ]
    },
    {
      "cell_type": "code",
      "execution_count": null,
      "metadata": {
        "id": "cp2e_5muHGmV"
      },
      "outputs": [],
      "source": [
        "plt.figure(figsize=(15, 4))\n",
        "plt.subplot(131)\n",
        "plt.imshow(medium.sound_speed[..., kgrid.Nz//2], aspect='auto',\n",
        "            extent=[y_axis[0], y_axis[1], x_axis[1], x_axis[0]])\n",
        "plt.xlabel('Horizontal Position [mm]')\n",
        "plt.ylabel('Depth [mm]')\n",
        "plt.title('Scattering Phantom')\n",
        "\n",
        "plt.subplot(132)\n",
        "plt.imshow(b_mode_fund, cmap='bone', aspect='auto',  extent=[y_axis[0], y_axis[1], x_axis[1], x_axis[0]], interpolation='none')\n",
        "plt.xlabel('Horizontal Position [mm]')\n",
        "plt.ylabel('Depth [mm]')\n",
        "plt.title('B-Mode Image')\n",
        "\n",
        "plt.subplot(133)\n",
        "plt.imshow(b_mode_harm, cmap='bone', aspect='auto',  extent=[y_axis[0], y_axis[1], x_axis[1], x_axis[0]], interpolation='none')\n",
        "plt.xlabel('Horizontal Position [mm]')\n",
        "plt.ylabel('Depth [mm]')\n",
        "plt.title('Harmonic Image')\n",
        "\n",
        "plt.show()\n"
      ]
    }
  ],
  "metadata": {
    "kernelspec": {
      "display_name": "Python 3",
      "name": "python3"
    },
    "language_info": {
      "codemirror_mode": {
        "name": "ipython",
        "version": 3
      },
      "file_extension": ".py",
      "mimetype": "text/x-python",
      "name": "python",
      "nbconvert_exporter": "python",
      "pygments_lexer": "ipython3"
    },
    "colab": {
      "provenance": [],
      "gpuType": "T4",
      "include_colab_link": true
    },
    "accelerator": "GPU"
  },
  "nbformat": 4,
  "nbformat_minor": 0
}